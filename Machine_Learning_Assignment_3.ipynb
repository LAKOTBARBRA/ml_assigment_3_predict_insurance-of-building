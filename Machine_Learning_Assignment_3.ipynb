{
  "cells": [
    {
      "cell_type": "markdown",
      "source": [
        "**Machine Learning Assigment 3 : Predictive Modeling for Insurance Claims**\n",
        "\n",
        "**NAME: Barbra Lakot**\n",
        "\n",
        "**REGESTRATION NO: 2023/HD05/04677U**\n",
        "\n",
        "**STUDENT NO: 2300704677**  "
      ],
      "metadata": {
        "id": "GdGa2J8DL7NA"
      }
    },
    {
      "cell_type": "markdown",
      "source": [
        "**Objective:**\n",
        "\n",
        "Build a predictive model to determine if a building will have an insurance claim during a specific\n",
        "period using building characteristics. In this assignment, you will explore and apply four\n",
        "machine learning algorithms: Support Vector Machine (SVM), Linear Regression, k-nearest\n",
        "Neighbors (KNN), and Naive Bayes. The evaluation metric for this assignment is the Area Under\n",
        "the Curve (AUC).\n"
      ],
      "metadata": {
        "id": "kUOZ-IPzNJu_"
      }
    },
    {
      "cell_type": "markdown",
      "source": [
        "**Variable Description**\n",
        "\n",
        "Customer Id Identification number for the Policy holder\n",
        "\n",
        "YearOfObservation year of observation for the insured policy\n",
        "\n",
        "Insured_Period duration of insurance policy in Olusola Insurance. (Ex: Full year insurance, Policy Duration = 1; 6 months = 0.5\n",
        "\n",
        "Residential is the building a residential building or not\n",
        "\n",
        "Building_Painted is the building painted or not (N-Painted, V-Not Painted)\n",
        "\n",
        "Building_Fenced is the building fence or not (N-Fenced, V-Not Fenced)\n",
        "\n",
        "Garden building has garden or not (V-has garden O-no garden) Settlement Area where the building is located. (R- rural area U- urban area) Building Dimension Size of the insured building in m2\n",
        "\n",
        "Building_Type The type of building (Type 1, 2, 3, 4)\n",
        "\n",
        "Date_of_Occupancy date building was first occupied\n",
        "\n",
        "NumberOfWindows number of windows in the building\n",
        "\n",
        "Geo Code Geographical Code of the Insured building\n",
        "\n",
        "Claim target variable. (0: no claim, 1: at least one claim over insured period)."
      ],
      "metadata": {
        "id": "nt5IsbreNQj1"
      }
    },
    {
      "cell_type": "code",
      "source": [
        "from google.colab import drive\n",
        "drive.mount('/content/drive')"
      ],
      "metadata": {
        "colab": {
          "base_uri": "https://localhost:8080/"
        },
        "id": "X804YJM-kZYb",
        "outputId": "305aba7c-7322-4ab5-d6a3-95f78b5bc7e3"
      },
      "execution_count": 1,
      "outputs": [
        {
          "output_type": "stream",
          "name": "stdout",
          "text": [
            "Mounted at /content/drive\n"
          ]
        }
      ]
    },
    {
      "cell_type": "code",
      "execution_count": 2,
      "metadata": {
        "id": "_t5M5XSSOK6h"
      },
      "outputs": [],
      "source": [
        "#Importing important libraries\n",
        "import matplotlib.pyplot as plt\n",
        "import pandas as pd\n",
        "import seaborn as sns\n",
        "from sklearn.linear_model import LinearRegression\n",
        "from sklearn.metrics import mean_absolute_error\n",
        "from sklearn.utils.validation import check_is_fitted\n",
        "from sklearn.preprocessing import LabelEncoder\n",
        "from sklearn.feature_selection import SelectKBest, chi2, f_classif, mutual_info_classif\n",
        "from sklearn.metrics import confusion_matrix, accuracy_score, classification_report, ConfusionMatrixDisplay\n",
        "from sklearn import svm\n",
        "from sklearn.metrics import roc_curve, roc_auc_score\n",
        "from sklearn.metrics import RocCurveDisplay, auc\n",
        "from sklearn.metrics import classification_report\n",
        "from sklearn.svm import SVC\n",
        "from sklearn.neighbors import KNeighborsClassifier\n",
        "from sklearn.naive_bayes import GaussianNB\n",
        "from sklearn.metrics import precision_recall_curve\n",
        "from sklearn.metrics import confusion_matrix\n",
        "from sklearn.model_selection import train_test_split\n",
        "from sklearn.model_selection import GridSearchCV\n",
        "from sklearn.metrics import accuracy_score\n",
        "import warnings\n",
        "warnings.filterwarnings(\"ignore\")\n",
        "import pandas as pd\n",
        "import seaborn as sns\n",
        "#loading the training dataset\n",
        "df1 = pd.read_csv('/content/drive/MyDrive/dataset/train_data.csv')"
      ]
    },
    {
      "cell_type": "code",
      "execution_count": 3,
      "metadata": {
        "id": "KNe4nPXs0J54",
        "colab": {
          "base_uri": "https://localhost:8080/",
          "height": 243
        },
        "outputId": "d1b2b800-115b-4488-bbb1-6e0cb84e56b4"
      },
      "outputs": [
        {
          "output_type": "execute_result",
          "data": {
            "text/plain": [
              "  Customer Id  YearOfObservation  Insured_Period  Residential  \\\n",
              "0      H14663               2013             1.0            0   \n",
              "1       H2037               2015             1.0            0   \n",
              "2       H3802               2014             1.0            0   \n",
              "3       H3834               2013             1.0            0   \n",
              "4       H5053               2014             1.0            0   \n",
              "\n",
              "  Building_Painted Building_Fenced Garden Settlement  Building Dimension  \\\n",
              "0                N               V      V          U               290.0   \n",
              "1                V               N      O          R               490.0   \n",
              "2                N               V      V          U               595.0   \n",
              "3                V               V      V          U              2840.0   \n",
              "4                V               N      O          R               680.0   \n",
              "\n",
              "   Building_Type  Date_of_Occupancy NumberOfWindows Geo_Code  Claim  \n",
              "0              1             1960.0               .     1053      0  \n",
              "1              1             1850.0               4     1053      0  \n",
              "2              1             1960.0               .     1053      0  \n",
              "3              1             1960.0               .     1053      0  \n",
              "4              1             1800.0               3     1053      0  "
            ],
            "text/html": [
              "\n",
              "  <div id=\"df-355b3fe9-943e-4469-b909-3f3af1672fba\" class=\"colab-df-container\">\n",
              "    <div>\n",
              "<style scoped>\n",
              "    .dataframe tbody tr th:only-of-type {\n",
              "        vertical-align: middle;\n",
              "    }\n",
              "\n",
              "    .dataframe tbody tr th {\n",
              "        vertical-align: top;\n",
              "    }\n",
              "\n",
              "    .dataframe thead th {\n",
              "        text-align: right;\n",
              "    }\n",
              "</style>\n",
              "<table border=\"1\" class=\"dataframe\">\n",
              "  <thead>\n",
              "    <tr style=\"text-align: right;\">\n",
              "      <th></th>\n",
              "      <th>Customer Id</th>\n",
              "      <th>YearOfObservation</th>\n",
              "      <th>Insured_Period</th>\n",
              "      <th>Residential</th>\n",
              "      <th>Building_Painted</th>\n",
              "      <th>Building_Fenced</th>\n",
              "      <th>Garden</th>\n",
              "      <th>Settlement</th>\n",
              "      <th>Building Dimension</th>\n",
              "      <th>Building_Type</th>\n",
              "      <th>Date_of_Occupancy</th>\n",
              "      <th>NumberOfWindows</th>\n",
              "      <th>Geo_Code</th>\n",
              "      <th>Claim</th>\n",
              "    </tr>\n",
              "  </thead>\n",
              "  <tbody>\n",
              "    <tr>\n",
              "      <th>0</th>\n",
              "      <td>H14663</td>\n",
              "      <td>2013</td>\n",
              "      <td>1.0</td>\n",
              "      <td>0</td>\n",
              "      <td>N</td>\n",
              "      <td>V</td>\n",
              "      <td>V</td>\n",
              "      <td>U</td>\n",
              "      <td>290.0</td>\n",
              "      <td>1</td>\n",
              "      <td>1960.0</td>\n",
              "      <td>.</td>\n",
              "      <td>1053</td>\n",
              "      <td>0</td>\n",
              "    </tr>\n",
              "    <tr>\n",
              "      <th>1</th>\n",
              "      <td>H2037</td>\n",
              "      <td>2015</td>\n",
              "      <td>1.0</td>\n",
              "      <td>0</td>\n",
              "      <td>V</td>\n",
              "      <td>N</td>\n",
              "      <td>O</td>\n",
              "      <td>R</td>\n",
              "      <td>490.0</td>\n",
              "      <td>1</td>\n",
              "      <td>1850.0</td>\n",
              "      <td>4</td>\n",
              "      <td>1053</td>\n",
              "      <td>0</td>\n",
              "    </tr>\n",
              "    <tr>\n",
              "      <th>2</th>\n",
              "      <td>H3802</td>\n",
              "      <td>2014</td>\n",
              "      <td>1.0</td>\n",
              "      <td>0</td>\n",
              "      <td>N</td>\n",
              "      <td>V</td>\n",
              "      <td>V</td>\n",
              "      <td>U</td>\n",
              "      <td>595.0</td>\n",
              "      <td>1</td>\n",
              "      <td>1960.0</td>\n",
              "      <td>.</td>\n",
              "      <td>1053</td>\n",
              "      <td>0</td>\n",
              "    </tr>\n",
              "    <tr>\n",
              "      <th>3</th>\n",
              "      <td>H3834</td>\n",
              "      <td>2013</td>\n",
              "      <td>1.0</td>\n",
              "      <td>0</td>\n",
              "      <td>V</td>\n",
              "      <td>V</td>\n",
              "      <td>V</td>\n",
              "      <td>U</td>\n",
              "      <td>2840.0</td>\n",
              "      <td>1</td>\n",
              "      <td>1960.0</td>\n",
              "      <td>.</td>\n",
              "      <td>1053</td>\n",
              "      <td>0</td>\n",
              "    </tr>\n",
              "    <tr>\n",
              "      <th>4</th>\n",
              "      <td>H5053</td>\n",
              "      <td>2014</td>\n",
              "      <td>1.0</td>\n",
              "      <td>0</td>\n",
              "      <td>V</td>\n",
              "      <td>N</td>\n",
              "      <td>O</td>\n",
              "      <td>R</td>\n",
              "      <td>680.0</td>\n",
              "      <td>1</td>\n",
              "      <td>1800.0</td>\n",
              "      <td>3</td>\n",
              "      <td>1053</td>\n",
              "      <td>0</td>\n",
              "    </tr>\n",
              "  </tbody>\n",
              "</table>\n",
              "</div>\n",
              "    <div class=\"colab-df-buttons\">\n",
              "\n",
              "  <div class=\"colab-df-container\">\n",
              "    <button class=\"colab-df-convert\" onclick=\"convertToInteractive('df-355b3fe9-943e-4469-b909-3f3af1672fba')\"\n",
              "            title=\"Convert this dataframe to an interactive table.\"\n",
              "            style=\"display:none;\">\n",
              "\n",
              "  <svg xmlns=\"http://www.w3.org/2000/svg\" height=\"24px\" viewBox=\"0 -960 960 960\">\n",
              "    <path d=\"M120-120v-720h720v720H120Zm60-500h600v-160H180v160Zm220 220h160v-160H400v160Zm0 220h160v-160H400v160ZM180-400h160v-160H180v160Zm440 0h160v-160H620v160ZM180-180h160v-160H180v160Zm440 0h160v-160H620v160Z\"/>\n",
              "  </svg>\n",
              "    </button>\n",
              "\n",
              "  <style>\n",
              "    .colab-df-container {\n",
              "      display:flex;\n",
              "      gap: 12px;\n",
              "    }\n",
              "\n",
              "    .colab-df-convert {\n",
              "      background-color: #E8F0FE;\n",
              "      border: none;\n",
              "      border-radius: 50%;\n",
              "      cursor: pointer;\n",
              "      display: none;\n",
              "      fill: #1967D2;\n",
              "      height: 32px;\n",
              "      padding: 0 0 0 0;\n",
              "      width: 32px;\n",
              "    }\n",
              "\n",
              "    .colab-df-convert:hover {\n",
              "      background-color: #E2EBFA;\n",
              "      box-shadow: 0px 1px 2px rgba(60, 64, 67, 0.3), 0px 1px 3px 1px rgba(60, 64, 67, 0.15);\n",
              "      fill: #174EA6;\n",
              "    }\n",
              "\n",
              "    .colab-df-buttons div {\n",
              "      margin-bottom: 4px;\n",
              "    }\n",
              "\n",
              "    [theme=dark] .colab-df-convert {\n",
              "      background-color: #3B4455;\n",
              "      fill: #D2E3FC;\n",
              "    }\n",
              "\n",
              "    [theme=dark] .colab-df-convert:hover {\n",
              "      background-color: #434B5C;\n",
              "      box-shadow: 0px 1px 3px 1px rgba(0, 0, 0, 0.15);\n",
              "      filter: drop-shadow(0px 1px 2px rgba(0, 0, 0, 0.3));\n",
              "      fill: #FFFFFF;\n",
              "    }\n",
              "  </style>\n",
              "\n",
              "    <script>\n",
              "      const buttonEl =\n",
              "        document.querySelector('#df-355b3fe9-943e-4469-b909-3f3af1672fba button.colab-df-convert');\n",
              "      buttonEl.style.display =\n",
              "        google.colab.kernel.accessAllowed ? 'block' : 'none';\n",
              "\n",
              "      async function convertToInteractive(key) {\n",
              "        const element = document.querySelector('#df-355b3fe9-943e-4469-b909-3f3af1672fba');\n",
              "        const dataTable =\n",
              "          await google.colab.kernel.invokeFunction('convertToInteractive',\n",
              "                                                    [key], {});\n",
              "        if (!dataTable) return;\n",
              "\n",
              "        const docLinkHtml = 'Like what you see? Visit the ' +\n",
              "          '<a target=\"_blank\" href=https://colab.research.google.com/notebooks/data_table.ipynb>data table notebook</a>'\n",
              "          + ' to learn more about interactive tables.';\n",
              "        element.innerHTML = '';\n",
              "        dataTable['output_type'] = 'display_data';\n",
              "        await google.colab.output.renderOutput(dataTable, element);\n",
              "        const docLink = document.createElement('div');\n",
              "        docLink.innerHTML = docLinkHtml;\n",
              "        element.appendChild(docLink);\n",
              "      }\n",
              "    </script>\n",
              "  </div>\n",
              "\n",
              "\n",
              "<div id=\"df-35aa1fb8-162a-4f61-97df-47ee5bd59fac\">\n",
              "  <button class=\"colab-df-quickchart\" onclick=\"quickchart('df-35aa1fb8-162a-4f61-97df-47ee5bd59fac')\"\n",
              "            title=\"Suggest charts\"\n",
              "            style=\"display:none;\">\n",
              "\n",
              "<svg xmlns=\"http://www.w3.org/2000/svg\" height=\"24px\"viewBox=\"0 0 24 24\"\n",
              "     width=\"24px\">\n",
              "    <g>\n",
              "        <path d=\"M19 3H5c-1.1 0-2 .9-2 2v14c0 1.1.9 2 2 2h14c1.1 0 2-.9 2-2V5c0-1.1-.9-2-2-2zM9 17H7v-7h2v7zm4 0h-2V7h2v10zm4 0h-2v-4h2v4z\"/>\n",
              "    </g>\n",
              "</svg>\n",
              "  </button>\n",
              "\n",
              "<style>\n",
              "  .colab-df-quickchart {\n",
              "      --bg-color: #E8F0FE;\n",
              "      --fill-color: #1967D2;\n",
              "      --hover-bg-color: #E2EBFA;\n",
              "      --hover-fill-color: #174EA6;\n",
              "      --disabled-fill-color: #AAA;\n",
              "      --disabled-bg-color: #DDD;\n",
              "  }\n",
              "\n",
              "  [theme=dark] .colab-df-quickchart {\n",
              "      --bg-color: #3B4455;\n",
              "      --fill-color: #D2E3FC;\n",
              "      --hover-bg-color: #434B5C;\n",
              "      --hover-fill-color: #FFFFFF;\n",
              "      --disabled-bg-color: #3B4455;\n",
              "      --disabled-fill-color: #666;\n",
              "  }\n",
              "\n",
              "  .colab-df-quickchart {\n",
              "    background-color: var(--bg-color);\n",
              "    border: none;\n",
              "    border-radius: 50%;\n",
              "    cursor: pointer;\n",
              "    display: none;\n",
              "    fill: var(--fill-color);\n",
              "    height: 32px;\n",
              "    padding: 0;\n",
              "    width: 32px;\n",
              "  }\n",
              "\n",
              "  .colab-df-quickchart:hover {\n",
              "    background-color: var(--hover-bg-color);\n",
              "    box-shadow: 0 1px 2px rgba(60, 64, 67, 0.3), 0 1px 3px 1px rgba(60, 64, 67, 0.15);\n",
              "    fill: var(--button-hover-fill-color);\n",
              "  }\n",
              "\n",
              "  .colab-df-quickchart-complete:disabled,\n",
              "  .colab-df-quickchart-complete:disabled:hover {\n",
              "    background-color: var(--disabled-bg-color);\n",
              "    fill: var(--disabled-fill-color);\n",
              "    box-shadow: none;\n",
              "  }\n",
              "\n",
              "  .colab-df-spinner {\n",
              "    border: 2px solid var(--fill-color);\n",
              "    border-color: transparent;\n",
              "    border-bottom-color: var(--fill-color);\n",
              "    animation:\n",
              "      spin 1s steps(1) infinite;\n",
              "  }\n",
              "\n",
              "  @keyframes spin {\n",
              "    0% {\n",
              "      border-color: transparent;\n",
              "      border-bottom-color: var(--fill-color);\n",
              "      border-left-color: var(--fill-color);\n",
              "    }\n",
              "    20% {\n",
              "      border-color: transparent;\n",
              "      border-left-color: var(--fill-color);\n",
              "      border-top-color: var(--fill-color);\n",
              "    }\n",
              "    30% {\n",
              "      border-color: transparent;\n",
              "      border-left-color: var(--fill-color);\n",
              "      border-top-color: var(--fill-color);\n",
              "      border-right-color: var(--fill-color);\n",
              "    }\n",
              "    40% {\n",
              "      border-color: transparent;\n",
              "      border-right-color: var(--fill-color);\n",
              "      border-top-color: var(--fill-color);\n",
              "    }\n",
              "    60% {\n",
              "      border-color: transparent;\n",
              "      border-right-color: var(--fill-color);\n",
              "    }\n",
              "    80% {\n",
              "      border-color: transparent;\n",
              "      border-right-color: var(--fill-color);\n",
              "      border-bottom-color: var(--fill-color);\n",
              "    }\n",
              "    90% {\n",
              "      border-color: transparent;\n",
              "      border-bottom-color: var(--fill-color);\n",
              "    }\n",
              "  }\n",
              "</style>\n",
              "\n",
              "  <script>\n",
              "    async function quickchart(key) {\n",
              "      const quickchartButtonEl =\n",
              "        document.querySelector('#' + key + ' button');\n",
              "      quickchartButtonEl.disabled = true;  // To prevent multiple clicks.\n",
              "      quickchartButtonEl.classList.add('colab-df-spinner');\n",
              "      try {\n",
              "        const charts = await google.colab.kernel.invokeFunction(\n",
              "            'suggestCharts', [key], {});\n",
              "      } catch (error) {\n",
              "        console.error('Error during call to suggestCharts:', error);\n",
              "      }\n",
              "      quickchartButtonEl.classList.remove('colab-df-spinner');\n",
              "      quickchartButtonEl.classList.add('colab-df-quickchart-complete');\n",
              "    }\n",
              "    (() => {\n",
              "      let quickchartButtonEl =\n",
              "        document.querySelector('#df-35aa1fb8-162a-4f61-97df-47ee5bd59fac button');\n",
              "      quickchartButtonEl.style.display =\n",
              "        google.colab.kernel.accessAllowed ? 'block' : 'none';\n",
              "    })();\n",
              "  </script>\n",
              "</div>\n",
              "    </div>\n",
              "  </div>\n"
            ]
          },
          "metadata": {},
          "execution_count": 3
        }
      ],
      "source": [
        "#viewing the first five rows of the dataset\n",
        "df1.head()"
      ]
    },
    {
      "cell_type": "code",
      "execution_count": 4,
      "metadata": {
        "id": "vI6lBEyzF2yK",
        "colab": {
          "base_uri": "https://localhost:8080/"
        },
        "outputId": "d94115b8-fb26-44b1-a2da-dec68c74d17a"
      },
      "outputs": [
        {
          "output_type": "execute_result",
          "data": {
            "text/plain": [
              "(7160, 14)"
            ]
          },
          "metadata": {},
          "execution_count": 4
        }
      ],
      "source": [
        "#displaying the shape of the dataset\n",
        "df1.shape"
      ]
    },
    {
      "cell_type": "markdown",
      "metadata": {
        "id": "HEOMrX0dNjDy"
      },
      "source": [
        "The dataset has 7160 rows and 14 columns"
      ]
    },
    {
      "cell_type": "code",
      "execution_count": 5,
      "metadata": {
        "id": "LEDXv8EGpvbO",
        "colab": {
          "base_uri": "https://localhost:8080/"
        },
        "outputId": "f1c28888-8ba2-49ec-f9ce-6d620537ded1"
      },
      "outputs": [
        {
          "output_type": "execute_result",
          "data": {
            "text/plain": [
              "Index(['Customer Id', 'YearOfObservation', 'Insured_Period', 'Residential',\n",
              "       'Building_Painted', 'Building_Fenced', 'Garden', 'Settlement',\n",
              "       'Building Dimension', 'Building_Type', 'Date_of_Occupancy',\n",
              "       'NumberOfWindows', 'Geo_Code', 'Claim'],\n",
              "      dtype='object')"
            ]
          },
          "metadata": {},
          "execution_count": 5
        }
      ],
      "source": [
        "#displaying the columns in the dataset\n",
        "df1.columns"
      ]
    },
    {
      "cell_type": "code",
      "execution_count": 6,
      "metadata": {
        "id": "Qrd71gTlUeC6",
        "colab": {
          "base_uri": "https://localhost:8080/"
        },
        "outputId": "ae19b55f-130a-454f-f286-a41756712d77"
      },
      "outputs": [
        {
          "output_type": "stream",
          "name": "stdout",
          "text": [
            "<class 'pandas.core.frame.DataFrame'>\n",
            "RangeIndex: 7160 entries, 0 to 7159\n",
            "Data columns (total 14 columns):\n",
            " #   Column              Non-Null Count  Dtype  \n",
            "---  ------              --------------  -----  \n",
            " 0   Customer Id         7160 non-null   object \n",
            " 1   YearOfObservation   7160 non-null   int64  \n",
            " 2   Insured_Period      7160 non-null   float64\n",
            " 3   Residential         7160 non-null   int64  \n",
            " 4   Building_Painted    7160 non-null   object \n",
            " 5   Building_Fenced     7160 non-null   object \n",
            " 6   Garden              7153 non-null   object \n",
            " 7   Settlement          7160 non-null   object \n",
            " 8   Building Dimension  7054 non-null   float64\n",
            " 9   Building_Type       7160 non-null   int64  \n",
            " 10  Date_of_Occupancy   6652 non-null   float64\n",
            " 11  NumberOfWindows     7160 non-null   object \n",
            " 12  Geo_Code            7058 non-null   object \n",
            " 13  Claim               7160 non-null   int64  \n",
            "dtypes: float64(3), int64(4), object(7)\n",
            "memory usage: 783.2+ KB\n"
          ]
        }
      ],
      "source": [
        "#displaying the datatype\n",
        "df1.info()"
      ]
    },
    {
      "cell_type": "markdown",
      "metadata": {
        "id": "of-kaufOX22Z"
      },
      "source": [
        "This shows that out of the 14 columns, 3 contains float datatype, 4 has integer and 7 columns conatin strings as a datatype and that means there need for encoding the categorical variables"
      ]
    },
    {
      "cell_type": "code",
      "execution_count": 7,
      "metadata": {
        "id": "dMhQQgeCXtJf",
        "colab": {
          "base_uri": "https://localhost:8080/",
          "height": 337
        },
        "outputId": "823adb29-f2eb-4633-fbfb-cb4e6cdcd3f4"
      },
      "outputs": [
        {
          "output_type": "execute_result",
          "data": {
            "text/plain": [
              "       YearOfObservation  Insured_Period  Residential  Building Dimension  \\\n",
              "count        7160.000000     7160.000000  7160.000000         7054.000000   \n",
              "mean         2013.669553        0.909758     0.305447         1883.727530   \n",
              "std             1.383769        0.239756     0.460629         2278.157745   \n",
              "min          2012.000000        0.000000     0.000000            1.000000   \n",
              "25%          2012.000000        0.997268     0.000000          528.000000   \n",
              "50%          2013.000000        1.000000     0.000000         1083.000000   \n",
              "75%          2015.000000        1.000000     1.000000         2289.750000   \n",
              "max          2016.000000        1.000000     1.000000        20940.000000   \n",
              "\n",
              "       Building_Type  Date_of_Occupancy        Claim  \n",
              "count    7160.000000        6652.000000  7160.000000  \n",
              "mean        2.186034        1964.456404     0.228212  \n",
              "std         0.940632          36.002014     0.419709  \n",
              "min         1.000000        1545.000000     0.000000  \n",
              "25%         2.000000        1960.000000     0.000000  \n",
              "50%         2.000000        1970.000000     0.000000  \n",
              "75%         3.000000        1980.000000     0.000000  \n",
              "max         4.000000        2016.000000     1.000000  "
            ],
            "text/html": [
              "\n",
              "  <div id=\"df-27315a0b-31f3-4e2e-9d51-46e4fbd073b0\" class=\"colab-df-container\">\n",
              "    <div>\n",
              "<style scoped>\n",
              "    .dataframe tbody tr th:only-of-type {\n",
              "        vertical-align: middle;\n",
              "    }\n",
              "\n",
              "    .dataframe tbody tr th {\n",
              "        vertical-align: top;\n",
              "    }\n",
              "\n",
              "    .dataframe thead th {\n",
              "        text-align: right;\n",
              "    }\n",
              "</style>\n",
              "<table border=\"1\" class=\"dataframe\">\n",
              "  <thead>\n",
              "    <tr style=\"text-align: right;\">\n",
              "      <th></th>\n",
              "      <th>YearOfObservation</th>\n",
              "      <th>Insured_Period</th>\n",
              "      <th>Residential</th>\n",
              "      <th>Building Dimension</th>\n",
              "      <th>Building_Type</th>\n",
              "      <th>Date_of_Occupancy</th>\n",
              "      <th>Claim</th>\n",
              "    </tr>\n",
              "  </thead>\n",
              "  <tbody>\n",
              "    <tr>\n",
              "      <th>count</th>\n",
              "      <td>7160.000000</td>\n",
              "      <td>7160.000000</td>\n",
              "      <td>7160.000000</td>\n",
              "      <td>7054.000000</td>\n",
              "      <td>7160.000000</td>\n",
              "      <td>6652.000000</td>\n",
              "      <td>7160.000000</td>\n",
              "    </tr>\n",
              "    <tr>\n",
              "      <th>mean</th>\n",
              "      <td>2013.669553</td>\n",
              "      <td>0.909758</td>\n",
              "      <td>0.305447</td>\n",
              "      <td>1883.727530</td>\n",
              "      <td>2.186034</td>\n",
              "      <td>1964.456404</td>\n",
              "      <td>0.228212</td>\n",
              "    </tr>\n",
              "    <tr>\n",
              "      <th>std</th>\n",
              "      <td>1.383769</td>\n",
              "      <td>0.239756</td>\n",
              "      <td>0.460629</td>\n",
              "      <td>2278.157745</td>\n",
              "      <td>0.940632</td>\n",
              "      <td>36.002014</td>\n",
              "      <td>0.419709</td>\n",
              "    </tr>\n",
              "    <tr>\n",
              "      <th>min</th>\n",
              "      <td>2012.000000</td>\n",
              "      <td>0.000000</td>\n",
              "      <td>0.000000</td>\n",
              "      <td>1.000000</td>\n",
              "      <td>1.000000</td>\n",
              "      <td>1545.000000</td>\n",
              "      <td>0.000000</td>\n",
              "    </tr>\n",
              "    <tr>\n",
              "      <th>25%</th>\n",
              "      <td>2012.000000</td>\n",
              "      <td>0.997268</td>\n",
              "      <td>0.000000</td>\n",
              "      <td>528.000000</td>\n",
              "      <td>2.000000</td>\n",
              "      <td>1960.000000</td>\n",
              "      <td>0.000000</td>\n",
              "    </tr>\n",
              "    <tr>\n",
              "      <th>50%</th>\n",
              "      <td>2013.000000</td>\n",
              "      <td>1.000000</td>\n",
              "      <td>0.000000</td>\n",
              "      <td>1083.000000</td>\n",
              "      <td>2.000000</td>\n",
              "      <td>1970.000000</td>\n",
              "      <td>0.000000</td>\n",
              "    </tr>\n",
              "    <tr>\n",
              "      <th>75%</th>\n",
              "      <td>2015.000000</td>\n",
              "      <td>1.000000</td>\n",
              "      <td>1.000000</td>\n",
              "      <td>2289.750000</td>\n",
              "      <td>3.000000</td>\n",
              "      <td>1980.000000</td>\n",
              "      <td>0.000000</td>\n",
              "    </tr>\n",
              "    <tr>\n",
              "      <th>max</th>\n",
              "      <td>2016.000000</td>\n",
              "      <td>1.000000</td>\n",
              "      <td>1.000000</td>\n",
              "      <td>20940.000000</td>\n",
              "      <td>4.000000</td>\n",
              "      <td>2016.000000</td>\n",
              "      <td>1.000000</td>\n",
              "    </tr>\n",
              "  </tbody>\n",
              "</table>\n",
              "</div>\n",
              "    <div class=\"colab-df-buttons\">\n",
              "\n",
              "  <div class=\"colab-df-container\">\n",
              "    <button class=\"colab-df-convert\" onclick=\"convertToInteractive('df-27315a0b-31f3-4e2e-9d51-46e4fbd073b0')\"\n",
              "            title=\"Convert this dataframe to an interactive table.\"\n",
              "            style=\"display:none;\">\n",
              "\n",
              "  <svg xmlns=\"http://www.w3.org/2000/svg\" height=\"24px\" viewBox=\"0 -960 960 960\">\n",
              "    <path d=\"M120-120v-720h720v720H120Zm60-500h600v-160H180v160Zm220 220h160v-160H400v160Zm0 220h160v-160H400v160ZM180-400h160v-160H180v160Zm440 0h160v-160H620v160ZM180-180h160v-160H180v160Zm440 0h160v-160H620v160Z\"/>\n",
              "  </svg>\n",
              "    </button>\n",
              "\n",
              "  <style>\n",
              "    .colab-df-container {\n",
              "      display:flex;\n",
              "      gap: 12px;\n",
              "    }\n",
              "\n",
              "    .colab-df-convert {\n",
              "      background-color: #E8F0FE;\n",
              "      border: none;\n",
              "      border-radius: 50%;\n",
              "      cursor: pointer;\n",
              "      display: none;\n",
              "      fill: #1967D2;\n",
              "      height: 32px;\n",
              "      padding: 0 0 0 0;\n",
              "      width: 32px;\n",
              "    }\n",
              "\n",
              "    .colab-df-convert:hover {\n",
              "      background-color: #E2EBFA;\n",
              "      box-shadow: 0px 1px 2px rgba(60, 64, 67, 0.3), 0px 1px 3px 1px rgba(60, 64, 67, 0.15);\n",
              "      fill: #174EA6;\n",
              "    }\n",
              "\n",
              "    .colab-df-buttons div {\n",
              "      margin-bottom: 4px;\n",
              "    }\n",
              "\n",
              "    [theme=dark] .colab-df-convert {\n",
              "      background-color: #3B4455;\n",
              "      fill: #D2E3FC;\n",
              "    }\n",
              "\n",
              "    [theme=dark] .colab-df-convert:hover {\n",
              "      background-color: #434B5C;\n",
              "      box-shadow: 0px 1px 3px 1px rgba(0, 0, 0, 0.15);\n",
              "      filter: drop-shadow(0px 1px 2px rgba(0, 0, 0, 0.3));\n",
              "      fill: #FFFFFF;\n",
              "    }\n",
              "  </style>\n",
              "\n",
              "    <script>\n",
              "      const buttonEl =\n",
              "        document.querySelector('#df-27315a0b-31f3-4e2e-9d51-46e4fbd073b0 button.colab-df-convert');\n",
              "      buttonEl.style.display =\n",
              "        google.colab.kernel.accessAllowed ? 'block' : 'none';\n",
              "\n",
              "      async function convertToInteractive(key) {\n",
              "        const element = document.querySelector('#df-27315a0b-31f3-4e2e-9d51-46e4fbd073b0');\n",
              "        const dataTable =\n",
              "          await google.colab.kernel.invokeFunction('convertToInteractive',\n",
              "                                                    [key], {});\n",
              "        if (!dataTable) return;\n",
              "\n",
              "        const docLinkHtml = 'Like what you see? Visit the ' +\n",
              "          '<a target=\"_blank\" href=https://colab.research.google.com/notebooks/data_table.ipynb>data table notebook</a>'\n",
              "          + ' to learn more about interactive tables.';\n",
              "        element.innerHTML = '';\n",
              "        dataTable['output_type'] = 'display_data';\n",
              "        await google.colab.output.renderOutput(dataTable, element);\n",
              "        const docLink = document.createElement('div');\n",
              "        docLink.innerHTML = docLinkHtml;\n",
              "        element.appendChild(docLink);\n",
              "      }\n",
              "    </script>\n",
              "  </div>\n",
              "\n",
              "\n",
              "<div id=\"df-62cf501a-8460-4d45-a483-fdf5de6c0503\">\n",
              "  <button class=\"colab-df-quickchart\" onclick=\"quickchart('df-62cf501a-8460-4d45-a483-fdf5de6c0503')\"\n",
              "            title=\"Suggest charts\"\n",
              "            style=\"display:none;\">\n",
              "\n",
              "<svg xmlns=\"http://www.w3.org/2000/svg\" height=\"24px\"viewBox=\"0 0 24 24\"\n",
              "     width=\"24px\">\n",
              "    <g>\n",
              "        <path d=\"M19 3H5c-1.1 0-2 .9-2 2v14c0 1.1.9 2 2 2h14c1.1 0 2-.9 2-2V5c0-1.1-.9-2-2-2zM9 17H7v-7h2v7zm4 0h-2V7h2v10zm4 0h-2v-4h2v4z\"/>\n",
              "    </g>\n",
              "</svg>\n",
              "  </button>\n",
              "\n",
              "<style>\n",
              "  .colab-df-quickchart {\n",
              "      --bg-color: #E8F0FE;\n",
              "      --fill-color: #1967D2;\n",
              "      --hover-bg-color: #E2EBFA;\n",
              "      --hover-fill-color: #174EA6;\n",
              "      --disabled-fill-color: #AAA;\n",
              "      --disabled-bg-color: #DDD;\n",
              "  }\n",
              "\n",
              "  [theme=dark] .colab-df-quickchart {\n",
              "      --bg-color: #3B4455;\n",
              "      --fill-color: #D2E3FC;\n",
              "      --hover-bg-color: #434B5C;\n",
              "      --hover-fill-color: #FFFFFF;\n",
              "      --disabled-bg-color: #3B4455;\n",
              "      --disabled-fill-color: #666;\n",
              "  }\n",
              "\n",
              "  .colab-df-quickchart {\n",
              "    background-color: var(--bg-color);\n",
              "    border: none;\n",
              "    border-radius: 50%;\n",
              "    cursor: pointer;\n",
              "    display: none;\n",
              "    fill: var(--fill-color);\n",
              "    height: 32px;\n",
              "    padding: 0;\n",
              "    width: 32px;\n",
              "  }\n",
              "\n",
              "  .colab-df-quickchart:hover {\n",
              "    background-color: var(--hover-bg-color);\n",
              "    box-shadow: 0 1px 2px rgba(60, 64, 67, 0.3), 0 1px 3px 1px rgba(60, 64, 67, 0.15);\n",
              "    fill: var(--button-hover-fill-color);\n",
              "  }\n",
              "\n",
              "  .colab-df-quickchart-complete:disabled,\n",
              "  .colab-df-quickchart-complete:disabled:hover {\n",
              "    background-color: var(--disabled-bg-color);\n",
              "    fill: var(--disabled-fill-color);\n",
              "    box-shadow: none;\n",
              "  }\n",
              "\n",
              "  .colab-df-spinner {\n",
              "    border: 2px solid var(--fill-color);\n",
              "    border-color: transparent;\n",
              "    border-bottom-color: var(--fill-color);\n",
              "    animation:\n",
              "      spin 1s steps(1) infinite;\n",
              "  }\n",
              "\n",
              "  @keyframes spin {\n",
              "    0% {\n",
              "      border-color: transparent;\n",
              "      border-bottom-color: var(--fill-color);\n",
              "      border-left-color: var(--fill-color);\n",
              "    }\n",
              "    20% {\n",
              "      border-color: transparent;\n",
              "      border-left-color: var(--fill-color);\n",
              "      border-top-color: var(--fill-color);\n",
              "    }\n",
              "    30% {\n",
              "      border-color: transparent;\n",
              "      border-left-color: var(--fill-color);\n",
              "      border-top-color: var(--fill-color);\n",
              "      border-right-color: var(--fill-color);\n",
              "    }\n",
              "    40% {\n",
              "      border-color: transparent;\n",
              "      border-right-color: var(--fill-color);\n",
              "      border-top-color: var(--fill-color);\n",
              "    }\n",
              "    60% {\n",
              "      border-color: transparent;\n",
              "      border-right-color: var(--fill-color);\n",
              "    }\n",
              "    80% {\n",
              "      border-color: transparent;\n",
              "      border-right-color: var(--fill-color);\n",
              "      border-bottom-color: var(--fill-color);\n",
              "    }\n",
              "    90% {\n",
              "      border-color: transparent;\n",
              "      border-bottom-color: var(--fill-color);\n",
              "    }\n",
              "  }\n",
              "</style>\n",
              "\n",
              "  <script>\n",
              "    async function quickchart(key) {\n",
              "      const quickchartButtonEl =\n",
              "        document.querySelector('#' + key + ' button');\n",
              "      quickchartButtonEl.disabled = true;  // To prevent multiple clicks.\n",
              "      quickchartButtonEl.classList.add('colab-df-spinner');\n",
              "      try {\n",
              "        const charts = await google.colab.kernel.invokeFunction(\n",
              "            'suggestCharts', [key], {});\n",
              "      } catch (error) {\n",
              "        console.error('Error during call to suggestCharts:', error);\n",
              "      }\n",
              "      quickchartButtonEl.classList.remove('colab-df-spinner');\n",
              "      quickchartButtonEl.classList.add('colab-df-quickchart-complete');\n",
              "    }\n",
              "    (() => {\n",
              "      let quickchartButtonEl =\n",
              "        document.querySelector('#df-62cf501a-8460-4d45-a483-fdf5de6c0503 button');\n",
              "      quickchartButtonEl.style.display =\n",
              "        google.colab.kernel.accessAllowed ? 'block' : 'none';\n",
              "    })();\n",
              "  </script>\n",
              "</div>\n",
              "    </div>\n",
              "  </div>\n"
            ]
          },
          "metadata": {},
          "execution_count": 7
        }
      ],
      "source": [
        "#displaying basic key statistics\n",
        "df1.describe()"
      ]
    },
    {
      "cell_type": "code",
      "execution_count": 8,
      "metadata": {
        "id": "BlnyRFlKOp-t",
        "colab": {
          "base_uri": "https://localhost:8080/",
          "height": 174
        },
        "outputId": "ab5fd958-ddbe-47a6-dd5c-e43405cbd251"
      },
      "outputs": [
        {
          "output_type": "execute_result",
          "data": {
            "text/plain": [
              "       Customer Id Building_Painted Building_Fenced Garden Settlement  \\\n",
              "count         7160             7160            7160   7153       7160   \n",
              "unique        7160                2               2      2          2   \n",
              "top         H14663                V               N      O          R   \n",
              "freq             1             5382            3608   3602       3610   \n",
              "\n",
              "       NumberOfWindows Geo_Code  \n",
              "count             7160     7058  \n",
              "unique              11     1307  \n",
              "top                  .     6088  \n",
              "freq              3551      143  "
            ],
            "text/html": [
              "\n",
              "  <div id=\"df-5ee8b17e-05b7-4ad4-a200-fa9cc725b3dd\" class=\"colab-df-container\">\n",
              "    <div>\n",
              "<style scoped>\n",
              "    .dataframe tbody tr th:only-of-type {\n",
              "        vertical-align: middle;\n",
              "    }\n",
              "\n",
              "    .dataframe tbody tr th {\n",
              "        vertical-align: top;\n",
              "    }\n",
              "\n",
              "    .dataframe thead th {\n",
              "        text-align: right;\n",
              "    }\n",
              "</style>\n",
              "<table border=\"1\" class=\"dataframe\">\n",
              "  <thead>\n",
              "    <tr style=\"text-align: right;\">\n",
              "      <th></th>\n",
              "      <th>Customer Id</th>\n",
              "      <th>Building_Painted</th>\n",
              "      <th>Building_Fenced</th>\n",
              "      <th>Garden</th>\n",
              "      <th>Settlement</th>\n",
              "      <th>NumberOfWindows</th>\n",
              "      <th>Geo_Code</th>\n",
              "    </tr>\n",
              "  </thead>\n",
              "  <tbody>\n",
              "    <tr>\n",
              "      <th>count</th>\n",
              "      <td>7160</td>\n",
              "      <td>7160</td>\n",
              "      <td>7160</td>\n",
              "      <td>7153</td>\n",
              "      <td>7160</td>\n",
              "      <td>7160</td>\n",
              "      <td>7058</td>\n",
              "    </tr>\n",
              "    <tr>\n",
              "      <th>unique</th>\n",
              "      <td>7160</td>\n",
              "      <td>2</td>\n",
              "      <td>2</td>\n",
              "      <td>2</td>\n",
              "      <td>2</td>\n",
              "      <td>11</td>\n",
              "      <td>1307</td>\n",
              "    </tr>\n",
              "    <tr>\n",
              "      <th>top</th>\n",
              "      <td>H14663</td>\n",
              "      <td>V</td>\n",
              "      <td>N</td>\n",
              "      <td>O</td>\n",
              "      <td>R</td>\n",
              "      <td>.</td>\n",
              "      <td>6088</td>\n",
              "    </tr>\n",
              "    <tr>\n",
              "      <th>freq</th>\n",
              "      <td>1</td>\n",
              "      <td>5382</td>\n",
              "      <td>3608</td>\n",
              "      <td>3602</td>\n",
              "      <td>3610</td>\n",
              "      <td>3551</td>\n",
              "      <td>143</td>\n",
              "    </tr>\n",
              "  </tbody>\n",
              "</table>\n",
              "</div>\n",
              "    <div class=\"colab-df-buttons\">\n",
              "\n",
              "  <div class=\"colab-df-container\">\n",
              "    <button class=\"colab-df-convert\" onclick=\"convertToInteractive('df-5ee8b17e-05b7-4ad4-a200-fa9cc725b3dd')\"\n",
              "            title=\"Convert this dataframe to an interactive table.\"\n",
              "            style=\"display:none;\">\n",
              "\n",
              "  <svg xmlns=\"http://www.w3.org/2000/svg\" height=\"24px\" viewBox=\"0 -960 960 960\">\n",
              "    <path d=\"M120-120v-720h720v720H120Zm60-500h600v-160H180v160Zm220 220h160v-160H400v160Zm0 220h160v-160H400v160ZM180-400h160v-160H180v160Zm440 0h160v-160H620v160ZM180-180h160v-160H180v160Zm440 0h160v-160H620v160Z\"/>\n",
              "  </svg>\n",
              "    </button>\n",
              "\n",
              "  <style>\n",
              "    .colab-df-container {\n",
              "      display:flex;\n",
              "      gap: 12px;\n",
              "    }\n",
              "\n",
              "    .colab-df-convert {\n",
              "      background-color: #E8F0FE;\n",
              "      border: none;\n",
              "      border-radius: 50%;\n",
              "      cursor: pointer;\n",
              "      display: none;\n",
              "      fill: #1967D2;\n",
              "      height: 32px;\n",
              "      padding: 0 0 0 0;\n",
              "      width: 32px;\n",
              "    }\n",
              "\n",
              "    .colab-df-convert:hover {\n",
              "      background-color: #E2EBFA;\n",
              "      box-shadow: 0px 1px 2px rgba(60, 64, 67, 0.3), 0px 1px 3px 1px rgba(60, 64, 67, 0.15);\n",
              "      fill: #174EA6;\n",
              "    }\n",
              "\n",
              "    .colab-df-buttons div {\n",
              "      margin-bottom: 4px;\n",
              "    }\n",
              "\n",
              "    [theme=dark] .colab-df-convert {\n",
              "      background-color: #3B4455;\n",
              "      fill: #D2E3FC;\n",
              "    }\n",
              "\n",
              "    [theme=dark] .colab-df-convert:hover {\n",
              "      background-color: #434B5C;\n",
              "      box-shadow: 0px 1px 3px 1px rgba(0, 0, 0, 0.15);\n",
              "      filter: drop-shadow(0px 1px 2px rgba(0, 0, 0, 0.3));\n",
              "      fill: #FFFFFF;\n",
              "    }\n",
              "  </style>\n",
              "\n",
              "    <script>\n",
              "      const buttonEl =\n",
              "        document.querySelector('#df-5ee8b17e-05b7-4ad4-a200-fa9cc725b3dd button.colab-df-convert');\n",
              "      buttonEl.style.display =\n",
              "        google.colab.kernel.accessAllowed ? 'block' : 'none';\n",
              "\n",
              "      async function convertToInteractive(key) {\n",
              "        const element = document.querySelector('#df-5ee8b17e-05b7-4ad4-a200-fa9cc725b3dd');\n",
              "        const dataTable =\n",
              "          await google.colab.kernel.invokeFunction('convertToInteractive',\n",
              "                                                    [key], {});\n",
              "        if (!dataTable) return;\n",
              "\n",
              "        const docLinkHtml = 'Like what you see? Visit the ' +\n",
              "          '<a target=\"_blank\" href=https://colab.research.google.com/notebooks/data_table.ipynb>data table notebook</a>'\n",
              "          + ' to learn more about interactive tables.';\n",
              "        element.innerHTML = '';\n",
              "        dataTable['output_type'] = 'display_data';\n",
              "        await google.colab.output.renderOutput(dataTable, element);\n",
              "        const docLink = document.createElement('div');\n",
              "        docLink.innerHTML = docLinkHtml;\n",
              "        element.appendChild(docLink);\n",
              "      }\n",
              "    </script>\n",
              "  </div>\n",
              "\n",
              "\n",
              "<div id=\"df-ee3d83d3-7f47-4f5a-b37f-24685eab97da\">\n",
              "  <button class=\"colab-df-quickchart\" onclick=\"quickchart('df-ee3d83d3-7f47-4f5a-b37f-24685eab97da')\"\n",
              "            title=\"Suggest charts\"\n",
              "            style=\"display:none;\">\n",
              "\n",
              "<svg xmlns=\"http://www.w3.org/2000/svg\" height=\"24px\"viewBox=\"0 0 24 24\"\n",
              "     width=\"24px\">\n",
              "    <g>\n",
              "        <path d=\"M19 3H5c-1.1 0-2 .9-2 2v14c0 1.1.9 2 2 2h14c1.1 0 2-.9 2-2V5c0-1.1-.9-2-2-2zM9 17H7v-7h2v7zm4 0h-2V7h2v10zm4 0h-2v-4h2v4z\"/>\n",
              "    </g>\n",
              "</svg>\n",
              "  </button>\n",
              "\n",
              "<style>\n",
              "  .colab-df-quickchart {\n",
              "      --bg-color: #E8F0FE;\n",
              "      --fill-color: #1967D2;\n",
              "      --hover-bg-color: #E2EBFA;\n",
              "      --hover-fill-color: #174EA6;\n",
              "      --disabled-fill-color: #AAA;\n",
              "      --disabled-bg-color: #DDD;\n",
              "  }\n",
              "\n",
              "  [theme=dark] .colab-df-quickchart {\n",
              "      --bg-color: #3B4455;\n",
              "      --fill-color: #D2E3FC;\n",
              "      --hover-bg-color: #434B5C;\n",
              "      --hover-fill-color: #FFFFFF;\n",
              "      --disabled-bg-color: #3B4455;\n",
              "      --disabled-fill-color: #666;\n",
              "  }\n",
              "\n",
              "  .colab-df-quickchart {\n",
              "    background-color: var(--bg-color);\n",
              "    border: none;\n",
              "    border-radius: 50%;\n",
              "    cursor: pointer;\n",
              "    display: none;\n",
              "    fill: var(--fill-color);\n",
              "    height: 32px;\n",
              "    padding: 0;\n",
              "    width: 32px;\n",
              "  }\n",
              "\n",
              "  .colab-df-quickchart:hover {\n",
              "    background-color: var(--hover-bg-color);\n",
              "    box-shadow: 0 1px 2px rgba(60, 64, 67, 0.3), 0 1px 3px 1px rgba(60, 64, 67, 0.15);\n",
              "    fill: var(--button-hover-fill-color);\n",
              "  }\n",
              "\n",
              "  .colab-df-quickchart-complete:disabled,\n",
              "  .colab-df-quickchart-complete:disabled:hover {\n",
              "    background-color: var(--disabled-bg-color);\n",
              "    fill: var(--disabled-fill-color);\n",
              "    box-shadow: none;\n",
              "  }\n",
              "\n",
              "  .colab-df-spinner {\n",
              "    border: 2px solid var(--fill-color);\n",
              "    border-color: transparent;\n",
              "    border-bottom-color: var(--fill-color);\n",
              "    animation:\n",
              "      spin 1s steps(1) infinite;\n",
              "  }\n",
              "\n",
              "  @keyframes spin {\n",
              "    0% {\n",
              "      border-color: transparent;\n",
              "      border-bottom-color: var(--fill-color);\n",
              "      border-left-color: var(--fill-color);\n",
              "    }\n",
              "    20% {\n",
              "      border-color: transparent;\n",
              "      border-left-color: var(--fill-color);\n",
              "      border-top-color: var(--fill-color);\n",
              "    }\n",
              "    30% {\n",
              "      border-color: transparent;\n",
              "      border-left-color: var(--fill-color);\n",
              "      border-top-color: var(--fill-color);\n",
              "      border-right-color: var(--fill-color);\n",
              "    }\n",
              "    40% {\n",
              "      border-color: transparent;\n",
              "      border-right-color: var(--fill-color);\n",
              "      border-top-color: var(--fill-color);\n",
              "    }\n",
              "    60% {\n",
              "      border-color: transparent;\n",
              "      border-right-color: var(--fill-color);\n",
              "    }\n",
              "    80% {\n",
              "      border-color: transparent;\n",
              "      border-right-color: var(--fill-color);\n",
              "      border-bottom-color: var(--fill-color);\n",
              "    }\n",
              "    90% {\n",
              "      border-color: transparent;\n",
              "      border-bottom-color: var(--fill-color);\n",
              "    }\n",
              "  }\n",
              "</style>\n",
              "\n",
              "  <script>\n",
              "    async function quickchart(key) {\n",
              "      const quickchartButtonEl =\n",
              "        document.querySelector('#' + key + ' button');\n",
              "      quickchartButtonEl.disabled = true;  // To prevent multiple clicks.\n",
              "      quickchartButtonEl.classList.add('colab-df-spinner');\n",
              "      try {\n",
              "        const charts = await google.colab.kernel.invokeFunction(\n",
              "            'suggestCharts', [key], {});\n",
              "      } catch (error) {\n",
              "        console.error('Error during call to suggestCharts:', error);\n",
              "      }\n",
              "      quickchartButtonEl.classList.remove('colab-df-spinner');\n",
              "      quickchartButtonEl.classList.add('colab-df-quickchart-complete');\n",
              "    }\n",
              "    (() => {\n",
              "      let quickchartButtonEl =\n",
              "        document.querySelector('#df-ee3d83d3-7f47-4f5a-b37f-24685eab97da button');\n",
              "      quickchartButtonEl.style.display =\n",
              "        google.colab.kernel.accessAllowed ? 'block' : 'none';\n",
              "    })();\n",
              "  </script>\n",
              "</div>\n",
              "    </div>\n",
              "  </div>\n"
            ]
          },
          "metadata": {},
          "execution_count": 8
        }
      ],
      "source": [
        "#displaying basic key statistics\n",
        "df1.describe(include=object)"
      ]
    },
    {
      "cell_type": "code",
      "execution_count": 9,
      "metadata": {
        "id": "34QnV8swqmEa",
        "colab": {
          "base_uri": "https://localhost:8080/"
        },
        "outputId": "ae9e8321-1806-412a-c3d4-5e8128092bf0"
      },
      "outputs": [
        {
          "output_type": "execute_result",
          "data": {
            "text/plain": [
              "Customer Id             0\n",
              "YearOfObservation       0\n",
              "Insured_Period          0\n",
              "Residential             0\n",
              "Building_Painted        0\n",
              "Building_Fenced         0\n",
              "Garden                  7\n",
              "Settlement              0\n",
              "Building Dimension    106\n",
              "Building_Type           0\n",
              "Date_of_Occupancy     508\n",
              "NumberOfWindows         0\n",
              "Geo_Code              102\n",
              "Claim                   0\n",
              "dtype: int64"
            ]
          },
          "metadata": {},
          "execution_count": 9
        }
      ],
      "source": [
        "#checking for missing values in the dataset\n",
        "df1.isna().sum()"
      ]
    },
    {
      "cell_type": "markdown",
      "metadata": {
        "id": "N-oiZw2o0h3d"
      },
      "source": [
        "The variable Garden has 7 missing values, Building Dimension has 106, Date_of_occupancy has 508 and Geo_code has 102 missing values.\n"
      ]
    },
    {
      "cell_type": "code",
      "execution_count": 10,
      "metadata": {
        "id": "xQYzdHrAqmHd",
        "colab": {
          "base_uri": "https://localhost:8080/"
        },
        "outputId": "4d76a063-c51a-4369-d4ac-27647ecaa938"
      },
      "outputs": [
        {
          "output_type": "stream",
          "name": "stdout",
          "text": [
            "<class 'pandas.core.frame.DataFrame'>\n",
            "RangeIndex: 7160 entries, 0 to 7159\n",
            "Data columns (total 14 columns):\n",
            " #   Column              Non-Null Count  Dtype  \n",
            "---  ------              --------------  -----  \n",
            " 0   Customer Id         7160 non-null   object \n",
            " 1   YearOfObservation   7160 non-null   int64  \n",
            " 2   Insured_Period      7160 non-null   float64\n",
            " 3   Residential         7160 non-null   int64  \n",
            " 4   Building_Painted    7160 non-null   object \n",
            " 5   Building_Fenced     7160 non-null   object \n",
            " 6   Garden              7160 non-null   object \n",
            " 7   Settlement          7160 non-null   object \n",
            " 8   Building Dimension  7160 non-null   float64\n",
            " 9   Building_Type       7160 non-null   int64  \n",
            " 10  Date_of_Occupancy   7160 non-null   float64\n",
            " 11  NumberOfWindows     7160 non-null   object \n",
            " 12  Geo_Code            7160 non-null   object \n",
            " 13  Claim               7160 non-null   int64  \n",
            "dtypes: float64(3), int64(4), object(7)\n",
            "memory usage: 783.2+ KB\n"
          ]
        }
      ],
      "source": [
        "#Handling the missing values using imputation since the dataset is small\n",
        "#we shall use the median for numerical and mode for categorical variables for filling the missing values\n",
        "df1 = df1\n",
        "df1['Building Dimension']=df1['Building Dimension'].fillna(df1['Building Dimension'].median())\n",
        "df1['Date_of_Occupancy']=df1['Date_of_Occupancy'].fillna(df1['Date_of_Occupancy'].median())\n",
        "df1['Garden']=df1['Garden'].fillna(df1['Garden'].mode().iloc[0])\n",
        "df1['Geo_Code'] = df1['Geo_Code'].fillna(df1['Geo_Code'].mode().iloc[0])\n",
        "df1.info()"
      ]
    },
    {
      "cell_type": "markdown",
      "metadata": {
        "id": "0W8UcjhEtNFB"
      },
      "source": [
        "This shows that all the missing values have been handled since all variables have total count of 7160"
      ]
    },
    {
      "cell_type": "markdown",
      "metadata": {
        "id": "1BJH2ETwXr7Y"
      },
      "source": [
        "## **Distribution of the train data**"
      ]
    },
    {
      "cell_type": "code",
      "execution_count": 11,
      "metadata": {
        "id": "6_MHPuSmYaBU",
        "colab": {
          "base_uri": "https://localhost:8080/"
        },
        "outputId": "48ec9317-d0ba-4987-f781-91bcb11e30c2"
      },
      "outputs": [
        {
          "output_type": "execute_result",
          "data": {
            "text/plain": [
              "Index(['Customer Id', 'YearOfObservation', 'Insured_Period', 'Residential',\n",
              "       'Building_Painted', 'Building_Fenced', 'Garden', 'Settlement',\n",
              "       'Building Dimension', 'Building_Type', 'Date_of_Occupancy',\n",
              "       'NumberOfWindows', 'Geo_Code', 'Claim'],\n",
              "      dtype='object')"
            ]
          },
          "metadata": {},
          "execution_count": 11
        }
      ],
      "source": [
        "df1.columns"
      ]
    },
    {
      "cell_type": "markdown",
      "metadata": {
        "id": "DZtSD47Z3u-N"
      },
      "source": [
        "# **Distribution of target variable_Claim**"
      ]
    },
    {
      "cell_type": "code",
      "execution_count": 12,
      "metadata": {
        "id": "T1o5xQJb38En",
        "colab": {
          "base_uri": "https://localhost:8080/"
        },
        "outputId": "4082875d-ff96-4db0-91b3-ab311a9cca0c"
      },
      "outputs": [
        {
          "output_type": "execute_result",
          "data": {
            "text/plain": [
              "0    5526\n",
              "1    1634\n",
              "Name: Claim, dtype: int64"
            ]
          },
          "metadata": {},
          "execution_count": 12
        }
      ],
      "source": [
        "# distribution of the target variable\n",
        "df1[\"Claim\"].unique()\n",
        "df1[\"Claim\"].value_counts()"
      ]
    },
    {
      "cell_type": "code",
      "execution_count": 13,
      "metadata": {
        "id": "HfywMjkt4hMw",
        "colab": {
          "base_uri": "https://localhost:8080/",
          "height": 290
        },
        "outputId": "10c1b12d-004a-4ded-dd2c-ed99454c69e3"
      },
      "outputs": [
        {
          "output_type": "display_data",
          "data": {
            "text/plain": [
              "<Figure size 300x300 with 1 Axes>"
            ],
            "image/png": "[encoded data removed]"
          },
          "metadata": {}
        }
      ],
      "source": [
        "# Sample data (replace with your actual data)\n",
        "plt.figure(figsize=(3, 3))\n",
        "labels = ['Claimed.', 'No Claimed']\n",
        "values = [df1[\"Claim\"].sum(), len(df1) - df1[\"Claim\"].sum()]\n",
        "# Create a pie chart with labeled segments\n",
        "plt.pie(values, autopct='%1.1f%%', startangle=140,explode=[0.3,0])\n",
        "plt.title(\"A pie chart showing the distribution of target variable_Claim\")\n",
        "\n",
        "plt.axis('equal')  # Equal aspect ratio ensures that the pie chart is circular\n",
        "plt.legend(labels=labels, loc='lower left')\n",
        "plt.show()"
      ]
    },
    {
      "cell_type": "markdown",
      "metadata": {
        "id": "RoE1Es8R5TlA"
      },
      "source": [
        "This means 22.8% of the building has atleast one claim over the insured period and 77.2% have no claim over the insured period.The target variable seems to be imbalance"
      ]
    },
    {
      "cell_type": "markdown",
      "metadata": {
        "id": "nGUeWxa-5yW9"
      },
      "source": [
        "# **Distribution of the target variable with repect to categorical variables in the dataset**"
      ]
    },
    {
      "cell_type": "code",
      "execution_count": 14,
      "metadata": {
        "id": "HHNvLtAT59jE",
        "colab": {
          "base_uri": "https://localhost:8080/",
          "height": 869
        },
        "outputId": "1cfd5e00-db0e-4de5-c5bd-795364897ba9"
      },
      "outputs": [
        {
          "output_type": "display_data",
          "data": {
            "text/plain": [
              "<Figure size 640x480 with 0 Axes>"
            ]
          },
          "metadata": {}
        },
        {
          "output_type": "display_data",
          "data": {
            "text/plain": [
              "<Figure size 800x800 with 5 Axes>"
            ],
            "image/png": "[encoded data removed]"
          },
          "metadata": {}
        }
      ],
      "source": [
        "Categ_var=['Building_Painted','Building_Fenced','Garden','Settlement','NumberOfWindows']\n",
        "list(enumerate(Categ_var))\n",
        "plt.suptitle(\"Distribution of Claim according various categorical variables\")\n",
        "plt.figure(figsize=(8,8))\n",
        "for i in enumerate(Categ_var):\n",
        " plt.subplot(3,2,i[0]+1)\n",
        " plt.tight_layout()\n",
        " plt.suptitle(\"Distribution of Claim according various categorical variables\")\n",
        " sns.countplot(x=i[1], hue ='Claim', data = df1)\n",
        " plt.xticks(rotation = 90)"
      ]
    },
    {
      "cell_type": "markdown",
      "metadata": {
        "id": "kG4xSkq08Spc"
      },
      "source": [
        "**Observation**\n",
        "1. The non painted buildings have a higher insurance claim campared to the painted houses for the first bar graph\n",
        "2. The non fensed buildings have a higher insurance claim campared to the fensed houses\n",
        "3. The buildings without gardens a higher insurance claim campared to those buildings with gardens\n",
        "4. Buildings in the Urban Settlement have a low insurance claim  as     compared to those in rural setting"
      ]
    },
    {
      "cell_type": "code",
      "source": [
        "# Exploring Residential\n",
        "df1[\"Residential\"].value_counts()"
      ],
      "metadata": {
        "colab": {
          "base_uri": "https://localhost:8080/"
        },
        "id": "2LWzE1PvV57L",
        "outputId": "5ad916ac-72a2-4eea-d438-fdac31578a0d"
      },
      "execution_count": 105,
      "outputs": [
        {
          "output_type": "execute_result",
          "data": {
            "text/plain": [
              "0    4973\n",
              "1    2187\n",
              "Name: Residential, dtype: int64"
            ]
          },
          "metadata": {},
          "execution_count": 105
        }
      ]
    },
    {
      "cell_type": "code",
      "source": [
        "# Create a crosstab to count the occurrences\n",
        "crosstab = pd.crosstab(df1['Claim'], df1['Residential'])\n",
        "\n",
        "# Create a bar graph\n",
        "crosstab.plot(kind='bar', stacked=False, color=['red', 'green'])\n",
        "\n",
        "plt.xlabel('Claim')\n",
        "plt.ylabel('Count')\n",
        "plt.title('Bar Graph of Residential by Claim Status')\n",
        "\n",
        "plt.show()"
      ],
      "metadata": {
        "colab": {
          "base_uri": "https://localhost:8080/",
          "height": 467
        },
        "id": "BoU11vIYWBtO",
        "outputId": "1611bbd9-9fb0-4754-d746-ac112af0374a"
      },
      "execution_count": 110,
      "outputs": [
        {
          "output_type": "display_data",
          "data": {
            "text/plain": [
              "<Figure size 640x480 with 1 Axes>"
            ],
            "image/png": "[encoded data removed]"
          },
          "metadata": {}
        }
      ]
    },
    {
      "cell_type": "code",
      "source": [
        "# Exploring Building_Type\n",
        "df1[\"Building_Type\"].value_counts()"
      ],
      "metadata": {
        "colab": {
          "base_uri": "https://localhost:8080/"
        },
        "id": "85QjzB6vW0na",
        "outputId": "e1867d8b-fb4f-440c-f9a0-ff5da43dc344"
      },
      "execution_count": 111,
      "outputs": [
        {
          "output_type": "execute_result",
          "data": {
            "text/plain": [
              "2    3305\n",
              "1    1716\n",
              "3    1230\n",
              "4     909\n",
              "Name: Building_Type, dtype: int64"
            ]
          },
          "metadata": {},
          "execution_count": 111
        }
      ]
    },
    {
      "cell_type": "code",
      "source": [
        "# Create a crosstab to count the occurrences\n",
        "crosstab = pd.crosstab(df1['Claim'], df1['Building_Type'])\n",
        "\n",
        "\n",
        "# Create a bar graph with percentages\n",
        "ax = crosstab.plot(kind='bar', stacked=False, color=['blue', 'green','red','orange'])\n",
        "\n",
        "plt.xlabel('Claim')\n",
        "plt.ylabel('Count')\n",
        "plt.title('Bar Graph of Building_Type by Claim Status')\n",
        "\n",
        "\n",
        "plt.show()"
      ],
      "metadata": {
        "colab": {
          "base_uri": "https://localhost:8080/",
          "height": 467
        },
        "id": "p8GOXXohW8oy",
        "outputId": "320d66a5-3a15-4c61-bc2e-5dbed6fc7954"
      },
      "execution_count": 112,
      "outputs": [
        {
          "output_type": "display_data",
          "data": {
            "text/plain": [
              "<Figure size 640x480 with 1 Axes>"
            ],
            "image/png": "[encoded data removed]"
          },
          "metadata": {}
        }
      ]
    },
    {
      "cell_type": "code",
      "source": [
        "# Separate the data based on the 'Claim' values\n",
        "claim_1 = df1[df1['Claim'] == 1]\n",
        "claim_0 = df1[df1['Claim'] == 0]\n",
        "\n",
        "# Create a histogram for 'Building Dimension' by 'Claim' category\n",
        "plt.hist(claim_1['Building Dimension'], bins=20, alpha=0.7, color='red', label='Claim = 1', density=True)\n",
        "plt.hist(claim_0['Building Dimension'], bins=20, alpha=0.7, color='blue', label='Claim = 0', density=True)\n",
        "\n",
        "plt.xlabel('Building Dimension')\n",
        "plt.ylabel('Density')\n",
        "plt.title('Histogram of Building Dimension by Claim Status')\n",
        "plt.legend()\n",
        "\n",
        "plt.show()"
      ],
      "metadata": {
        "colab": {
          "base_uri": "https://localhost:8080/",
          "height": 472
        },
        "id": "MARqvclhF3VW",
        "outputId": "cd2108d2-cfc1-4b07-8830-257921f20f0f"
      },
      "execution_count": 15,
      "outputs": [
        {
          "output_type": "display_data",
          "data": {
            "text/plain": [
              "<Figure size 640x480 with 1 Axes>"
            ],
            "image/png": "[encoded data removed]"
          },
          "metadata": {}
        }
      ]
    },
    {
      "cell_type": "code",
      "source": [
        "#create a box plot to visualize the outlier in the Building Dimension\n",
        "import plotly.express as px\n",
        "fig = px.box(df1, y='Building Dimension')\n",
        "fig.update_layout(height=400, width=500, title_text='Distribution of Building Dimension')\n",
        "fig.show()"
      ],
      "metadata": {
        "colab": {
          "base_uri": "https://localhost:8080/",
          "height": 417
        },
        "id": "VfJKweOnGLHA",
        "outputId": "4835bf39-29a6-4116-c0b0-e97f237b644e"
      },
      "execution_count": 19,
      "outputs": [
        {
          "output_type": "display_data",
          "data": {
            "text/html": [
              "<html>\n",
              "<head><meta charset=\"utf-8\" /></head>\n",
              "<body>\n",
              "    <div>            <script src=\"https://cdnjs.cloudflare.com/ajax/libs/mathjax/2.7.5/MathJax.js?config=TeX-AMS-MML_SVG\"></script><script type=\"text/javascript\">if (window.MathJax && window.MathJax.Hub && window.MathJax.Hub.Config) {window.MathJax.Hub.Config({SVG: {font: \"STIX-Web\"}});}</script>                <script type=\"text/javascript\">window.PlotlyConfig = {MathJaxConfig: 'local'};</script>\n",
              "        <script charset=\"utf-8\" src=\"https://cdn.plot.ly/plotly-2.24.1.min.js\"></script>                <div id=\"2649c995-e9df-4a2d-886f-db76f6586ad5\" class=\"plotly-graph-div\" style=\"height:400px; width:500px;\"></div>            <script type=\"text/javascript\">                                    window.PLOTLYENV=window.PLOTLYENV || {};                                    if (document.getElementById(\"2649c995-e9df-4a2d-886f-db76f6586ad5\")) {                    Plotly.newPlot(                        \"2649c995-e9df-4a2d-886f-db76f6586ad5\",                        [{\"alignmentgroup\":\"True\",\"hovertemplate\":\"Building Dimension=%{y}\\u003cextra\\u003e\\u003c\\u002fextra\\u003e\",\"legendgroup\":\"\",\"marker\":{\"color\":\"#636efa\"},\"name\":\"\",\"notched\":false,\"offsetgroup\":\"\",\"orientation\":\"v\",\"showlegend\":false,\"x0\":\" \",\"xaxis\":\"x\",\"y\":[290.0,490.0,595.0,2840.0,680.0,535.0,2830.0,4952.0,2735.0,520.0,550.0,910.0,842.0,300.0,560.0,3326.0,3990.0,3990.0,2444.0,2444.0,1626.0,2400.0,250.0,2300.0,600.0,5439.0,5439.0,1100.0,1200.0,552.0,900.0,370.0,1400.0,1000.0,480.0,1300.0,2900.0,1300.0,1300.0,1300.0,1592.0,1592.0,450.0,480.0,487.0,1550.0,1550.0,650.0,650.0,2600.0,1314.0,2960.0,2960.0,1386.0,1100.0,1100.0,680.0,3325.0,1254.0,1000.0,1842.0,300.0,1113.0,310.0,736.0,2050.0,2050.0,1262.0,470.0,2400.0,6510.0,320.0,425.0,1500.0,900.0,600.0,2000.0,1000.0,1000.0,1000.0,1650.0,850.0,850.0,2600.0,3500.0,260.0,530.0,4700.0,838.0,1728.0,1024.0,1440.0,300.0,1700.0,1700.0,3688.0,900.0,3000.0,1170.0,2976.0,4101.0,800.0,3100.0,320.0,2490.0,1670.0,900.0,460.0,3500.0,14.0,9570.0,1200.0,10.0,570.0,3522.0,650.0,650.0,4112.0,4112.0,1470.0,600.0,600.0,380.0,460.0,5419.0,5419.0,2800.0,2800.0,2800.0,450.0,1380.0,428.0,1000.0,1100.0,520.0,300.0,300.0,300.0,3250.0,1000.0,660.0,300.0,550.0,550.0,1255.0,1255.0,5610.0,1800.0,1800.0,500.0,1500.0,1850.0,950.0,340.0,340.0,997.0,3336.0,3270.0,3270.0,300.0,2235.0,1400.0,5586.0,5586.0,800.0,300.0,4310.0,2160.0,650.0,210.0,7063.0,1696.0,740.0,3300.0,350.0,400.0,1000.0,162.0,320.0,320.0,18000.0,1225.0,400.0,270.0,740.0,1150.0,4200.0,100.0,900.0,9920.0,2625.0,5350.0,270.0,3406.0,3700.0,3700.0,3369.0,3369.0,3369.0,4846.0,7887.0,1300.0,1300.0,4000.0,4000.0,171.0,171.0,570.0,65.0,367.0,200.0,400.0,400.0,400.0,400.0,400.0,400.0,6300.0,250.0,750.0,400.0,660.0,1100.0,530.0,3269.0,3269.0,3269.0,300.0,640.0,530.0,450.0,3800.0,1140.0,400.0,130.0,243.0,243.0,2106.0,1842.0,2713.0,500.0,614.0,1370.0,1370.0,430.0,1563.0,250.0,1350.0,480.0,480.0,1600.0,5800.0,1000.0,2000.0,2880.0,3343.0,10573.0,1853.0,5939.0,518.0,3120.0,3120.0,450.0,12900.0,12900.0,450.0,1300.0,254.0,1050.0,4500.0,700.0,2712.0,2712.0,300.0,1120.0,5598.0,4500.0,2659.0,450.0,300.0,500.0,1619.0,826.0,826.0,1365.0,184.0,970.0,686.0,900.0,3508.0,2900.0,2900.0,6984.0,2034.0,7223.0,9400.0,4286.0,1700.0,1500.0,8400.0,300.0,4176.0,4176.0,3400.0,500.0,500.0,3501.0,1325.0,1325.0,9500.0,20.0,20.0,441.0,1137.0,250.0,418.0,860.0,500.0,3873.0,3708.0,700.0,7300.0,1080.0,1446.0,357.0,2230.0,1500.0,4700.0,3757.0,3043.0,317.0,1702.0,860.0,400.0,3450.0,3510.0,1565.0,4300.0,4300.0,6650.0,6650.0,1500.0,2857.0,1178.0,5785.0,260.0,60.0,400.0,279.0,1196.0,670.0,1984.0,450.0,234.0,4400.0,4400.0,412.0,412.0,600.0,1980.0,870.0,2100.0,12721.0,12721.0,12721.0,1260.0,520.0,1930.0,3070.0,4600.0,4600.0,1000.0,3500.0,2205.0,1000.0,2110.0,2110.0,2110.0,1630.0,1628.0,1350.0,332.0,332.0,1825.0,6600.0,8265.0,10600.0,3510.0,8000.0,3780.0,3780.0,3780.0,2471.0,1908.0,490.0,15000.0,15000.0,12470.0,395.0,395.0,12961.0,350.0,350.0,350.0,280.0,280.0,2600.0,630.0,520.0,474.0,800.0,800.0,1315.0,3100.0,3112.0,750.0,240.0,2374.0,200.0,1620.0,7291.0,11547.0,1500.0,1800.0,1800.0,5385.0,3482.0,1572.0,200.0,600.0,400.0,700.0,1400.0,1400.0,5266.0,1874.0,4288.0,1125.0,1125.0,820.0,1248.0,685.0,685.0,3732.0,1425.0,1425.0,1000.0,700.0,952.0,400.0,400.0,400.0,400.0,4590.0,1155.0,1070.0,335.0,335.0,250.0,438.0,415.0,415.0,1117.0,900.0,900.0,900.0,800.0,719.0,300.0,5927.0,195.0,8570.0,2300.0,2300.0,1700.0,1026.0,2138.0,1500.0,420.0,1334.0,1375.0,1.0,1200.0,450.0,450.0,770.0,1680.0,476.0,476.0,808.0,808.0,1.0,923.0,4200.0,7460.0,1206.0,700.0,450.0,450.0,2976.0,1200.0,1320.0,400.0,1011.0,2000.0,500.0,11000.0,11000.0,7838.0,5400.0,11380.0,2844.0,320.0,1862.0,1862.0,1862.0,5434.0,2100.0,4055.0,537.0,240.0,1956.0,3400.0,3500.0,3500.0,990.0,2750.0,3287.0,1173.0,900.0,900.0,4565.0,5657.0,950.0,4800.0,2860.0,4875.0,6410.0,7480.0,860.0,443.0,300.0,300.0,2000.0,1600.0,4755.0,1528.0,4327.0,4327.0,625.0,450.0,1500.0,110.0,500.0,1600.0,306.0,230.0,4027.0,7700.0,3767.0,600.0,8641.0,600.0,1654.0,450.0,600.0,700.0,400.0,476.0,2646.0,365.0,365.0,515.0,515.0,515.0,862.0,600.0,2186.0,2186.0,7186.0,4210.0,350.0,1950.0,1950.0,700.0,7500.0,1680.0,6055.0,3992.0,4567.0,7200.0,1751.0,3965.0,320.0,300.0,120.0,1725.0,2457.0,2457.0,1500.0,2585.0,1000.0,1000.0,706.0,1390.0,988.0,988.0,2306.0,3225.0,1090.0,1090.0,500.0,6317.0,1300.0,3800.0,3773.0,500.0,2160.0,3400.0,1650.0,350.0,1030.0,432.0,432.0,230.0,2500.0,1567.0,1567.0,1567.0,1700.0,1751.0,1751.0,260.0,405.0,550.0,400.0,906.0,400.0,400.0,400.0,430.0,480.0,480.0,240.0,240.0,240.0,1510.0,1510.0,450.0,502.0,1830.0,202.0,1350.0,1350.0,891.0,350.0,4862.0,2700.0,4400.0,6500.0,1500.0,1441.0,1395.0,800.0,320.0,150.0,5781.0,5781.0,4465.0,4465.0,4300.0,2000.0,2000.0,520.0,520.0,400.0,600.0,2000.0,1800.0,1050.0,1050.0,1500.0,750.0,750.0,750.0,750.0,3023.0,2074.0,450.0,2277.0,380.0,380.0,2064.0,400.0,400.0,265.0,275.0,400.0,800.0,800.0,1229.0,1435.0,189.0,949.0,949.0,3817.0,770.0,2016.0,1041.0,1041.0,1850.0,432.0,150.0,350.0,3500.0,710.0,400.0,400.0,1800.0,1800.0,300.0,3930.0,2350.0,2350.0,420.0,250.0,15.0,15.0,1700.0,1230.0,800.0,930.0,257.0,257.0,3693.0,4814.0,4814.0,1350.0,4650.0,4650.0,2128.0,2400.0,2039.0,2039.0,1200.0,8000.0,1858.0,124.0,500.0,2060.0,630.0,700.0,1972.0,1972.0,1675.0,1800.0,620.0,620.0,1920.0,1540.0,1210.0,1210.0,1215.0,1215.0,258.0,400.0,2317.0,3942.0,3942.0,2791.0,1688.0,3758.0,850.0,3120.0,3250.0,910.0,700.0,700.0,700.0,382.0,4301.0,1602.0,600.0,600.0,499.0,499.0,400.0,530.0,1000.0,1920.0,2240.0,9999.0,9999.0,800.0,800.0,390.0,310.0,693.0,693.0,693.0,439.0,439.0,525.0,1440.0,1440.0,1440.0,5716.0,743.0,743.0,180.0,500.0,250.0,2000.0,320.0,2100.0,500.0,900.0,530.0,6459.0,400.0,1836.0,540.0,802.0,458.0,458.0,210.0,530.0,250.0,660.0,292.0,443.0,4250.0,615.0,615.0,615.0,720.0,600.0,1790.0,2707.0,50.0,50.0,539.0,210.0,100.0,2303.0,5414.0,1370.0,1370.0,198.0,700.0,1500.0,5000.0,5600.0,700.0,1300.0,3397.0,4350.0,1700.0,4400.0,4400.0,250.0,800.0,300.0,585.0,6000.0,6900.0,105.0,3580.0,4400.0,1200.0,2590.0,808.0,200.0,2800.0,2800.0,1050.0,1050.0,2208.0,2208.0,2208.0,2208.0,2208.0,170.0,17860.0,3020.0,5200.0,5200.0,840.0,4175.0,3710.0,450.0,2880.0,1480.0,186.0,528.0,528.0,1700.0,575.0,690.0,350.0,350.0,2050.0,2050.0,2050.0,2556.0,1910.0,1780.0,1780.0,3420.0,3420.0,900.0,5912.0,498.0,498.0,498.0,480.0,3287.0,3287.0,990.0,3625.0,3625.0,3900.0,3600.0,3600.0,2400.0,1818.0,1818.0,2780.0,3213.0,3213.0,432.0,432.0,250.0,250.0,250.0,250.0,400.0,3500.0,3600.0,4660.0,5160.0,2770.0,2028.0,485.0,485.0,790.0,2810.0,650.0,2400.0,1300.0,1300.0,510.0,500.0,500.0,1200.0,380.0,350.0,615.0,1200.0,650.0,500.0,2758.0,2758.0,680.0,550.0,580.0,500.0,400.0,400.0,800.0,800.0,900.0,900.0,888.0,2250.0,820.0,1705.0,2180.0,600.0,500.0,1450.0,260.0,1700.0,800.0,1455.0,1455.0,600.0,650.0,500.0,500.0,550.0,800.0,1010.0,980.0,780.0,500.0,14950.0,14950.0,1420.0,964.0,1000.0,700.0,200.0,300.0,300.0,600.0,600.0,600.0,400.0,400.0,430.0,400.0,210.0,6980.0,550.0,1800.0,1800.0,330.0,1500.0,790.0,610.0,1427.0,950.0,200.0,300.0,6260.0,2650.0,3040.0,350.0,270.0,640.0,646.0,490.0,680.0,680.0,4200.0,132.0,7344.0,7344.0,885.0,942.0,763.0,450.0,450.0,432.0,600.0,600.0,1341.0,300.0,300.0,2100.0,440.0,830.0,830.0,650.0,425.0,720.0,720.0,2420.0,460.0,1200.0,1200.0,500.0,450.0,700.0,700.0,370.0,370.0,210.0,400.0,370.0,470.0,470.0,350.0,500.0,500.0,1500.0,513.0,470.0,400.0,400.0,402.0,402.0,1830.0,320.0,320.0,900.0,900.0,1566.0,2400.0,1950.0,3500.0,200.0,1050.0,1890.0,950.0,300.0,1671.0,460.0,700.0,700.0,700.0,660.0,335.0,610.0,480.0,510.0,350.0,750.0,870.0,440.0,700.0,900.0,400.0,400.0,760.0,400.0,1230.0,1230.0,800.0,220.0,220.0,3100.0,3100.0,900.0,350.0,890.0,2520.0,450.0,450.0,450.0,1100.0,820.0,500.0,400.0,1231.0,724.0,724.0,357.0,600.0,470.0,1040.0,755.0,650.0,650.0,650.0,1760.0,564.0,2027.0,150.0,1300.0,1000.0,924.0,400.0,546.0,7200.0,526.0,1425.0,590.0,1425.0,330.0,325.0,325.0,890.0,450.0,630.0,450.0,570.0,400.0,1400.0,350.0,360.0,1200.0,670.0,350.0,350.0,4200.0,450.0,320.0,400.0,520.0,765.0,390.0,390.0,600.0,480.0,5195.0,1414.0,1414.0,720.0,720.0,345.0,700.0,800.0,551.0,490.0,716.0,450.0,900.0,2950.0,1300.0,450.0,3735.0,1166.0,1166.0,1730.0,250.0,250.0,250.0,1000.0,1100.0,550.0,220.0,800.0,3040.0,1600.0,1600.0,720.0,450.0,370.0,690.0,1820.0,605.0,605.0,1320.0,1320.0,1388.0,1388.0,865.0,700.0,880.0,10686.0,1215.0,385.0,441.0,1500.0,670.0,952.0,499.0,470.0,5966.0,5966.0,600.0,800.0,1200.0,480.0,980.0,450.0,550.0,370.0,480.0,600.0,280.0,300.0,613.0,850.0,700.0,2600.0,550.0,2250.0,1220.0,1220.0,1705.0,640.0,1192.0,340.0,500.0,1950.0,550.0,1100.0,1445.0,420.0,240.0,1830.0,390.0,640.0,300.0,230.0,2300.0,2400.0,450.0,850.0,280.0,1500.0,2400.0,600.0,238.0,1650.0,2000.0,920.0,450.0,240.0,150.0,1620.0,1620.0,390.0,950.0,900.0,760.0,250.0,350.0,900.0,600.0,475.0,400.0,400.0,743.0,1105.0,300.0,650.0,448.0,1800.0,1800.0,140.0,396.0,396.0,1740.0,510.0,510.0,350.0,700.0,700.0,700.0,825.0,230.0,2280.0,2280.0,2280.0,5567.0,960.0,321.0,472.0,660.0,780.0,900.0,516.0,1600.0,450.0,450.0,1750.0,320.0,4700.0,480.0,820.0,100.0,100.0,1500.0,660.0,450.0,550.0,570.0,1600.0,401.0,401.0,700.0,2000.0,2000.0,900.0,2100.0,2100.0,2100.0,880.0,800.0,3880.0,360.0,360.0,1050.0,1050.0,300.0,3900.0,4350.0,3283.0,1200.0,4100.0,380.0,510.0,9000.0,3550.0,1100.0,1320.0,2500.0,2600.0,3100.0,870.0,380.0,3300.0,150.0,2400.0,3281.0,6468.0,6468.0,1070.0,1070.0,6800.0,2000.0,1000.0,710.0,1500.0,1700.0,2025.0,6657.0,3000.0,824.0,370.0,1793.0,150.0,2255.0,1765.0,1980.0,2270.0,2270.0,2270.0,4914.0,2724.0,12500.0,7259.0,7259.0,600.0,85.0,9122.0,2300.0,1900.0,600.0,1222.0,6766.0,2530.0,1230.0,1300.0,5873.0,5873.0,1920.0,1880.0,2255.0,2255.0,1182.0,1182.0,4080.0,3600.0,490.0,100.0,6100.0,1500.0,4500.0,430.0,380.0,4914.0,4914.0,8485.0,8485.0,8485.0,3300.0,600.0,450.0,400.0,190.0,190.0,1000.0,800.0,353.0,900.0,355.0,522.0,522.0,541.0,8100.0,600.0,4069.0,2250.0,384.0,456.0,750.0,323.0,700.0,700.0,4870.0,4523.0,4322.0,6300.0,6300.0,6300.0,6000.0,180.0,2126.0,2600.0,1891.0,1891.0,1891.0,3500.0,900.0,7500.0,7500.0,320.0,16859.0,8900.0,580.0,534.0,534.0,534.0,780.0,1377.0,1920.0,1920.0,1410.0,8960.0,8960.0,6100.0,204.0,432.0,432.0,400.0,330.0,1300.0,510.0,530.0,400.0,250.0,250.0,4000.0,300.0,300.0,200.0,540.0,450.0,68.0,68.0,175.0,695.0,870.0,870.0,900.0,980.0,8500.0,8500.0,1750.0,185.0,840.0,290.0,3930.0,769.0,9618.0,1837.0,1837.0,3806.0,620.0,2897.0,2897.0,2561.0,2561.0,1726.0,1870.0,1726.0,1726.0,200.0,5080.0,2100.0,1782.0,8820.0,816.0,1995.0,1795.0,2200.0,14200.0,530.0,530.0,2000.0,250.0,1160.0,528.0,3650.0,1550.0,1550.0,1411.0,4150.0,850.0,35.0,2700.0,833.0,833.0,6628.0,6628.0,1600.0,1600.0,1920.0,1660.0,1981.0,1300.0,2100.0,2079.0,2079.0,1972.0,3400.0,3400.0,650.0,833.0,1414.0,1414.0,300.0,300.0,1879.0,1879.0,1235.0,3000.0,1330.0,870.0,1239.0,1450.0,1800.0,1214.0,10840.0,104.0,435.0,1700.0,545.0,900.0,550.0,550.0,4700.0,981.0,1670.0,1368.0,1365.0,2004.0,1584.0,620.0,650.0,500.0,2100.0,4000.0,820.0,1400.0,3904.0,2721.0,2721.0,550.0,550.0,3744.0,3744.0,2500.0,2500.0,2157.0,2157.0,2800.0,450.0,3100.0,1300.0,1517.0,1003.0,1003.0,1348.0,4255.0,2315.0,2315.0,1546.0,2316.0,600.0,2145.0,2000.0,12.0,4388.0,550.0,448.0,2367.0,720.0,980.0,2408.0,350.0,8950.0,2360.0,10200.0,3550.0,1584.0,1584.0,3720.0,536.0,270.0,400.0,1200.0,510.0,3900.0,460.0,390.0,3300.0,520.0,520.0,1215.0,1941.0,1850.0,366.0,5500.0,287.0,2750.0,300.0,1420.0,975.0,1365.0,1365.0,999.0,276.0,480.0,2410.0,750.0,1000.0,808.0,2410.0,800.0,800.0,1200.0,880.0,880.0,4365.0,5007.0,585.0,450.0,450.0,660.0,660.0,400.0,700.0,210.0,2360.0,2360.0,2115.0,1567.0,600.0,1650.0,400.0,750.0,1250.0,880.0,2610.0,1080.0,1200.0,50.0,1427.0,1835.0,1700.0,2820.0,2041.0,2041.0,200.0,600.0,600.0,300.0,430.0,2907.0,760.0,460.0,855.0,400.0,1273.0,1273.0,878.0,153.0,912.0,659.0,324.0,300.0,508.0,788.0,330.0,828.0,165.0,1022.0,1025.0,3403.0,762.0,4200.0,435.0,446.0,1486.0,938.0,900.0,900.0,900.0,881.0,5910.0,1380.0,550.0,400.0,524.0,524.0,920.0,810.0,810.0,4230.0,300.0,452.0,2775.0,5000.0,585.0,585.0,870.0,870.0,500.0,1300.0,1300.0,2400.0,1200.0,2115.0,5050.0,600.0,2115.0,173.0,799.0,799.0,480.0,2115.0,591.0,591.0,591.0,841.0,480.0,1557.0,1038.0,2166.0,251.0,1.0,8796.0,3600.0,3600.0,1760.0,2809.0,433.0,200.0,2041.0,2041.0,2041.0,162.0,720.0,720.0,1765.0,4600.0,4600.0,120.0,2700.0,11037.0,1493.0,1493.0,900.0,1865.0,855.0,1874.0,1750.0,4000.0,4000.0,3600.0,510.0,510.0,4300.0,1900.0,563.0,600.0,410.0,800.0,620.0,360.0,600.0,4800.0,10.0,10.0,2000.0,727.0,5561.0,1200.0,1156.0,528.0,437.0,2150.0,1000.0,1054.0,3031.0,17800.0,1833.0,1347.0,1350.0,1350.0,1300.0,590.0,420.0,2321.0,528.0,4126.0,400.0,9609.0,1700.0,600.0,4431.0,3200.0,288.0,288.0,300.0,7900.0,2100.0,454.0,978.0,978.0,3390.0,1090.0,2310.0,950.0,1125.0,320.0,592.0,3550.0,3280.0,470.0,550.0,11958.0,11958.0,714.0,714.0,1087.0,300.0,3612.0,1800.0,1800.0,2738.0,2738.0,7200.0,1050.0,1050.0,5300.0,1428.0,1428.0,194.0,755.0,720.0,720.0,450.0,4901.0,446.0,436.0,436.0,3461.0,2911.0,1800.0,2528.0,2886.0,1020.0,1020.0,1020.0,3737.0,4650.0,1363.0,2644.0,1730.0,1730.0,3786.0,499.0,468.0,6920.0,5555.0,5555.0,2292.0,1536.0,1536.0,5350.0,5350.0,2145.0,2145.0,8140.0,1490.0,665.0,3788.0,270.0,1500.0,2889.0,700.0,388.0,2470.0,978.0,4477.0,462.0,550.0,500.0,990.0,850.0,400.0,490.0,340.0,340.0,5885.0,5885.0,1380.0,2320.0,1020.0,500.0,770.0,4228.0,4228.0,400.0,1650.0,1620.0,600.0,3380.0,5018.0,4800.0,3080.0,1390.0,1340.0,1340.0,2540.0,3550.0,1165.0,1040.0,1359.0,1359.0,1693.0,1372.0,315.0,1370.0,1370.0,2349.0,1508.0,1508.0,1200.0,960.0,6959.0,6959.0,4601.0,4601.0,1232.0,909.0,909.0,4599.0,867.0,2100.0,1712.0,1990.0,600.0,1550.0,1365.0,730.0,440.0,390.0,390.0,1800.0,1600.0,300.0,963.0,988.0,4900.0,4900.0,1100.0,1700.0,20940.0,3000.0,7750.0,7750.0,8015.0,8015.0,6180.0,745.0,2600.0,925.0,340.0,2451.0,2451.0,600.0,872.0,970.0,2800.0,1000.0,11925.0,266.0,1600.0,3000.0,400.0,140.0,140.0,6000.0,10954.0,1300.0,150.0,150.0,550.0,550.0,440.0,265.0,3720.0,427.0,427.0,400.0,424.0,2500.0,1200.0,1200.0,600.0,660.0,368.0,480.0,500.0,450.0,3900.0,950.0,950.0,950.0,950.0,1125.0,1125.0,500.0,330.0,750.0,405.0,450.0,2712.0,2712.0,2712.0,320.0,5950.0,396.0,396.0,1475.0,1030.0,1702.0,566.0,18950.0,16149.0,3223.0,3223.0,4984.0,2470.0,2470.0,555.0,660.0,660.0,3183.0,12448.0,1950.0,1950.0,1194.0,320.0,2261.0,2261.0,7036.0,4000.0,140.0,6053.0,6053.0,350.0,2850.0,250.0,4100.0,4100.0,500.0,500.0,2629.0,160.0,200.0,790.0,600.0,4000.0,2918.0,1340.0,450.0,2300.0,2300.0,300.0,4909.0,220.0,8700.0,7055.0,110.0,2900.0,708.0,400.0,1215.0,3276.0,3276.0,3276.0,2462.0,2462.0,2462.0,1730.0,850.0,650.0,650.0,550.0,550.0,1283.0,510.0,2200.0,2200.0,655.0,720.0,720.0,2500.0,2500.0,573.0,934.0,2125.0,615.0,450.0,134.0,134.0,1075.0,320.0,320.0,1700.0,1700.0,780.0,1600.0,750.0,750.0,1700.0,1700.0,200.0,1260.0,349.0,442.0,442.0,676.0,676.0,1100.0,120.0,545.0,400.0,1142.0,8900.0,3195.0,1000.0,2000.0,2400.0,1941.0,1253.0,1253.0,4500.0,4189.0,700.0,1239.0,784.0,396.0,295.0,1200.0,1300.0,650.0,1670.0,200.0,200.0,2315.0,1210.0,365.0,1200.0,300.0,234.0,400.0,550.0,1898.0,516.0,1463.0,300.0,300.0,140.0,261.0,510.0,490.0,550.0,550.0,250.0,250.0,250.0,595.0,286.0,4300.0,700.0,320.0,400.0,400.0,540.0,540.0,700.0,510.0,660.0,3300.0,5264.0,1065.0,1250.0,1250.0,1250.0,1234.0,850.0,850.0,14120.0,600.0,1344.0,300.0,846.0,846.0,3678.0,3678.0,1155.0,1430.0,2450.0,3281.0,310.0,310.0,210.0,150.0,3206.0,696.0,934.0,2036.0,200.0,2190.0,4863.0,410.0,8697.0,8916.0,200.0,220.0,260.0,230.0,3750.0,3750.0,3700.0,1566.0,450.0,610.0,2000.0,252.0,1055.0,1200.0,1200.0,1115.0,300.0,590.0,500.0,410.0,500.0,140.0,610.0,610.0,520.0,520.0,520.0,188.0,188.0,400.0,500.0,500.0,300.0,1250.0,900.0,380.0,377.0,125.0,405.0,179.0,280.0,1920.0,600.0,600.0,260.0,250.0,410.0,400.0,1700.0,1020.0,300.0,930.0,356.0,450.0,450.0,1200.0,650.0,200.0,200.0,200.0,600.0,700.0,255.0,540.0,1412.0,370.0,500.0,1320.0,416.0,600.0,900.0,2544.0,3182.0,3182.0,8350.0,5746.0,5746.0,500.0,500.0,400.0,3803.0,2868.0,1211.0,3324.0,6896.0,6896.0,350.0,5998.0,2250.0,360.0,3754.0,2892.0,3376.0,2665.0,2600.0,3771.0,2500.0,1637.0,2692.0,160.0,450.0,450.0,716.0,716.0,716.0,350.0,3357.0,3357.0,600.0,100.0,1285.0,699.0,10173.0,6000.0,6000.0,6500.0,11000.0,9000.0,1000.0,1000.0,1200.0,920.0,3783.0,400.0,1500.0,534.0,2568.0,2500.0,2500.0,1724.0,1866.0,731.0,3267.0,3350.0,2304.0,4035.0,4035.0,2000.0,810.0,2488.0,833.0,750.0,750.0,630.0,1000.0,337.0,980.0,980.0,740.0,500.0,500.0,760.0,760.0,1330.0,1200.0,1028.0,1028.0,3650.0,1600.0,3538.0,7302.0,1021.0,1494.0,1650.0,5575.0,450.0,10.0,10.0,738.0,738.0,1800.0,800.0,1314.0,1200.0,3000.0,3000.0,1776.0,360.0,800.0,800.0,310.0,300.0,5657.0,1390.0,1200.0,2138.0,360.0,370.0,400.0,1400.0,2100.0,2465.0,1400.0,350.0,200.0,450.0,450.0,450.0,335.0,412.0,412.0,3000.0,390.0,5325.0,1689.0,3583.0,2100.0,530.0,2476.0,1140.0,1000.0,2725.0,1700.0,420.0,800.0,550.0,140.0,140.0,300.0,950.0,3600.0,520.0,400.0,500.0,200.0,450.0,1600.0,800.0,800.0,330.0,1000.0,580.0,580.0,250.0,542.0,200.0,2000.0,810.0,710.0,450.0,1200.0,650.0,780.0,1600.0,1260.0,1260.0,677.0,1200.0,1148.0,667.0,579.0,200.0,175.0,820.0,820.0,820.0,570.0,1750.0,1750.0,1625.0,1700.0,1200.0,380.0,380.0,1133.0,320.0,5450.0,985.0,500.0,530.0,1590.0,825.0,2710.0,460.0,2529.0,4160.0,5900.0,1859.0,650.0,650.0,994.0,994.0,180.0,8957.0,1250.0,1250.0,1200.0,350.0,380.0,1000.0,400.0,200.0,200.0,4905.0,8893.0,6252.0,3757.0,2235.0,7500.0,14472.0,4600.0,1800.0,4122.0,1300.0,4000.0,7863.0,1780.0,3150.0,6000.0,4663.0,4663.0,600.0,1320.0,1300.0,2800.0,1500.0,1832.0,1450.0,410.0,658.0,1890.0,357.0,357.0,4461.0,4461.0,4461.0,4461.0,1986.0,1986.0,1986.0,738.0,738.0,410.0,410.0,1380.0,900.0,240.0,800.0,800.0,450.0,200.0,1086.0,477.0,175.0,3100.0,2700.0,2700.0,350.0,2420.0,1950.0,1210.0,1300.0,4395.0,1150.0,752.0,752.0,490.0,1100.0,350.0,280.0,1461.0,1461.0,3800.0,750.0,3124.0,1650.0,1000.0,1250.0,1250.0,4800.0,4800.0,2700.0,2700.0,571.0,9125.0,1850.0,1850.0,353.0,1800.0,4350.0,4350.0,900.0,900.0,3705.0,270.0,525.0,2815.0,1230.0,2613.0,1230.0,1100.0,1100.0,1100.0,430.0,930.0,1390.0,2110.0,2110.0,2100.0,1105.0,1911.0,1911.0,1900.0,2773.0,1672.0,3265.0,1120.0,5000.0,6500.0,6500.0,2178.0,150.0,390.0,1160.0,1566.0,1279.0,300.0,650.0,3796.0,202.0,6000.0,320.0,7100.0,1195.0,1195.0,2518.0,1200.0,654.0,2288.0,780.0,4820.0,350.0,1110.0,1110.0,1254.0,296.0,60.0,1930.0,300.0,300.0,1067.0,800.0,1100.0,660.0,330.0,3800.0,600.0,720.0,450.0,460.0,460.0,1050.0,190.0,800.0,4850.0,4850.0,305.0,300.0,1158.0,4393.0,1370.0,2090.0,3053.0,50.0,460.0,460.0,5060.0,1050.0,8000.0,2604.0,900.0,4530.0,490.0,490.0,2700.0,400.0,4600.0,4000.0,730.0,730.0,1000.0,1000.0,940.0,1612.0,3700.0,360.0,765.0,770.0,950.0,2957.0,1037.0,1030.0,1512.0,350.0,776.0,800.0,13280.0,13280.0,850.0,650.0,978.0,4377.0,4377.0,6400.0,9500.0,4600.0,7300.0,2524.0,6206.0,330.0,135.0,1414.0,3962.0,5200.0,540.0,600.0,600.0,435.0,280.0,1716.0,1320.0,470.0,2260.0,570.0,570.0,5050.0,2675.0,1300.0,200.0,1375.0,1700.0,899.0,3740.0,200.0,1540.0,6300.0,1110.0,1500.0,1140.0,1140.0,530.0,3000.0,800.0,4200.0,643.0,4142.0,460.0,460.0,460.0,530.0,4220.0,460.0,460.0,460.0,4142.0,4142.0,4142.0,4142.0,4142.0,4142.0,960.0,968.0,10.0,4700.0,4700.0,1100.0,2537.0,2200.0,2890.0,671.0,1200.0,735.0,1750.0,220.0,1362.0,1450.0,760.0,550.0,550.0,900.0,2000.0,2000.0,850.0,310.0,8200.0,470.0,470.0,1100.0,2000.0,685.0,140.0,140.0,720.0,260.0,245.0,245.0,245.0,2200.0,2200.0,3500.0,850.0,1250.0,1200.0,4200.0,4200.0,2106.0,462.0,4368.0,2100.0,2100.0,2100.0,357.0,2500.0,1100.0,470.0,1250.0,650.0,1499.0,326.0,2000.0,2000.0,2000.0,3570.0,1256.0,1300.0,2293.0,2040.0,2500.0,1565.0,450.0,1034.0,358.0,3900.0,500.0,94.0,420.0,420.0,1510.0,1350.0,1000.0,1000.0,290.0,3800.0,4179.0,5000.0,7500.0,7500.0,6500.0,3752.0,3752.0,472.0,472.0,1219.0,10426.0,7055.0,177.0,7660.0,510.0,140.0,335.0,335.0,335.0,1600.0,1600.0,2271.0,2271.0,1961.0,560.0,550.0,1210.0,550.0,550.0,10000.0,3700.0,2500.0,1800.0,5200.0,770.0,550.0,600.0,2000.0,680.0,680.0,800.0,800.0,1000.0,400.0,500.0,500.0,438.0,362.0,3780.0,200.0,450.0,7580.0,740.0,2241.0,2241.0,2241.0,3900.0,3320.0,3320.0,1120.0,2130.0,2000.0,953.0,500.0,600.0,320.0,260.0,850.0,450.0,385.0,1312.0,1180.0,400.0,1200.0,3100.0,1635.0,500.0,842.0,250.0,2445.0,690.0,690.0,1918.0,1918.0,4400.0,4400.0,1455.0,3350.0,3700.0,5990.0,580.0,4250.0,4250.0,1845.0,1010.0,500.0,465.0,643.0,576.0,576.0,635.0,550.0,675.0,684.0,684.0,648.0,653.0,670.0,350.0,700.0,650.0,1360.0,400.0,1366.0,450.0,1360.0,3500.0,3500.0,4500.0,300.0,2400.0,4500.0,700.0,515.0,960.0,213.0,2270.0,3360.0,3360.0,3360.0,2870.0,473.0,575.0,4000.0,810.0,1675.0,2700.0,6576.0,600.0,960.0,5180.0,750.0,4616.0,1839.0,1500.0,420.0,600.0,700.0,1300.0,728.0,5640.0,700.0,907.0,720.0,1764.0,4943.0,4943.0,650.0,650.0,440.0,3594.0,765.0,765.0,1240.0,980.0,600.0,2040.0,1093.0,2500.0,650.0,1975.0,480.0,942.0,13122.0,3300.0,2600.0,490.0,2346.0,500.0,500.0,500.0,920.0,1039.0,1589.0,600.0,2500.0,800.0,1675.0,2550.0,2550.0,1100.0,2423.0,1400.0,500.0,500.0,580.0,4113.0,2300.0,14600.0,4230.0,400.0,600.0,600.0,5200.0,1931.0,1931.0,1031.0,850.0,4700.0,2217.0,770.0,770.0,1970.0,5875.0,3760.0,3760.0,1120.0,3000.0,950.0,2485.0,690.0,690.0,400.0,712.0,3140.0,3140.0,641.0,1292.0,700.0,3455.0,2250.0,565.0,7857.0,7857.0,16218.0,2597.0,1265.0,2400.0,537.0,3213.0,3213.0,464.0,1171.0,308.0,308.0,2084.0,2882.0,2882.0,1415.0,4776.0,2900.0,330.0,5000.0,2414.0,800.0,800.0,300.0,300.0,450.0,450.0,1500.0,730.0,730.0,3068.0,1700.0,1700.0,2475.0,1600.0,304.0,304.0,385.0,1255.0,3416.0,3416.0,400.0,390.0,2566.0,10948.0,855.0,855.0,2206.0,2206.0,3806.0,3575.0,3575.0,3575.0,16459.0,175.0,900.0,330.0,330.0,330.0,554.0,460.0,4490.0,200.0,1545.0,500.0,500.0,990.0,1140.0,1670.0,1670.0,232.0,383.0,450.0,400.0,450.0,1080.0,700.0,700.0,4822.0,4500.0,4500.0,418.0,300.0,300.0,600.0,1800.0,800.0,300.0,300.0,1131.0,2746.0,3700.0,3700.0,1044.0,450.0,450.0,450.0,820.0,820.0,420.0,420.0,350.0,568.0,2000.0,715.0,230.0,636.0,350.0,650.0,650.0,650.0,3297.0,1083.0,250.0,420.0,550.0,670.0,885.0,885.0,885.0,480.0,7400.0,370.0,13030.0,200.0,200.0,1130.0,459.0,1130.0,1130.0,1133.0,500.0,400.0,6500.0,800.0,315.0,500.0,1280.0,1900.0,1450.0,1200.0,680.0,442.0,746.0,450.0,750.0,991.0,2400.0,450.0,1323.0,400.0,420.0,550.0,340.0,1050.0,500.0,364.0,364.0,800.0,257.0,1524.0,2425.0,2000.0,1520.0,1520.0,3919.0,3919.0,560.0,417.0,2180.0,1800.0,5523.0,850.0,850.0,700.0,700.0,1560.0,3104.0,1640.0,250.0,3768.0,1500.0,400.0,400.0,3200.0,3200.0,670.0,700.0,480.0,391.0,391.0,530.0,550.0,550.0,876.0,876.0,850.0,1947.0,1947.0,1947.0,570.0,200.0,850.0,996.0,450.0,950.0,1425.0,1030.0,770.0,696.0,410.0,980.0,480.0,2450.0,2450.0,420.0,1325.0,1325.0,2081.0,910.0,1384.0,1384.0,1640.0,1100.0,1100.0,1100.0,5439.0,1255.0,756.0,800.0,400.0,470.0,350.0,310.0,990.0,397.0,1400.0,1400.0,1960.0,400.0,350.0,450.0,1065.0,759.0,1050.0,1416.0,475.0,3613.0,147.0,450.0,920.0,280.0,2130.0,2130.0,7861.0,600.0,481.0,565.0,4967.0,1353.0,5335.0,5335.0,300.0,350.0,150.0,3611.0,1270.0,955.0,4890.0,455.0,1280.0,1280.0,1485.0,950.0,1251.0,3000.0,786.0,435.0,880.0,1573.0,1660.0,1600.0,453.0,14350.0,14350.0,805.0,900.0,900.0,1089.0,750.0,470.0,1215.0,1600.0,2200.0,726.0,3800.0,1600.0,2600.0,4000.0,1768.0,460.0,3330.0,15000.0,15000.0,750.0,750.0,1450.0,1450.0,1510.0,1000.0,480.0,1300.0,1300.0,60.0,1100.0,350.0,1030.0,420.0,420.0,420.0,1930.0,1845.0,1250.0,900.0,900.0,800.0,1070.0,900.0,900.0,1800.0,2900.0,3840.0,5451.0,486.0,1980.0,1980.0,650.0,1452.0,275.0,890.0,890.0,950.0,950.0,950.0,820.0,820.0,770.0,770.0,180.0,300.0,4300.0,2350.0,1085.0,1004.0,3920.0,702.0,1440.0,1300.0,650.0,14805.0,1860.0,1860.0,2412.0,146.0,1800.0,660.0,3143.0,2850.0,4750.0,5346.0,5346.0,2400.0,770.0,536.0,3500.0,3500.0,1200.0,700.0,650.0,330.0,1365.0,1083.0,1050.0,1050.0,1076.0,500.0,600.0,220.0,300.0,4144.0,850.0,850.0,850.0,2578.0,2200.0,2200.0,800.0,220.0,400.0,15620.0,15620.0,9182.0,9182.0,1300.0,1300.0,1762.0,260.0,400.0,700.0,400.0,470.0,190.0,190.0,436.0,450.0,150.0,800.0,335.0,3600.0,3600.0,660.0,660.0,450.0,4432.0,4812.0,3200.0,4463.0,1934.0,4500.0,1960.0,6250.0,800.0,1200.0,1100.0,4400.0,1800.0,500.0,500.0,4045.0,520.0,1046.0,900.0,900.0,1450.0,2900.0,620.0,620.0,10900.0,10900.0,10900.0,660.0,5464.0,4500.0,700.0,300.0,550.0,843.0,19195.0,580.0,520.0,720.0,1734.0,11389.0,3628.0,1200.0,11768.0,872.0,2755.0,1466.0,225.0,350.0,350.0,400.0,191.0,634.0,900.0,2800.0,2000.0,400.0,11000.0,3900.0,3900.0,568.0,362.0,272.0,150.0,750.0,630.0,630.0,465.0,465.0,225.0,120.0,690.0,280.0,520.0,200.0,145.0,420.0,1350.0,1300.0,550.0,550.0,630.0,3950.0,180.0,1650.0,1650.0,2500.0,290.0,850.0,2407.0,10207.0,210.0,2397.0,1140.0,1100.0,166.0,6270.0,380.0,1010.0,1010.0,100.0,100.0,445.0,445.0,7200.0,7200.0,6000.0,2225.0,2225.0,850.0,335.0,1300.0,3147.0,3147.0,700.0,2100.0,480.0,632.0,632.0,520.0,1398.0,1590.0,728.0,2800.0,1677.0,1677.0,1000.0,1000.0,1630.0,1630.0,499.0,1700.0,1011.0,991.0,1750.0,864.0,2000.0,800.0,600.0,840.0,2800.0,1050.0,1680.0,560.0,1500.0,1500.0,580.0,300.0,940.0,600.0,1989.0,1171.0,2535.0,1500.0,820.0,4400.0,3350.0,1300.0,2200.0,2200.0,4250.0,600.0,990.0,3275.0,2400.0,750.0,750.0,590.0,1050.0,1050.0,450.0,480.0,1700.0,400.0,280.0,1600.0,1400.0,1220.0,800.0,800.0,965.0,965.0,980.0,900.0,474.0,465.0,570.0,350.0,1750.0,400.0,400.0,420.0,420.0,6600.0,3500.0,5490.0,600.0,600.0,2985.0,1050.0,630.0,1558.0,1558.0,1200.0,1800.0,4575.0,2250.0,2250.0,3781.0,3500.0,1400.0,600.0,4070.0,1356.0,1356.0,3910.0,3910.0,450.0,450.0,450.0,1740.0,2760.0,3200.0,3625.0,1798.0,2150.0,2150.0,4200.0,1330.0,1330.0,992.0,1200.0,450.0,4100.0,2300.0,2000.0,2016.0,1500.0,910.0,580.0,3015.0,4930.0,1554.0,1554.0,2500.0,700.0,3805.0,2700.0,2620.0,600.0,4955.0,4955.0,1210.0,1300.0,650.0,1083.0,2050.0,2650.0,3950.0,800.0,600.0,3100.0,3100.0,3100.0,596.0,1100.0,900.0,10300.0,1020.0,222.0,700.0,700.0,1595.0,6375.0,673.0,673.0,1083.0,1083.0,1139.0,4055.0,4055.0,4400.0,1500.0,750.0,2500.0,1142.0,720.0,3664.0,1156.0,6851.0,1936.0,1640.0,1130.0,2210.0,2210.0,2210.0,6048.0,1170.0,1170.0,2700.0,2700.0,783.0,2200.0,2000.0,1500.0,700.0,1495.0,1100.0,1100.0,4030.0,1187.0,1187.0,2800.0,795.0,1314.0,7988.0,7988.0,585.0,400.0,1389.0,400.0,7500.0,1200.0,380.0,2586.0,800.0,2900.0,2900.0,3473.0,1776.0,2157.0,1020.0,1323.0,1376.0,1784.0,1784.0,1820.0,2000.0,280.0,6417.0,6417.0,3496.0,7000.0,690.0,4118.0,8000.0,5600.0,2015.0,2015.0,579.0,5182.0,5182.0,5182.0,4300.0,2750.0,2750.0,397.0,2440.0,300.0,530.0,194.0,750.0,391.0,900.0,510.0,510.0,600.0,600.0,5634.0,400.0,250.0,250.0,1084.0,443.0,1729.0,540.0,1200.0,1200.0,250.0,280.0,320.0,330.0,210.0,950.0,1320.0,3050.0,575.0,4040.0,2900.0,1100.0,1100.0,620.0,714.0,676.0,950.0,350.0,710.0,1832.0,388.0,240.0,240.0,950.0,950.0,400.0,400.0,600.0,250.0,830.0,2285.0,4400.0,750.0,2900.0,2900.0,920.0,1330.0,770.0,1518.0,4400.0,850.0,1543.0,2412.0,2412.0,2064.0,4433.0,4433.0,375.0,1617.0,650.0,300.0,440.0,544.0,1222.0,2427.0,240.0,475.0,475.0,663.0,5630.0,1350.0,1350.0,5354.0,956.0,956.0,1800.0,1576.0,1576.0,340.0,1200.0,1445.0,1500.0,1000.0,1000.0,1650.0,3007.0,1560.0,1340.0,1780.0,1780.0,660.0,1129.0,15580.0,15580.0,15580.0,1300.0,860.0,2060.0,300.0,300.0,2409.0,2409.0,1235.0,1610.0,1610.0,311.0,2500.0,2695.0,2695.0,1700.0,1000.0,367.0,580.0,2604.0,487.0,1754.0,400.0,850.0,4000.0,1920.0,4998.0,1485.0,270.0,500.0,1197.0,1197.0,270.0,560.0,560.0,560.0,560.0,380.0,620.0,800.0,336.0,1260.0,1260.0,900.0,900.0,400.0,403.0,640.0,805.0,657.0,2750.0,2750.0,2090.0,3355.0,2347.0,4074.0,2340.0,6000.0,910.0,712.0,480.0,800.0,1056.0,450.0,450.0,360.0,385.0,649.0,649.0,336.0,760.0,2700.0,2700.0,690.0,590.0,590.0,1200.0,1754.0,2800.0,3375.0,3375.0,1700.0,600.0,5000.0,475.0,2000.0,2000.0,1650.0,1500.0,1500.0,1250.0,1560.0,400.0,1049.0,2458.0,2499.0,3770.0,3770.0,2790.0,1394.0,695.0,1005.0,3060.0,1351.0,300.0,300.0,300.0,580.0,580.0,1940.0,1940.0,407.0,1805.0,3200.0,691.0,1400.0,1512.0,767.0,630.0,630.0,1538.0,13004.0,280.0,280.0,280.0,3255.0,80.0,80.0,1359.0,650.0,650.0,440.0,350.0,4142.0,815.0,999.0,999.0,999.0,315.0,315.0,750.0,935.0,1350.0,1350.0,999.0,880.0,880.0,1991.0,230.0,430.0,895.0,670.0,570.0,2450.0,840.0,460.0,800.0,1200.0,550.0,350.0,350.0,330.0,169.0,6005.0,380.0,380.0,245.0,10438.0,10438.0,10438.0,8670.0,1423.0,277.0,300.0,1035.0,1500.0,1500.0,450.0,500.0,500.0,500.0,380.0,380.0,415.0,415.0,630.0,630.0,450.0,1150.0,1150.0,5312.0,4783.0,200.0,5860.0,2000.0,2000.0,2051.0,2051.0,2051.0,2896.0,1000.0,858.0,858.0,400.0,5600.0,1491.0,680.0,1090.0,4900.0,900.0,2000.0,555.0,1600.0,1100.0,840.0,840.0,840.0,1750.0,408.0,2160.0,2050.0,5100.0,3489.0,1450.0,830.0,1520.0,1900.0,900.0,1550.0,804.0,804.0,420.0,450.0,550.0,550.0,710.0,933.0,747.0,747.0,1880.0,2640.0,1050.0,320.0,950.0,630.0,300.0,909.0,909.0,630.0,630.0,1114.0,1114.0,400.0,523.0,870.0,500.0,1300.0,3374.0,1600.0,1500.0,1400.0,1125.0,1060.0,2200.0,350.0,720.0,950.0,1830.0,800.0,810.0,810.0,1000.0,1000.0,1200.0,1200.0,850.0,1260.0,1260.0,1260.0,450.0,985.0,1700.0,1100.0,1100.0,1260.0,327.0,450.0,677.0,1700.0,1600.0,1200.0,1200.0,480.0,1440.0,518.0,1900.0,660.0,200.0,480.0,815.0,815.0,460.0,980.0,1050.0,1100.0,695.0,500.0,500.0,575.0,575.0,190.0,1150.0,620.0,3350.0,540.0,950.0,702.0,2600.0,500.0,500.0,1314.0,7073.0,480.0,2500.0,1352.0,1352.0,8800.0,600.0,1260.0,610.0,400.0,620.0,2500.0,2500.0,650.0,600.0,500.0,5235.0,3400.0,746.0,2192.0,2192.0,1092.0,4900.0,3200.0,3200.0,11014.0,4830.0,4830.0,4918.0,5326.0,4119.0,7100.0,4429.0,2030.0,2461.0,244.0,5205.0,4590.0,3346.0,750.0,3200.0,1600.0,7100.0,7100.0,7100.0,4480.0,393.0,800.0,1700.0,1280.0,1057.0,1810.0,730.0,380.0,340.0,880.0,150.0,470.0,228.0,4846.0,4846.0,550.0,2127.0,568.0,853.0,1080.0,1080.0,1220.0,1390.0,440.0,750.0,850.0,850.0,501.0,1151.0,3186.0,3186.0,520.0,398.0,2240.0,570.0,2785.0,3668.0,440.0,650.0,284.0,3100.0,285.0,285.0,11900.0,1579.0,6890.0,720.0,2950.0,3947.0,3947.0,250.0,4953.0,8382.0,2414.0,2414.0,3728.0,6036.0,810.0,2400.0,1465.0,1032.0,642.0,642.0,605.0,1105.0,160.0,12473.0,253.0,234.0,3933.0,3933.0,480.0,5200.0,644.0,550.0,550.0,330.0,960.0,5833.0,5833.0,19495.0,3600.0,1128.0,1360.0,580.0,580.0,580.0,2478.0,2400.0,2100.0,467.0,467.0,260.0,390.0,255.0,110.0,10600.0,10600.0,1200.0,1200.0,1975.0,1975.0,2050.0,1290.0,1799.0,450.0,872.0,473.0,473.0,500.0,1740.0,495.0,636.0,608.0,2752.0,1250.0,1250.0,1250.0,1200.0,1900.0,132.0,4260.0,970.0,2940.0,170.0,530.0,530.0,2120.0,2210.0,2140.0,1016.0,436.0,450.0,500.0,568.0,568.0,2310.0,3700.0,900.0,3100.0,3100.0,3000.0,760.0,211.0,1200.0,1129.0,6025.0,230.0,2850.0,2850.0,2555.0,2555.0,4760.0,2075.0,450.0,1010.0,1121.0,3564.0,3000.0,3000.0,1332.0,400.0,1922.0,215.0,215.0,2417.0,600.0,1387.0,290.0,290.0,490.0,2056.0,550.0,3280.0,611.0,216.0,2220.0,1962.0,227.0,8500.0,462.0,1912.0,5331.0,5331.0,4903.0,4903.0,369.0,323.0,1430.0,3490.0,7678.0,7678.0,635.0,2478.0,2478.0,160.0,745.0,1468.0,1180.0,3826.0,1300.0,1300.0,3858.0,1914.0,1332.0,10648.0,10648.0,2500.0,2250.0,2250.0,2000.0,850.0,975.0,840.0,2250.0,306.0,732.0,6700.0,6700.0,620.0,905.0,1846.0,1846.0,800.0,4895.0,3767.0,7823.0,765.0,765.0,9432.0,500.0,1836.0,1600.0,3011.0,6850.0,6800.0,4300.0,4300.0,3245.0,4395.0,4172.0,3018.0,352.0,4251.0,500.0,5640.0,5640.0,2220.0,2913.0,3550.0,1000.0,2658.0,2658.0,2450.0,5140.0,2143.0,1540.0,1540.0,1540.0,1100.0,3992.0,3000.0,3142.0,3142.0,1932.0,1932.0,1800.0,1800.0,725.0,1025.0,1092.0,1092.0,954.0,940.0,940.0,1025.0,350.0,350.0,520.0,448.0,448.0,2690.0,3020.0,5214.0,5214.0,1320.0,5800.0,1062.0,2080.0,1250.0,2000.0,2073.0,2073.0,4100.0,600.0,1190.0,1100.0,850.0,3335.0,1000.0,1302.0,4858.0,520.0,520.0,2200.0,300.0,6950.0,6950.0,4979.0,2733.0,1862.0,5900.0,724.0,421.0,830.0,607.0,1920.0,305.0,5022.0,3989.0,700.0,1589.0,1589.0,2000.0,750.0,5013.0,5013.0,6000.0,797.0,1002.0,1002.0,2100.0,2100.0,2100.0,500.0,750.0,1887.0,2250.0,841.0,841.0,746.0,500.0,500.0,1430.0,1430.0,6203.0,356.0,484.0,517.0,360.0,360.0,575.0,3674.0,3674.0,540.0,350.0,350.0,2600.0,625.0,1310.0,1310.0,1050.0,1050.0,785.0,950.0,1522.0,615.0,300.0,3610.0,3050.0,400.0,630.0,630.0,5200.0,3800.0,883.0,3300.0,3300.0,3300.0,3300.0,2910.0,5127.0,2289.0,2124.0,1165.0,1165.0,2800.0,1441.0,573.0,600.0,600.0,750.0,750.0,1773.0,2460.0,2200.0,1935.0,536.0,900.0,2050.0,700.0,325.0,325.0,283.0,4739.0,1750.0,290.0,660.0,2200.0,2200.0,1250.0,1250.0,250.0,8550.0,2931.0,830.0,5600.0,2140.0,887.0,1200.0,2385.0,700.0,7595.0,7595.0,2290.0,2290.0,300.0,300.0,3473.0,2670.0,1600.0,12800.0,12800.0,600.0,500.0,3640.0,3640.0,328.0,1157.0,500.0,1440.0,896.0,450.0,3248.0,980.0,908.0,500.0,1580.0,865.0,1400.0,400.0,800.0,1294.0,1200.0,1000.0,1000.0,1120.0,812.0,1117.0,1117.0,1500.0,900.0,400.0,2470.0,2131.0,882.0,882.0,325.0,400.0,2770.0,2770.0,1744.0,536.0,630.0,2756.0,1061.0,747.0,550.0,2096.0,3225.0,1484.0,1530.0,1294.0,1535.0,2000.0,7930.0,832.0,627.0,3889.0,560.0,1260.0,1260.0,1555.0,2520.0,2565.0,2222.0,982.0,425.0,1290.0,1160.0,1900.0,2080.0,1360.0,1975.0,1030.0,7500.0,813.0,1603.0,510.0,4830.0,1765.0,1765.0,1765.0,656.0,2549.0,1380.0,1040.0,2160.0,2457.0,2457.0,814.0,814.0,1630.0,1630.0,1140.0,1140.0,820.0,1666.0,2184.0,1081.0,1350.0,880.0,880.0,1210.0,2091.0,2091.0,1000.0,760.0,630.0,286.0,1858.0,1858.0,1200.0,500.0,500.0,3750.0,820.0,1400.0,950.0,800.0,900.0,900.0,3850.0,3850.0,3850.0,788.0,951.0,1380.0,745.0,745.0,1200.0,870.0,1432.0,2849.0,2000.0,1403.0,100.0,830.0,265.0,2396.0,1717.0,964.0,964.0,964.0,12615.0,1000.0,2100.0,250.0,1630.0,2800.0,441.0,394.0,250.0,2146.0,970.0,1650.0,1650.0,890.0,330.0,3480.0,3480.0,410.0,730.0,1528.0,970.0,1200.0,1065.0,1540.0,2816.0,900.0,2552.0,730.0,1600.0,1600.0,800.0,2153.0,1054.0,900.0,1700.0,1700.0,1547.0,1547.0,7612.0,2900.0,371.0,265.0,265.0,1820.0,1252.0,1130.0,1130.0,550.0,1235.0,1800.0,1800.0,1500.0,1800.0,600.0,3690.0,3690.0,1400.0,1355.0,1355.0,2700.0,2700.0,780.0,1440.0,850.0,1125.0,1125.0,1170.0,1313.0,1205.0,1205.0,750.0,2127.0,1260.0,980.0,2275.0,1252.0,2515.0,1500.0,620.0,620.0,620.0,1700.0,1700.0,1339.0,949.0,250.0,1000.0,410.0,1400.0,3000.0,1000.0,1000.0,200.0,140.0,100.0,1126.0,1630.0,2750.0,1495.0,1040.0,2331.0,2331.0,2511.0,1739.0,1739.0,1690.0,1827.0,1827.0,380.0,380.0,6880.0,1160.0,3564.0,2330.0,1460.0,700.0,1785.0,1700.0,3500.0,3500.0,1575.0,1575.0,2670.0,2025.0,2650.0,2650.0,3950.0,1680.0,2929.0,2929.0,3891.0,1410.0,1410.0,420.0,1100.0,1290.0,2535.0,870.0,3250.0,1340.0,300.0,300.0,2500.0,2015.0,2015.0,175.0,570.0,3950.0,935.0,800.0,2550.0,1800.0,1800.0,1113.0,1113.0,1240.0,1300.0,1300.0,460.0,1620.0,1120.0,2504.0,480.0,160.0,160.0,160.0,2520.0,2520.0,820.0,820.0,903.0,1240.0,7246.0,11626.0,1127.0,1029.0,765.0,1096.0,1736.0,3000.0,3000.0,1300.0,2670.0,2327.0,2651.0,2240.0,404.0,404.0,793.0,793.0,950.0,350.0,2754.0,418.0,1780.0,1780.0,600.0,600.0,2015.0,2015.0,550.0,550.0,500.0,1700.0,900.0,2000.0,500.0,500.0,380.0,750.0,1755.0,1368.0,3448.0,4235.0,1200.0,1200.0,1200.0,2200.0,2720.0,403.0,975.0,975.0,1710.0,1710.0,1710.0,1840.0,1170.0,1650.0,1802.0,600.0,981.0,316.0,2200.0,2200.0,750.0,1390.0,2740.0,450.0,615.0,615.0,978.0,978.0,380.0,590.0,2300.0,3350.0,3350.0,4656.0,840.0,800.0,260.0,1000.0,410.0,410.0,495.0,495.0,630.0,850.0,540.0,7160.0,891.0,891.0,1410.0,1970.0,1970.0,1970.0,728.0,326.0,22.0,350.0,500.0,150.0,800.0,800.0,4500.0,4500.0,1300.0,3200.0,715.0,150.0,550.0,550.0,120.0,605.0,950.0,320.0,1300.0,6780.0,6780.0,2400.0,2400.0,630.0,150.0,150.0,3300.0,1580.0,1580.0,1680.0,1535.0,1331.0,3065.0,3752.0,410.0,1052.0,1052.0,800.0,800.0,800.0,2190.0,2700.0,600.0,1957.0,280.0,280.0,11810.0,296.0,296.0,750.0,390.0,637.0,385.0,590.0,590.0,329.0,660.0,1020.0,921.0,921.0,1815.0,652.0,652.0,311.0,400.0,450.0,200.0,200.0,150.0,825.0,612.0,2074.0,678.0,15026.0,15026.0,1213.0,3198.0,3198.0,7000.0,1680.0,5343.0,9994.0,710.0,710.0,900.0,500.0,280.0,1425.0,1425.0,1425.0,3400.0,6017.0,460.0,600.0,236.0,236.0,236.0,440.0,3450.0,6315.0,5845.0,1877.0,450.0,1120.0,1120.0,350.0,420.0,400.0,300.0,2000.0,829.0,540.0,540.0,634.0,1137.0,2100.0,250.0,2000.0,2000.0,20000.0,5102.0,3420.0,5154.0,400.0,2320.0,971.0,256.0,350.0,1002.0,1002.0,1306.0,6204.0,1700.0,1425.0,300.0,300.0,1540.0,3035.0,2126.0,700.0,700.0,4501.0,305.0,2100.0,390.0,3800.0,675.0,675.0,6325.0,632.0,350.0,350.0,350.0,1944.0,3650.0,3650.0,332.0,240.0,240.0,1100.0,300.0,800.0,1091.0,2135.0,2135.0,15917.0,500.0,685.0,2650.0,3936.0,3936.0,3936.0,816.0,640.0,1230.0,3900.0,250.0,960.0,960.0,685.0,2250.0,550.0,3500.0,4800.0,550.0,5580.0,426.0,180.0,370.0,850.0,378.0,378.0,840.0,840.0,420.0,260.0,886.0,4212.0,2734.0,300.0,883.0,190.0,3145.0,1200.0,6000.0,340.0,450.0,410.0,890.0,1960.0,250.0,3110.0,470.0,470.0,9390.0,9390.0,12053.0,16811.0,10732.0,1573.0,5210.0,5210.0,5210.0,3528.0,2875.0,2824.0,2824.0,2100.0,500.0,360.0,1800.0,1800.0,1800.0,1800.0,3224.0,4837.0,3000.0,2500.0,6738.0,6600.0,6600.0,934.0,2100.0,2250.0,660.0,4890.0,4910.0,2829.0,290.0,400.0,4105.0,1619.0,1619.0,2451.0,2900.0,1228.0,800.0,800.0,512.0,741.0,200.0,200.0,3606.0,2887.0,5323.0,450.0,680.0,150.0,3200.0,500.0,10620.0,250.0,250.0,620.0,620.0,620.0,360.0,1241.0,600.0,3325.0,3325.0,2793.0,2793.0,2999.0,3762.0,600.0,725.0,300.0,1040.0,1684.0,1083.0,900.0,900.0,2700.0,2700.0,1800.0,2300.0,2050.0,2100.0,2100.0,360.0,2400.0,840.0,3900.0,200.0,2350.0,105.0,450.0,1525.0,2440.0,2500.0,2700.0,400.0,340.0,798.0,400.0,1103.0,400.0,540.0,1861.0,560.0,700.0,810.0,3500.0,316.0,1126.0,405.0,450.0,1400.0,1400.0,1212.0,2300.0,5500.0,450.0,4020.0,4612.0,1250.0,3111.0,900.0,900.0,650.0,1956.0,1956.0,200.0,200.0,2363.0,782.0,574.0,250.0,250.0,3120.0,530.0,180.0,220.0,665.0,950.0,350.0,975.0,2289.0,731.0,5625.0,5625.0,1750.0,1750.0,1667.0,3147.0,400.0,2500.0,6800.0,4468.0,30.0,1700.0,1700.0,1700.0,1000.0,1000.0,2230.0,2230.0,228.0,1731.0,1731.0,1000.0,2609.0,2609.0,6307.0,499.0,8150.0,460.0,460.0,460.0,800.0,8150.0,1200.0,900.0,4625.0,1784.0,2580.0,730.0,16347.0,3833.0,3606.0,150.0,2496.0,150.0,495.0,495.0,880.0,7400.0,560.0,560.0,430.0,1000.0,500.0,3800.0,3800.0,3800.0,1312.0,1950.0,700.0,689.0,689.0,1440.0,1440.0,3339.0,3339.0,3339.0,186.0,420.0,1440.0,560.0,560.0,426.0,1300.0,1648.0,350.0,350.0,2188.0,2188.0,2188.0,900.0,4650.0,4650.0,300.0,6486.0,2400.0,750.0,310.0,4300.0,210.0,1900.0,450.0,3286.0,160.0,300.0,2850.0,2850.0,2850.0,1000.0,5880.0,600.0,3364.0,1870.0,1186.0,950.0,2986.0,1900.0,370.0,10310.0,500.0,2085.0,806.0,650.0,1000.0,4000.0,4000.0,610.0,1800.0,1800.0,4374.0,2355.0,3040.0,1400.0,1400.0,3700.0,605.0,322.0,322.0,8982.0,1180.0,2550.0,9474.0,977.0,800.0,1033.0,4650.0,2000.0,580.0,891.0,210.0,210.0,2002.0,950.0,915.0,915.0,600.0,300.0,2100.0,2100.0,850.0,220.0,1445.0,350.0,272.0,1250.0,1250.0,500.0,1152.0,544.0,544.0,1900.0,1900.0,760.0,1382.0,1260.0,300.0,400.0,460.0,360.0,1790.0,1450.0,1450.0,1100.0,1100.0,1820.0,2184.0,9000.0,1068.0,1068.0,750.0,750.0,345.0,6489.0,6489.0,6160.0,3369.0,462.0,410.0,1400.0,605.0,2400.0,800.0,750.0,750.0,750.0,1031.0,1031.0,640.0,320.0,1200.0,2793.0,140.0,4113.0,480.0,300.0,3004.0,350.0,350.0,790.0,1093.0,360.0,3000.0,350.0,400.0,1350.0,4725.0,4725.0,1988.0,4970.0,250.0,350.0,500.0,332.0,332.0,792.0,15860.0,15860.0,321.0,800.0,800.0,3500.0,344.0,5800.0,250.0,250.0,300.0,355.0,355.0,185.0,3200.0,3200.0,1450.0,800.0,7382.0,17000.0,10000.0,10000.0,1275.0,796.0,796.0,985.0,1800.0,1800.0,700.0,700.0,900.0,200.0,5320.0,2175.0,809.0,300.0,1452.0,1876.0,1876.0,420.0,9000.0,1000.0,400.0,1430.0,1430.0,3850.0,200.0,140.0,4772.0,300.0,210.0,3240.0,1050.0,3050.0,2170.0,2170.0,2200.0,2200.0,2200.0,5855.0,2504.0,696.0,3600.0,4096.0,1061.0,1061.0,1061.0,1450.0,1650.0,300.0,5300.0,700.0,700.0,2968.0,325.0,120.0,450.0,408.0,710.0,710.0,10900.0,360.0,1850.0,2952.0,450.0,3000.0,625.0,3085.0,1900.0,2432.0,1614.0,1614.0,1196.0,2280.0,460.0,4337.0,300.0,336.0,336.0,600.0,750.0,1556.0,1902.0,1902.0,1902.0,700.0,600.0,600.0,1800.0,3050.0,4430.0,250.0,638.0,3950.0,1100.0,910.0,1181.0,620.0,4780.0,11300.0,2250.0,750.0,750.0,1200.0,3850.0,1650.0,11300.0,400.0,400.0,13777.0,2240.0,518.0,165.0,630.0,240.0,350.0,370.0,1300.0,582.0,582.0,1945.0,1200.0,423.0,700.0,700.0,650.0,650.0,510.0,510.0,1400.0,350.0,350.0,310.0,1210.0,2150.0,2612.0,624.0,488.0,488.0,1740.0,5250.0,366.0,500.0,500.0,1500.0,1500.0,1702.0,2140.0,1405.0,1405.0,1112.0,1380.0,3107.0,3120.0,1501.0,707.0,650.0,650.0,1075.0,2406.0,2020.0,2020.0,2880.0,2880.0,1300.0,539.0,600.0,600.0,450.0,1050.0,540.0,2880.0,2880.0,450.0,600.0,560.0,1500.0,530.0,530.0,900.0,450.0,2075.0,2250.0,2250.0,880.0,400.0,400.0,820.0,1200.0,878.0,1900.0,450.0,2233.0,3000.0,206.0,380.0,7023.0,4601.0,2394.0,360.0,360.0,690.0,730.0,800.0,800.0,1020.0,8436.0,8436.0,1303.0,650.0,895.0,895.0,1600.0,882.0,700.0,850.0,850.0,690.0,2770.0,478.0,1460.0,792.0,723.0,900.0,900.0,1000.0,250.0,612.0,3887.0,250.0,1330.0,320.0,3450.0,4350.0,300.0,4536.0,1024.0,1024.0,250.0,250.0,634.0,634.0,160.0,651.0,651.0,81.0,250.0,250.0,2750.0,200.0,3349.0,3349.0,3349.0,494.0,447.0,561.0,872.0,380.0,1190.0,629.0,629.0,330.0,330.0,561.0,400.0,3100.0,1550.0,1300.0,320.0,650.0,800.0,800.0,462.0,300.0,700.0,500.0,1400.0,1400.0,528.0,523.0,2275.0,434.0,360.0,770.0,210.0,210.0,940.0,1309.0,1309.0,7550.0,380.0,250.0,754.0,600.0,360.0,4354.0,2518.0,2785.0,2785.0,10.0,14906.0,550.0,260.0,600.0,600.0,560.0,960.0,195.0,280.0,12474.0,1764.0,1548.0,3000.0,250.0,1250.0,3362.0,3362.0,11007.0,460.0,123.0,390.0,390.0,700.0,380.0,180.0,180.0,180.0,380.0,2000.0,915.0,300.0,1100.0,205.0,820.0,4500.0,1350.0,1034.0,100.0,6010.0,1200.0,535.0,3750.0,6300.0,800.0,700.0,700.0,532.0,1460.0,1100.0,1210.0,1267.0,400.0,562.0,484.0,416.0,790.0,790.0,3700.0,3700.0,600.0,960.0,6280.0,500.0,2110.0,3950.0,3100.0,3100.0,1116.0,1116.0,636.0,735.0,1300.0,1300.0,550.0,1265.0,916.0,916.0,612.0,612.0,1698.0,1418.0,1900.0,791.0,791.0,662.0,662.0,1568.0,1568.0,798.0,1850.0,930.0,930.0,1400.0,908.0,715.0,1100.0,1752.0,1752.0,1500.0,1500.0,1950.0,3953.0,586.0,1300.0,780.0,3947.0,1350.0,350.0,5278.0,1180.0,450.0,220.0,250.0,400.0,2450.0,850.0,2646.0,550.0,824.0,600.0,1100.0,4100.0,4100.0,1100.0,1100.0,230.0,420.0,2000.0,1460.0,2866.0,1196.0,714.0,714.0,300.0,750.0,750.0,9449.0,9449.0,2110.0,550.0,10142.0,11516.0,1015.0,1015.0,960.0,700.0,765.0,1054.0,1535.0,310.0,2110.0,285.0,285.0,9100.0,1880.0,5237.0,1836.0,3731.0,1065.0,3460.0,225.0,1200.0,7600.0,180.0,1026.0,7000.0,12582.0,252.0,3300.0,390.0,1970.0,500.0,1125.0,696.0,696.0,696.0,520.0,262.0,325.0,333.0,333.0,333.0,2000.0,420.0,2910.0,2910.0,2910.0,2910.0,2910.0,3248.0,2880.0,1328.0,250.0,1250.0,1122.0,643.0,300.0,300.0,4575.0,480.0,480.0,240.0,2062.0,2062.0,1880.0,1.0,1759.0,600.0,300.0,705.0,705.0,705.0,705.0,1300.0,910.0,6410.0,1200.0,350.0,1157.0,1270.0,2600.0,504.0,1355.0,982.0,1252.0,4392.0,4392.0,2700.0,2700.0,8018.0,831.0,1300.0,630.0,450.0,387.0,900.0,710.0,6054.0,3068.0,770.0,845.0,845.0,286.0,600.0,1215.0,5020.0,5020.0,6813.0,4280.0,1905.0,150.0,150.0,150.0,2200.0,733.0,850.0,850.0,2255.0,1130.0,1000.0,1000.0,1000.0,1000.0,300.0,300.0,300.0,700.0,460.0,1350.0,975.0,12287.0,1586.0,2018.0,2018.0,9277.0,5000.0,1135.0,1150.0,600.0,906.0,870.0,3419.0,1232.0,400.0,400.0,1300.0,960.0,960.0,3161.0,1604.0,290.0,1000.0,1000.0,385.0,460.0,900.0,528.0,1010.0,2549.0,8377.0,8377.0,715.0,858.0,858.0,770.0,770.0,1425.0,1425.0,380.0,500.0,1250.0,1944.0,2128.0,3516.0,4372.0,450.0,1132.0,5155.0,800.0,3400.0,3400.0,1568.0,2340.0,1450.0,800.0,800.0,1515.0,2100.0,2100.0,7592.0,2183.0,1660.0,2167.0,820.0,345.0,900.0,1650.0,3173.0,11760.0,11760.0,6038.0,240.0,330.0,330.0,1000.0,1000.0,850.0,865.0,650.0,900.0,90.0,3040.0,2057.0,760.0,812.0,1562.0,12310.0,1900.0,1900.0,400.0,1285.0,1430.0,3872.0,1274.0,273.0,3401.0,3401.0,868.0,1300.0,1300.0,1300.0,2635.0,300.0,500.0,450.0,1.0,1.0,1.0,930.0,600.0,600.0,20818.0,700.0,321.0,321.0,400.0,414.0,414.0,3800.0,7500.0,319.0,2490.0,700.0,1600.0,600.0,670.0,216.0,2300.0,200.0,1400.0,1400.0,1300.0,1300.0,882.0,220.0,480.0,480.0,480.0,1453.0,170.0,2700.0,756.0,400.0,3241.0,2448.0,465.0,1692.0,4000.0,992.0,580.0,345.0,1900.0,1650.0,500.0,350.0,1500.0,1500.0,490.0,438.0,2873.0,167.0,500.0,500.0,300.0,300.0,300.0,1264.0,1264.0,1520.0,1366.0,1365.0,300.0,700.0,400.0,320.0,389.0,700.0,450.0,200.0,200.0,3619.0,1750.0,3601.0,1978.0,400.0,400.0,183.0,326.0,660.0,660.0,2369.0,300.0,2600.0,850.0,850.0,850.0,850.0,14950.0,480.0,1795.0,255.0,141.0,141.0,400.0,350.0,2500.0,730.0,730.0,730.0,220.0,1060.0,1160.0,800.0,4256.0,325.0,325.0,1520.0,1520.0,1520.0,1200.0,1200.0,860.0,960.0,1400.0,1190.0,188.0,6671.0,722.0,400.0,456.0,500.0,770.0,460.0,2600.0,350.0,1180.0,4709.0,4709.0,10818.0,1175.0,850.0,180.0,2396.0,2396.0,1257.0,1257.0,600.0,600.0,400.0,2700.0,300.0,300.0,290.0,290.0,330.0,330.0,300.0,3164.0,880.0,9481.0,9481.0,30.0,520.0,1010.0,1010.0,358.0,2930.0,2930.0,450.0,767.0,767.0,550.0,416.0,500.0,1807.0,4823.0,700.0,20840.0,1300.0,350.0,295.0,8382.0,4998.0,900.0,2060.0,1529.0,10967.0,250.0,250.0,400.0,675.0,675.0,675.0,4275.0,830.0,1400.0,1100.0,1100.0,1100.0,181.0,5424.0,730.0,1957.0,234.0,3245.0,1225.0,6122.0,495.0,582.0,182.0,1265.0,595.0,400.0,360.0,850.0,850.0,440.0,1100.0,1100.0,2000.0,5840.0,1356.0,400.0,516.0,360.0,3200.0,490.0,2385.0,1540.0,1540.0,4400.0,6000.0,1163.0,1016.0,2335.0,1867.0,3140.0,280.0,3411.0,938.0,938.0,376.0,1135.0,300.0,850.0,850.0,480.0,5100.0,5100.0,1488.0,1790.0,2300.0,2300.0,2300.0,1176.0,1176.0,1176.0,1000.0,2300.0,1320.0,1320.0,2175.0,2175.0,2175.0,1200.0,1104.0,1227.0,3600.0,2205.0,2205.0,3170.0,1830.0,2250.0,2250.0,670.0,970.0,970.0,1036.0,1036.0,715.0,630.0,4068.0,1100.0,2250.0,4480.0,721.0,1100.0,1500.0,2040.0,1200.0,1200.0,1200.0,2700.0,2700.0,2700.0,1121.0,1121.0,1800.0,1800.0,1650.0,1650.0,2186.0,2500.0,2250.0,200.0,1800.0,3000.0,2000.0,3875.0,3875.0,1384.0,900.0,979.0,330.0,2350.0,2272.0,450.0,460.0,2000.0,800.0,9654.0,500.0,500.0,500.0,620.0,3570.0,3570.0,480.0,500.0,341.0,4080.0,7973.0,180.0,180.0,400.0,300.0,175.0,1109.0,2934.0,2934.0,350.0,450.0,735.0,735.0,857.0,455.0,455.0,455.0,700.0,400.0,1428.0,1428.0,816.0,450.0,450.0,8612.0,431.0,1340.0,1340.0,115.0,2464.0,2464.0,3220.0,1326.0,800.0,800.0,4500.0,1620.0,192.0,10500.0,170.0,430.0,4240.0,4240.0,150.0,5268.0,5268.0,716.0,716.0,400.0,3150.0,970.0,350.0,3600.0,8281.0,486.0,1972.0,1972.0,500.0,500.0,1686.0,1426.0,2105.0,512.0,900.0,660.0,794.0,4000.0,500.0,3130.0,399.0,100.0,100.0,2400.0,550.0,12000.0,17.0,17.0,450.0,6015.0,2400.0,3611.0,550.0,6658.0,250.0,750.0,750.0,500.0,400.0,640.0,224.0,350.0,100.0,700.0,570.0,370.0,1083.0,280.0,280.0,6410.0,3006.0,1880.0,800.0,850.0,2450.0,2450.0,1864.0,3043.0,200.0,8100.0,8100.0,2500.0,4400.0,600.0,3380.0,3380.0,3500.0,3500.0,3500.0,2800.0,2000.0,3300.0,3300.0,1500.0,3100.0,8150.0,3000.0,5500.0,1150.0,1150.0,6000.0,2732.0,3600.0,5800.0,1500.0,1500.0,6900.0,2300.0,8150.0,280.0,280.0,2828.0,6000.0,6000.0,2700.0,2000.0,2200.0,4200.0,2300.0,3200.0,1000.0,720.0,6000.0,2650.0,700.0,1500.0,2465.0,1800.0,1800.0,2240.0,4207.0,850.0,5300.0,5300.0,5300.0,5300.0,500.0,500.0,1850.0,1850.0,1775.0,1775.0,2444.0,1017.0,1017.0,400.0,2732.0,1083.0,1083.0,1083.0,1083.0,1083.0,1083.0,1083.0,1083.0,1083.0,1083.0,1083.0,1083.0,1083.0,1083.0,1083.0,1083.0,1083.0,1083.0,1083.0,1083.0,1083.0,1083.0,1083.0,1083.0,1083.0,1083.0,1083.0,1083.0,1083.0,1083.0,1083.0,1083.0,1083.0,1083.0,1083.0,1083.0,1083.0,1083.0,1083.0,1083.0,1083.0,1083.0,1083.0,1083.0,1083.0,1083.0,1083.0,1083.0,1083.0,1083.0,1083.0,1083.0,1083.0,1083.0,1083.0,1083.0,1083.0,1083.0,1083.0,1083.0,1083.0,1083.0,1083.0,1083.0,1083.0,1083.0,1083.0,1083.0,1083.0,1083.0,1083.0,1083.0,1083.0,1083.0,1083.0,1083.0,1083.0,1083.0,1083.0,1083.0,1083.0,1083.0,1083.0,1083.0,1083.0,1083.0,1083.0,1083.0,1083.0,1083.0,1083.0,1083.0,1083.0,1083.0,1083.0,1083.0,1083.0,1083.0,1083.0,1083.0,1083.0,1083.0],\"y0\":\" \",\"yaxis\":\"y\",\"type\":\"box\"}],                        {\"template\":{\"data\":{\"histogram2dcontour\":[{\"type\":\"histogram2dcontour\",\"colorbar\":{\"outlinewidth\":0,\"ticks\":\"\"},\"colorscale\":[[0.0,\"#0d0887\"],[0.1111111111111111,\"#46039f\"],[0.2222222222222222,\"#7201a8\"],[0.3333333333333333,\"#9c179e\"],[0.4444444444444444,\"#bd3786\"],[0.5555555555555556,\"#d8576b\"],[0.6666666666666666,\"#ed7953\"],[0.7777777777777778,\"#fb9f3a\"],[0.8888888888888888,\"#fdca26\"],[1.0,\"#f0f921\"]]}],\"choropleth\":[{\"type\":\"choropleth\",\"colorbar\":{\"outlinewidth\":0,\"ticks\":\"\"}}],\"histogram2d\":[{\"type\":\"histogram2d\",\"colorbar\":{\"outlinewidth\":0,\"ticks\":\"\"},\"colorscale\":[[0.0,\"#0d0887\"],[0.1111111111111111,\"#46039f\"],[0.2222222222222222,\"#7201a8\"],[0.3333333333333333,\"#9c179e\"],[0.4444444444444444,\"#bd3786\"],[0.5555555555555556,\"#d8576b\"],[0.6666666666666666,\"#ed7953\"],[0.7777777777777778,\"#fb9f3a\"],[0.8888888888888888,\"#fdca26\"],[1.0,\"#f0f921\"]]}],\"heatmap\":[{\"type\":\"heatmap\",\"colorbar\":{\"outlinewidth\":0,\"ticks\":\"\"},\"colorscale\":[[0.0,\"#0d0887\"],[0.1111111111111111,\"#46039f\"],[0.2222222222222222,\"#7201a8\"],[0.3333333333333333,\"#9c179e\"],[0.4444444444444444,\"#bd3786\"],[0.5555555555555556,\"#d8576b\"],[0.6666666666666666,\"#ed7953\"],[0.7777777777777778,\"#fb9f3a\"],[0.8888888888888888,\"#fdca26\"],[1.0,\"#f0f921\"]]}],\"heatmapgl\":[{\"type\":\"heatmapgl\",\"colorbar\":{\"outlinewidth\":0,\"ticks\":\"\"},\"colorscale\":[[0.0,\"#0d0887\"],[0.1111111111111111,\"#46039f\"],[0.2222222222222222,\"#7201a8\"],[0.3333333333333333,\"#9c179e\"],[0.4444444444444444,\"#bd3786\"],[0.5555555555555556,\"#d8576b\"],[0.6666666666666666,\"#ed7953\"],[0.7777777777777778,\"#fb9f3a\"],[0.8888888888888888,\"#fdca26\"],[1.0,\"#f0f921\"]]}],\"contourcarpet\":[{\"type\":\"contourcarpet\",\"colorbar\":{\"outlinewidth\":0,\"ticks\":\"\"}}],\"contour\":[{\"type\":\"contour\",\"colorbar\":{\"outlinewidth\":0,\"ticks\":\"\"},\"colorscale\":[[0.0,\"#0d0887\"],[0.1111111111111111,\"#46039f\"],[0.2222222222222222,\"#7201a8\"],[0.3333333333333333,\"#9c179e\"],[0.4444444444444444,\"#bd3786\"],[0.5555555555555556,\"#d8576b\"],[0.6666666666666666,\"#ed7953\"],[0.7777777777777778,\"#fb9f3a\"],[0.8888888888888888,\"#fdca26\"],[1.0,\"#f0f921\"]]}],\"surface\":[{\"type\":\"surface\",\"colorbar\":{\"outlinewidth\":0,\"ticks\":\"\"},\"colorscale\":[[0.0,\"#0d0887\"],[0.1111111111111111,\"#46039f\"],[0.2222222222222222,\"#7201a8\"],[0.3333333333333333,\"#9c179e\"],[0.4444444444444444,\"#bd3786\"],[0.5555555555555556,\"#d8576b\"],[0.6666666666666666,\"#ed7953\"],[0.7777777777777778,\"#fb9f3a\"],[0.8888888888888888,\"#fdca26\"],[1.0,\"#f0f921\"]]}],\"mesh3d\":[{\"type\":\"mesh3d\",\"colorbar\":{\"outlinewidth\":0,\"ticks\":\"\"}}],\"scatter\":[{\"fillpattern\":{\"fillmode\":\"overlay\",\"size\":10,\"solidity\":0.2},\"type\":\"scatter\"}],\"parcoords\":[{\"type\":\"parcoords\",\"line\":{\"colorbar\":{\"outlinewidth\":0,\"ticks\":\"\"}}}],\"scatterpolargl\":[{\"type\":\"scatterpolargl\",\"marker\":{\"colorbar\":{\"outlinewidth\":0,\"ticks\":\"\"}}}],\"bar\":[{\"error_x\":{\"color\":\"#2a3f5f\"},\"error_y\":{\"color\":\"#2a3f5f\"},\"marker\":{\"line\":{\"color\":\"#E5ECF6\",\"width\":0.5},\"pattern\":{\"fillmode\":\"overlay\",\"size\":10,\"solidity\":0.2}},\"type\":\"bar\"}],\"scattergeo\":[{\"type\":\"scattergeo\",\"marker\":{\"colorbar\":{\"outlinewidth\":0,\"ticks\":\"\"}}}],\"scatterpolar\":[{\"type\":\"scatterpolar\",\"marker\":{\"colorbar\":{\"outlinewidth\":0,\"ticks\":\"\"}}}],\"histogram\":[{\"marker\":{\"pattern\":{\"fillmode\":\"overlay\",\"size\":10,\"solidity\":0.2}},\"type\":\"histogram\"}],\"scattergl\":[{\"type\":\"scattergl\",\"marker\":{\"colorbar\":{\"outlinewidth\":0,\"ticks\":\"\"}}}],\"scatter3d\":[{\"type\":\"scatter3d\",\"line\":{\"colorbar\":{\"outlinewidth\":0,\"ticks\":\"\"}},\"marker\":{\"colorbar\":{\"outlinewidth\":0,\"ticks\":\"\"}}}],\"scattermapbox\":[{\"type\":\"scattermapbox\",\"marker\":{\"colorbar\":{\"outlinewidth\":0,\"ticks\":\"\"}}}],\"scatterternary\":[{\"type\":\"scatterternary\",\"marker\":{\"colorbar\":{\"outlinewidth\":0,\"ticks\":\"\"}}}],\"scattercarpet\":[{\"type\":\"scattercarpet\",\"marker\":{\"colorbar\":{\"outlinewidth\":0,\"ticks\":\"\"}}}],\"carpet\":[{\"aaxis\":{\"endlinecolor\":\"#2a3f5f\",\"gridcolor\":\"white\",\"linecolor\":\"white\",\"minorgridcolor\":\"white\",\"startlinecolor\":\"#2a3f5f\"},\"baxis\":{\"endlinecolor\":\"#2a3f5f\",\"gridcolor\":\"white\",\"linecolor\":\"white\",\"minorgridcolor\":\"white\",\"startlinecolor\":\"#2a3f5f\"},\"type\":\"carpet\"}],\"table\":[{\"cells\":{\"fill\":{\"color\":\"#EBF0F8\"},\"line\":{\"color\":\"white\"}},\"header\":{\"fill\":{\"color\":\"#C8D4E3\"},\"line\":{\"color\":\"white\"}},\"type\":\"table\"}],\"barpolar\":[{\"marker\":{\"line\":{\"color\":\"#E5ECF6\",\"width\":0.5},\"pattern\":{\"fillmode\":\"overlay\",\"size\":10,\"solidity\":0.2}},\"type\":\"barpolar\"}],\"pie\":[{\"automargin\":true,\"type\":\"pie\"}]},\"layout\":{\"autotypenumbers\":\"strict\",\"colorway\":[\"#636efa\",\"#EF553B\",\"#00cc96\",\"#ab63fa\",\"#FFA15A\",\"#19d3f3\",\"#FF6692\",\"#B6E880\",\"#FF97FF\",\"#FECB52\"],\"font\":{\"color\":\"#2a3f5f\"},\"hovermode\":\"closest\",\"hoverlabel\":{\"align\":\"left\"},\"paper_bgcolor\":\"white\",\"plot_bgcolor\":\"#E5ECF6\",\"polar\":{\"bgcolor\":\"#E5ECF6\",\"angularaxis\":{\"gridcolor\":\"white\",\"linecolor\":\"white\",\"ticks\":\"\"},\"radialaxis\":{\"gridcolor\":\"white\",\"linecolor\":\"white\",\"ticks\":\"\"}},\"ternary\":{\"bgcolor\":\"#E5ECF6\",\"aaxis\":{\"gridcolor\":\"white\",\"linecolor\":\"white\",\"ticks\":\"\"},\"baxis\":{\"gridcolor\":\"white\",\"linecolor\":\"white\",\"ticks\":\"\"},\"caxis\":{\"gridcolor\":\"white\",\"linecolor\":\"white\",\"ticks\":\"\"}},\"coloraxis\":{\"colorbar\":{\"outlinewidth\":0,\"ticks\":\"\"}},\"colorscale\":{\"sequential\":[[0.0,\"#0d0887\"],[0.1111111111111111,\"#46039f\"],[0.2222222222222222,\"#7201a8\"],[0.3333333333333333,\"#9c179e\"],[0.4444444444444444,\"#bd3786\"],[0.5555555555555556,\"#d8576b\"],[0.6666666666666666,\"#ed7953\"],[0.7777777777777778,\"#fb9f3a\"],[0.8888888888888888,\"#fdca26\"],[1.0,\"#f0f921\"]],\"sequentialminus\":[[0.0,\"#0d0887\"],[0.1111111111111111,\"#46039f\"],[0.2222222222222222,\"#7201a8\"],[0.3333333333333333,\"#9c179e\"],[0.4444444444444444,\"#bd3786\"],[0.5555555555555556,\"#d8576b\"],[0.6666666666666666,\"#ed7953\"],[0.7777777777777778,\"#fb9f3a\"],[0.8888888888888888,\"#fdca26\"],[1.0,\"#f0f921\"]],\"diverging\":[[0,\"#8e0152\"],[0.1,\"#c51b7d\"],[0.2,\"#de77ae\"],[0.3,\"#f1b6da\"],[0.4,\"#fde0ef\"],[0.5,\"#f7f7f7\"],[0.6,\"#e6f5d0\"],[0.7,\"#b8e186\"],[0.8,\"#7fbc41\"],[0.9,\"#4d9221\"],[1,\"#276419\"]]},\"xaxis\":{\"gridcolor\":\"white\",\"linecolor\":\"white\",\"ticks\":\"\",\"title\":{\"standoff\":15},\"zerolinecolor\":\"white\",\"automargin\":true,\"zerolinewidth\":2},\"yaxis\":{\"gridcolor\":\"white\",\"linecolor\":\"white\",\"ticks\":\"\",\"title\":{\"standoff\":15},\"zerolinecolor\":\"white\",\"automargin\":true,\"zerolinewidth\":2},\"scene\":{\"xaxis\":{\"backgroundcolor\":\"#E5ECF6\",\"gridcolor\":\"white\",\"linecolor\":\"white\",\"showbackground\":true,\"ticks\":\"\",\"zerolinecolor\":\"white\",\"gridwidth\":2},\"yaxis\":{\"backgroundcolor\":\"#E5ECF6\",\"gridcolor\":\"white\",\"linecolor\":\"white\",\"showbackground\":true,\"ticks\":\"\",\"zerolinecolor\":\"white\",\"gridwidth\":2},\"zaxis\":{\"backgroundcolor\":\"#E5ECF6\",\"gridcolor\":\"white\",\"linecolor\":\"white\",\"showbackground\":true,\"ticks\":\"\",\"zerolinecolor\":\"white\",\"gridwidth\":2}},\"shapedefaults\":{\"line\":{\"color\":\"#2a3f5f\"}},\"annotationdefaults\":{\"arrowcolor\":\"#2a3f5f\",\"arrowhead\":0,\"arrowwidth\":1},\"geo\":{\"bgcolor\":\"white\",\"landcolor\":\"#E5ECF6\",\"subunitcolor\":\"white\",\"showland\":true,\"showlakes\":true,\"lakecolor\":\"white\"},\"title\":{\"x\":0.05},\"mapbox\":{\"style\":\"light\"}}},\"xaxis\":{\"anchor\":\"y\",\"domain\":[0.0,1.0]},\"yaxis\":{\"anchor\":\"x\",\"domain\":[0.0,1.0],\"title\":{\"text\":\"Building Dimension\"}},\"legend\":{\"tracegroupgap\":0},\"margin\":{\"t\":60},\"boxmode\":\"group\",\"title\":{\"text\":\"Distribution of Building Dimension\"},\"height\":400,\"width\":500},                        {\"responsive\": true}                    ).then(function(){\n",
              "                            \n",
              "var gd = document.getElementById('2649c995-e9df-4a2d-886f-db76f6586ad5');\n",
              "var x = new MutationObserver(function (mutations, observer) {{\n",
              "        var display = window.getComputedStyle(gd).display;\n",
              "        if (!display || display === 'none') {{\n",
              "            console.log([gd, 'removed!']);\n",
              "            Plotly.purge(gd);\n",
              "            observer.disconnect();\n",
              "        }}\n",
              "}});\n",
              "\n",
              "// Listen for the removal of the full notebook cells\n",
              "var notebookContainer = gd.closest('#notebook-container');\n",
              "if (notebookContainer) {{\n",
              "    x.observe(notebookContainer, {childList: true});\n",
              "}}\n",
              "\n",
              "// Listen for the clearing of the current output cell\n",
              "var outputEl = gd.closest('.output');\n",
              "if (outputEl) {{\n",
              "    x.observe(outputEl, {childList: true});\n",
              "}}\n",
              "\n",
              "                        })                };                            </script>        </div>\n",
              "</body>\n",
              "</html>"
            ]
          },
          "metadata": {}
        }
      ]
    },
    {
      "cell_type": "markdown",
      "metadata": {
        "id": "yJkD4NklIVp1"
      },
      "source": [
        "# **Distribution of target variable with repect to Numerical variables**"
      ]
    },
    {
      "cell_type": "code",
      "execution_count": 20,
      "metadata": {
        "id": "FBR-3dY0qf-e",
        "colab": {
          "base_uri": "https://localhost:8080/"
        },
        "outputId": "2b2019d9-81a1-484e-de75-2f876a663e06"
      },
      "outputs": [
        {
          "output_type": "execute_result",
          "data": {
            "text/plain": [
              "Index(['Customer Id', 'YearOfObservation', 'Insured_Period', 'Residential',\n",
              "       'Building_Painted', 'Building_Fenced', 'Garden', 'Settlement',\n",
              "       'Building Dimension', 'Building_Type', 'Date_of_Occupancy',\n",
              "       'NumberOfWindows', 'Geo_Code', 'Claim'],\n",
              "      dtype='object')"
            ]
          },
          "metadata": {},
          "execution_count": 20
        }
      ],
      "source": [
        "df1.columns"
      ]
    },
    {
      "cell_type": "code",
      "execution_count": 21,
      "metadata": {
        "id": "yPIWOK72HxVd"
      },
      "outputs": [],
      "source": [
        "figure10=['Residential','Building Dimension','Building_Type','Date_of_Occupancy',]"
      ]
    },
    {
      "cell_type": "code",
      "execution_count": 22,
      "metadata": {
        "id": "ARVa3ZDSH3jT",
        "colab": {
          "base_uri": "https://localhost:8080/"
        },
        "outputId": "0c498fd2-a891-446d-b5c7-5c946bcf91c3"
      },
      "outputs": [
        {
          "output_type": "execute_result",
          "data": {
            "text/plain": [
              "[(0, 'Residential'),\n",
              " (1, 'Building Dimension'),\n",
              " (2, 'Building_Type'),\n",
              " (3, 'Date_of_Occupancy')]"
            ]
          },
          "metadata": {},
          "execution_count": 22
        }
      ],
      "source": [
        "list(enumerate(figure10))"
      ]
    },
    {
      "cell_type": "code",
      "execution_count": 23,
      "metadata": {
        "id": "ZDXZRc3pH8FL",
        "colab": {
          "base_uri": "https://localhost:8080/"
        },
        "outputId": "9e5fa088-ac05-4129-ba4c-9e2a5e51f3c9"
      },
      "outputs": [
        {
          "output_type": "execute_result",
          "data": {
            "text/plain": [
              "array([0, 1])"
            ]
          },
          "metadata": {},
          "execution_count": 23
        }
      ],
      "source": [
        "df1[\"Residential\"].unique()"
      ]
    },
    {
      "cell_type": "code",
      "execution_count": 24,
      "metadata": {
        "id": "g7VprKKXIArM",
        "colab": {
          "base_uri": "https://localhost:8080/",
          "height": 735
        },
        "outputId": "2147456b-ef3e-4859-e828-c06eb8fbf7a0"
      },
      "outputs": [
        {
          "output_type": "display_data",
          "data": {
            "text/plain": [
              "<Figure size 640x480 with 0 Axes>"
            ]
          },
          "metadata": {}
        },
        {
          "output_type": "display_data",
          "data": {
            "text/plain": [
              "<Figure size 1000x800 with 4 Axes>"
            ],
            "image/png": "[encoded data removed]"
          },
          "metadata": {}
        }
      ],
      "source": [
        "plt.suptitle(\"Distribution of Claim with respect to various numerical variables\")\n",
        "plt.figure(figsize=(10,8))\n",
        "for i in enumerate(figure10):\n",
        "  plt.subplot(2,2,i[0]+1)\n",
        "  plt.suptitle(\"Distribution of Claim with respect to various numerical variables\")\n",
        "  plt.tight_layout()\n",
        "  sns.histplot(x=i[1], hue ='Claim', data = df1, palette=['red','blue'])\n",
        "  plt.xticks(rotation = 45)"
      ]
    },
    {
      "cell_type": "markdown",
      "metadata": {
        "id": "H20WCmDYKcbn"
      },
      "source": [
        "**Observation**\n",
        "\n",
        "There was a high insurance claim in the year 1960 according to Date of occupancy bar graph.\n",
        "\n",
        "Buildings of dimensions between 500 to 2000 have a higher insurance claim\n",
        "\n",
        "Non residential buildings have a higer insurance claim claim as compared to the residential buildings\n",
        "\n",
        "Buildings with type number 2 have a hot a higher insurance claim as opposed to other number types"
      ]
    },
    {
      "cell_type": "markdown",
      "metadata": {
        "id": "f-Qp5I2LLXm2"
      },
      "source": [
        "**Label encoding**"
      ]
    },
    {
      "cell_type": "code",
      "execution_count": 25,
      "metadata": {
        "id": "2OwuDcf7LVRN",
        "colab": {
          "base_uri": "https://localhost:8080/"
        },
        "outputId": "682c1f3f-4d5e-4ebc-98ed-a9cece7a8542"
      },
      "outputs": [
        {
          "output_type": "stream",
          "name": "stdout",
          "text": [
            "     Customer Id  YearOfObservation  Insured_Period  Residential  \\\n",
            "0         H14663               2013        1.000000            0   \n",
            "1          H2037               2015        1.000000            0   \n",
            "2          H3802               2014        1.000000            0   \n",
            "3          H3834               2013        1.000000            0   \n",
            "4          H5053               2014        1.000000            0   \n",
            "...          ...                ...             ...          ...   \n",
            "7155       H5290               2012        1.000000            1   \n",
            "7156       H5926               2013        1.000000            0   \n",
            "7157       H6204               2016        0.038251            0   \n",
            "7158       H6537               2013        1.000000            0   \n",
            "7159       H7470               2014        1.000000            0   \n",
            "\n",
            "      Building_Painted Building_Fenced Garden Settlement  Building Dimension  \\\n",
            "0                    0               V      V          U               290.0   \n",
            "1                    1               N      O          R               490.0   \n",
            "2                    0               V      V          U               595.0   \n",
            "3                    1               V      V          U              2840.0   \n",
            "4                    1               N      O          R               680.0   \n",
            "...                ...             ...    ...        ...                 ...   \n",
            "7155                 1               V      V          U              1083.0   \n",
            "7156                 1               V      V          U              1083.0   \n",
            "7157                 1               V      V          U              1083.0   \n",
            "7158                 1               V      V          U              1083.0   \n",
            "7159                 1               V      V          U              1083.0   \n",
            "\n",
            "      Building_Type  Date_of_Occupancy NumberOfWindows Geo_Code  Claim  \n",
            "0                 1             1960.0               .     1053      0  \n",
            "1                 1             1850.0               4     1053      0  \n",
            "2                 1             1960.0               .     1053      0  \n",
            "3                 1             1960.0               .     1053      0  \n",
            "4                 1             1800.0               3     1053      0  \n",
            "...             ...                ...             ...      ...    ...  \n",
            "7155              1             2001.0               .     6088      0  \n",
            "7156              2             1980.0               .     6088      1  \n",
            "7157              1             1992.0               .     6088      0  \n",
            "7158              1             1972.0               .     6088      0  \n",
            "7159              1             2004.0               .     6088      0  \n",
            "\n",
            "[7160 rows x 14 columns]\n",
            "     Customer Id  YearOfObservation  Insured_Period  Residential  \\\n",
            "0         H14663               2013        1.000000            0   \n",
            "1          H2037               2015        1.000000            0   \n",
            "2          H3802               2014        1.000000            0   \n",
            "3          H3834               2013        1.000000            0   \n",
            "4          H5053               2014        1.000000            0   \n",
            "...          ...                ...             ...          ...   \n",
            "7155       H5290               2012        1.000000            1   \n",
            "7156       H5926               2013        1.000000            0   \n",
            "7157       H6204               2016        0.038251            0   \n",
            "7158       H6537               2013        1.000000            0   \n",
            "7159       H7470               2014        1.000000            0   \n",
            "\n",
            "      Building_Painted  Building_Fenced Garden Settlement  Building Dimension  \\\n",
            "0                    0                1      V          U               290.0   \n",
            "1                    1                0      O          R               490.0   \n",
            "2                    0                1      V          U               595.0   \n",
            "3                    1                1      V          U              2840.0   \n",
            "4                    1                0      O          R               680.0   \n",
            "...                ...              ...    ...        ...                 ...   \n",
            "7155                 1                1      V          U              1083.0   \n",
            "7156                 1                1      V          U              1083.0   \n",
            "7157                 1                1      V          U              1083.0   \n",
            "7158                 1                1      V          U              1083.0   \n",
            "7159                 1                1      V          U              1083.0   \n",
            "\n",
            "      Building_Type  Date_of_Occupancy NumberOfWindows Geo_Code  Claim  \n",
            "0                 1             1960.0               .     1053      0  \n",
            "1                 1             1850.0               4     1053      0  \n",
            "2                 1             1960.0               .     1053      0  \n",
            "3                 1             1960.0               .     1053      0  \n",
            "4                 1             1800.0               3     1053      0  \n",
            "...             ...                ...             ...      ...    ...  \n",
            "7155              1             2001.0               .     6088      0  \n",
            "7156              2             1980.0               .     6088      1  \n",
            "7157              1             1992.0               .     6088      0  \n",
            "7158              1             1972.0               .     6088      0  \n",
            "7159              1             2004.0               .     6088      0  \n",
            "\n",
            "[7160 rows x 14 columns]\n",
            "     Customer Id  YearOfObservation  Insured_Period  Residential  \\\n",
            "0         H14663               2013        1.000000            0   \n",
            "1          H2037               2015        1.000000            0   \n",
            "2          H3802               2014        1.000000            0   \n",
            "3          H3834               2013        1.000000            0   \n",
            "4          H5053               2014        1.000000            0   \n",
            "...          ...                ...             ...          ...   \n",
            "7155       H5290               2012        1.000000            1   \n",
            "7156       H5926               2013        1.000000            0   \n",
            "7157       H6204               2016        0.038251            0   \n",
            "7158       H6537               2013        1.000000            0   \n",
            "7159       H7470               2014        1.000000            0   \n",
            "\n",
            "      Building_Painted  Building_Fenced  Garden Settlement  \\\n",
            "0                    0                1       1          U   \n",
            "1                    1                0       0          R   \n",
            "2                    0                1       1          U   \n",
            "3                    1                1       1          U   \n",
            "4                    1                0       0          R   \n",
            "...                ...              ...     ...        ...   \n",
            "7155                 1                1       1          U   \n",
            "7156                 1                1       1          U   \n",
            "7157                 1                1       1          U   \n",
            "7158                 1                1       1          U   \n",
            "7159                 1                1       1          U   \n",
            "\n",
            "      Building Dimension  Building_Type  Date_of_Occupancy NumberOfWindows  \\\n",
            "0                  290.0              1             1960.0               .   \n",
            "1                  490.0              1             1850.0               4   \n",
            "2                  595.0              1             1960.0               .   \n",
            "3                 2840.0              1             1960.0               .   \n",
            "4                  680.0              1             1800.0               3   \n",
            "...                  ...            ...                ...             ...   \n",
            "7155              1083.0              1             2001.0               .   \n",
            "7156              1083.0              2             1980.0               .   \n",
            "7157              1083.0              1             1992.0               .   \n",
            "7158              1083.0              1             1972.0               .   \n",
            "7159              1083.0              1             2004.0               .   \n",
            "\n",
            "     Geo_Code  Claim  \n",
            "0        1053      0  \n",
            "1        1053      0  \n",
            "2        1053      0  \n",
            "3        1053      0  \n",
            "4        1053      0  \n",
            "...       ...    ...  \n",
            "7155     6088      0  \n",
            "7156     6088      1  \n",
            "7157     6088      0  \n",
            "7158     6088      0  \n",
            "7159     6088      0  \n",
            "\n",
            "[7160 rows x 14 columns]\n",
            "     Customer Id  YearOfObservation  Insured_Period  Residential  \\\n",
            "0         H14663               2013        1.000000            0   \n",
            "1          H2037               2015        1.000000            0   \n",
            "2          H3802               2014        1.000000            0   \n",
            "3          H3834               2013        1.000000            0   \n",
            "4          H5053               2014        1.000000            0   \n",
            "...          ...                ...             ...          ...   \n",
            "7155       H5290               2012        1.000000            1   \n",
            "7156       H5926               2013        1.000000            0   \n",
            "7157       H6204               2016        0.038251            0   \n",
            "7158       H6537               2013        1.000000            0   \n",
            "7159       H7470               2014        1.000000            0   \n",
            "\n",
            "      Building_Painted  Building_Fenced  Garden  Settlement  \\\n",
            "0                    0                1       1           1   \n",
            "1                    1                0       0           0   \n",
            "2                    0                1       1           1   \n",
            "3                    1                1       1           1   \n",
            "4                    1                0       0           0   \n",
            "...                ...              ...     ...         ...   \n",
            "7155                 1                1       1           1   \n",
            "7156                 1                1       1           1   \n",
            "7157                 1                1       1           1   \n",
            "7158                 1                1       1           1   \n",
            "7159                 1                1       1           1   \n",
            "\n",
            "      Building Dimension  Building_Type  Date_of_Occupancy NumberOfWindows  \\\n",
            "0                  290.0              1             1960.0               .   \n",
            "1                  490.0              1             1850.0               4   \n",
            "2                  595.0              1             1960.0               .   \n",
            "3                 2840.0              1             1960.0               .   \n",
            "4                  680.0              1             1800.0               3   \n",
            "...                  ...            ...                ...             ...   \n",
            "7155              1083.0              1             2001.0               .   \n",
            "7156              1083.0              2             1980.0               .   \n",
            "7157              1083.0              1             1992.0               .   \n",
            "7158              1083.0              1             1972.0               .   \n",
            "7159              1083.0              1             2004.0               .   \n",
            "\n",
            "     Geo_Code  Claim  \n",
            "0        1053      0  \n",
            "1        1053      0  \n",
            "2        1053      0  \n",
            "3        1053      0  \n",
            "4        1053      0  \n",
            "...       ...    ...  \n",
            "7155     6088      0  \n",
            "7156     6088      1  \n",
            "7157     6088      0  \n",
            "7158     6088      0  \n",
            "7159     6088      0  \n",
            "\n",
            "[7160 rows x 14 columns]\n",
            "     Customer Id  YearOfObservation  Insured_Period  Residential  \\\n",
            "0         H14663               2013        1.000000            0   \n",
            "1          H2037               2015        1.000000            0   \n",
            "2          H3802               2014        1.000000            0   \n",
            "3          H3834               2013        1.000000            0   \n",
            "4          H5053               2014        1.000000            0   \n",
            "...          ...                ...             ...          ...   \n",
            "7155       H5290               2012        1.000000            1   \n",
            "7156       H5926               2013        1.000000            0   \n",
            "7157       H6204               2016        0.038251            0   \n",
            "7158       H6537               2013        1.000000            0   \n",
            "7159       H7470               2014        1.000000            0   \n",
            "\n",
            "      Building_Painted  Building_Fenced  Garden  Settlement  \\\n",
            "0                    0                1       1           1   \n",
            "1                    1                0       0           0   \n",
            "2                    0                1       1           1   \n",
            "3                    1                1       1           1   \n",
            "4                    1                0       0           0   \n",
            "...                ...              ...     ...         ...   \n",
            "7155                 1                1       1           1   \n",
            "7156                 1                1       1           1   \n",
            "7157                 1                1       1           1   \n",
            "7158                 1                1       1           1   \n",
            "7159                 1                1       1           1   \n",
            "\n",
            "      Building Dimension  Building_Type  Date_of_Occupancy  NumberOfWindows  \\\n",
            "0                  290.0              1             1960.0                0   \n",
            "1                  490.0              1             1850.0                4   \n",
            "2                  595.0              1             1960.0                0   \n",
            "3                 2840.0              1             1960.0                0   \n",
            "4                  680.0              1             1800.0                3   \n",
            "...                  ...            ...                ...              ...   \n",
            "7155              1083.0              1             2001.0                0   \n",
            "7156              1083.0              2             1980.0                0   \n",
            "7157              1083.0              1             1992.0                0   \n",
            "7158              1083.0              1             1972.0                0   \n",
            "7159              1083.0              1             2004.0                0   \n",
            "\n",
            "     Geo_Code  Claim  \n",
            "0        1053      0  \n",
            "1        1053      0  \n",
            "2        1053      0  \n",
            "3        1053      0  \n",
            "4        1053      0  \n",
            "...       ...    ...  \n",
            "7155     6088      0  \n",
            "7156     6088      1  \n",
            "7157     6088      0  \n",
            "7158     6088      0  \n",
            "7159     6088      0  \n",
            "\n",
            "[7160 rows x 14 columns]\n"
          ]
        }
      ],
      "source": [
        "# Create a LabelEncoder\n",
        "label_encoder = LabelEncoder()\n",
        "\n",
        "# Encode categorical columns\n",
        "categorical_columns = [\"Building_Painted\", \"Building_Fenced\", \"Garden\", \"Settlement\",\"NumberOfWindows\",]\n",
        "for column in categorical_columns:\n",
        "    df1[column] = label_encoder.fit_transform(df1[column])\n",
        "    print(df1)"
      ]
    },
    {
      "cell_type": "code",
      "execution_count": 26,
      "metadata": {
        "id": "ji8bDLL1MFon",
        "colab": {
          "base_uri": "https://localhost:8080/",
          "height": 243
        },
        "outputId": "ee4791dc-2e2b-446e-f760-ad9d34cdeb83"
      },
      "outputs": [
        {
          "output_type": "execute_result",
          "data": {
            "text/plain": [
              "  Customer Id  YearOfObservation  Insured_Period  Residential  \\\n",
              "0      H14663               2013             1.0            0   \n",
              "1       H2037               2015             1.0            0   \n",
              "2       H3802               2014             1.0            0   \n",
              "3       H3834               2013             1.0            0   \n",
              "4       H5053               2014             1.0            0   \n",
              "\n",
              "   Building_Painted  Building_Fenced  Garden  Settlement  Building Dimension  \\\n",
              "0                 0                1       1           1               290.0   \n",
              "1                 1                0       0           0               490.0   \n",
              "2                 0                1       1           1               595.0   \n",
              "3                 1                1       1           1              2840.0   \n",
              "4                 1                0       0           0               680.0   \n",
              "\n",
              "   Building_Type  Date_of_Occupancy  NumberOfWindows Geo_Code  Claim  \n",
              "0              1             1960.0                0     1053      0  \n",
              "1              1             1850.0                4     1053      0  \n",
              "2              1             1960.0                0     1053      0  \n",
              "3              1             1960.0                0     1053      0  \n",
              "4              1             1800.0                3     1053      0  "
            ],
            "text/html": [
              "\n",
              "  <div id=\"df-ee8c91f7-635b-462e-ade4-ffb06271abc0\" class=\"colab-df-container\">\n",
              "    <div>\n",
              "<style scoped>\n",
              "    .dataframe tbody tr th:only-of-type {\n",
              "        vertical-align: middle;\n",
              "    }\n",
              "\n",
              "    .dataframe tbody tr th {\n",
              "        vertical-align: top;\n",
              "    }\n",
              "\n",
              "    .dataframe thead th {\n",
              "        text-align: right;\n",
              "    }\n",
              "</style>\n",
              "<table border=\"1\" class=\"dataframe\">\n",
              "  <thead>\n",
              "    <tr style=\"text-align: right;\">\n",
              "      <th></th>\n",
              "      <th>Customer Id</th>\n",
              "      <th>YearOfObservation</th>\n",
              "      <th>Insured_Period</th>\n",
              "      <th>Residential</th>\n",
              "      <th>Building_Painted</th>\n",
              "      <th>Building_Fenced</th>\n",
              "      <th>Garden</th>\n",
              "      <th>Settlement</th>\n",
              "      <th>Building Dimension</th>\n",
              "      <th>Building_Type</th>\n",
              "      <th>Date_of_Occupancy</th>\n",
              "      <th>NumberOfWindows</th>\n",
              "      <th>Geo_Code</th>\n",
              "      <th>Claim</th>\n",
              "    </tr>\n",
              "  </thead>\n",
              "  <tbody>\n",
              "    <tr>\n",
              "      <th>0</th>\n",
              "      <td>H14663</td>\n",
              "      <td>2013</td>\n",
              "      <td>1.0</td>\n",
              "      <td>0</td>\n",
              "      <td>0</td>\n",
              "      <td>1</td>\n",
              "      <td>1</td>\n",
              "      <td>1</td>\n",
              "      <td>290.0</td>\n",
              "      <td>1</td>\n",
              "      <td>1960.0</td>\n",
              "      <td>0</td>\n",
              "      <td>1053</td>\n",
              "      <td>0</td>\n",
              "    </tr>\n",
              "    <tr>\n",
              "      <th>1</th>\n",
              "      <td>H2037</td>\n",
              "      <td>2015</td>\n",
              "      <td>1.0</td>\n",
              "      <td>0</td>\n",
              "      <td>1</td>\n",
              "      <td>0</td>\n",
              "      <td>0</td>\n",
              "      <td>0</td>\n",
              "      <td>490.0</td>\n",
              "      <td>1</td>\n",
              "      <td>1850.0</td>\n",
              "      <td>4</td>\n",
              "      <td>1053</td>\n",
              "      <td>0</td>\n",
              "    </tr>\n",
              "    <tr>\n",
              "      <th>2</th>\n",
              "      <td>H3802</td>\n",
              "      <td>2014</td>\n",
              "      <td>1.0</td>\n",
              "      <td>0</td>\n",
              "      <td>0</td>\n",
              "      <td>1</td>\n",
              "      <td>1</td>\n",
              "      <td>1</td>\n",
              "      <td>595.0</td>\n",
              "      <td>1</td>\n",
              "      <td>1960.0</td>\n",
              "      <td>0</td>\n",
              "      <td>1053</td>\n",
              "      <td>0</td>\n",
              "    </tr>\n",
              "    <tr>\n",
              "      <th>3</th>\n",
              "      <td>H3834</td>\n",
              "      <td>2013</td>\n",
              "      <td>1.0</td>\n",
              "      <td>0</td>\n",
              "      <td>1</td>\n",
              "      <td>1</td>\n",
              "      <td>1</td>\n",
              "      <td>1</td>\n",
              "      <td>2840.0</td>\n",
              "      <td>1</td>\n",
              "      <td>1960.0</td>\n",
              "      <td>0</td>\n",
              "      <td>1053</td>\n",
              "      <td>0</td>\n",
              "    </tr>\n",
              "    <tr>\n",
              "      <th>4</th>\n",
              "      <td>H5053</td>\n",
              "      <td>2014</td>\n",
              "      <td>1.0</td>\n",
              "      <td>0</td>\n",
              "      <td>1</td>\n",
              "      <td>0</td>\n",
              "      <td>0</td>\n",
              "      <td>0</td>\n",
              "      <td>680.0</td>\n",
              "      <td>1</td>\n",
              "      <td>1800.0</td>\n",
              "      <td>3</td>\n",
              "      <td>1053</td>\n",
              "      <td>0</td>\n",
              "    </tr>\n",
              "  </tbody>\n",
              "</table>\n",
              "</div>\n",
              "    <div class=\"colab-df-buttons\">\n",
              "\n",
              "  <div class=\"colab-df-container\">\n",
              "    <button class=\"colab-df-convert\" onclick=\"convertToInteractive('df-ee8c91f7-635b-462e-ade4-ffb06271abc0')\"\n",
              "            title=\"Convert this dataframe to an interactive table.\"\n",
              "            style=\"display:none;\">\n",
              "\n",
              "  <svg xmlns=\"http://www.w3.org/2000/svg\" height=\"24px\" viewBox=\"0 -960 960 960\">\n",
              "    <path d=\"M120-120v-720h720v720H120Zm60-500h600v-160H180v160Zm220 220h160v-160H400v160Zm0 220h160v-160H400v160ZM180-400h160v-160H180v160Zm440 0h160v-160H620v160ZM180-180h160v-160H180v160Zm440 0h160v-160H620v160Z\"/>\n",
              "  </svg>\n",
              "    </button>\n",
              "\n",
              "  <style>\n",
              "    .colab-df-container {\n",
              "      display:flex;\n",
              "      gap: 12px;\n",
              "    }\n",
              "\n",
              "    .colab-df-convert {\n",
              "      background-color: #E8F0FE;\n",
              "      border: none;\n",
              "      border-radius: 50%;\n",
              "      cursor: pointer;\n",
              "      display: none;\n",
              "      fill: #1967D2;\n",
              "      height: 32px;\n",
              "      padding: 0 0 0 0;\n",
              "      width: 32px;\n",
              "    }\n",
              "\n",
              "    .colab-df-convert:hover {\n",
              "      background-color: #E2EBFA;\n",
              "      box-shadow: 0px 1px 2px rgba(60, 64, 67, 0.3), 0px 1px 3px 1px rgba(60, 64, 67, 0.15);\n",
              "      fill: #174EA6;\n",
              "    }\n",
              "\n",
              "    .colab-df-buttons div {\n",
              "      margin-bottom: 4px;\n",
              "    }\n",
              "\n",
              "    [theme=dark] .colab-df-convert {\n",
              "      background-color: #3B4455;\n",
              "      fill: #D2E3FC;\n",
              "    }\n",
              "\n",
              "    [theme=dark] .colab-df-convert:hover {\n",
              "      background-color: #434B5C;\n",
              "      box-shadow: 0px 1px 3px 1px rgba(0, 0, 0, 0.15);\n",
              "      filter: drop-shadow(0px 1px 2px rgba(0, 0, 0, 0.3));\n",
              "      fill: #FFFFFF;\n",
              "    }\n",
              "  </style>\n",
              "\n",
              "    <script>\n",
              "      const buttonEl =\n",
              "        document.querySelector('#df-ee8c91f7-635b-462e-ade4-ffb06271abc0 button.colab-df-convert');\n",
              "      buttonEl.style.display =\n",
              "        google.colab.kernel.accessAllowed ? 'block' : 'none';\n",
              "\n",
              "      async function convertToInteractive(key) {\n",
              "        const element = document.querySelector('#df-ee8c91f7-635b-462e-ade4-ffb06271abc0');\n",
              "        const dataTable =\n",
              "          await google.colab.kernel.invokeFunction('convertToInteractive',\n",
              "                                                    [key], {});\n",
              "        if (!dataTable) return;\n",
              "\n",
              "        const docLinkHtml = 'Like what you see? Visit the ' +\n",
              "          '<a target=\"_blank\" href=https://colab.research.google.com/notebooks/data_table.ipynb>data table notebook</a>'\n",
              "          + ' to learn more about interactive tables.';\n",
              "        element.innerHTML = '';\n",
              "        dataTable['output_type'] = 'display_data';\n",
              "        await google.colab.output.renderOutput(dataTable, element);\n",
              "        const docLink = document.createElement('div');\n",
              "        docLink.innerHTML = docLinkHtml;\n",
              "        element.appendChild(docLink);\n",
              "      }\n",
              "    </script>\n",
              "  </div>\n",
              "\n",
              "\n",
              "<div id=\"df-645d3c4c-0e6a-4c6e-806e-0bf191ed30cc\">\n",
              "  <button class=\"colab-df-quickchart\" onclick=\"quickchart('df-645d3c4c-0e6a-4c6e-806e-0bf191ed30cc')\"\n",
              "            title=\"Suggest charts\"\n",
              "            style=\"display:none;\">\n",
              "\n",
              "<svg xmlns=\"http://www.w3.org/2000/svg\" height=\"24px\"viewBox=\"0 0 24 24\"\n",
              "     width=\"24px\">\n",
              "    <g>\n",
              "        <path d=\"M19 3H5c-1.1 0-2 .9-2 2v14c0 1.1.9 2 2 2h14c1.1 0 2-.9 2-2V5c0-1.1-.9-2-2-2zM9 17H7v-7h2v7zm4 0h-2V7h2v10zm4 0h-2v-4h2v4z\"/>\n",
              "    </g>\n",
              "</svg>\n",
              "  </button>\n",
              "\n",
              "<style>\n",
              "  .colab-df-quickchart {\n",
              "      --bg-color: #E8F0FE;\n",
              "      --fill-color: #1967D2;\n",
              "      --hover-bg-color: #E2EBFA;\n",
              "      --hover-fill-color: #174EA6;\n",
              "      --disabled-fill-color: #AAA;\n",
              "      --disabled-bg-color: #DDD;\n",
              "  }\n",
              "\n",
              "  [theme=dark] .colab-df-quickchart {\n",
              "      --bg-color: #3B4455;\n",
              "      --fill-color: #D2E3FC;\n",
              "      --hover-bg-color: #434B5C;\n",
              "      --hover-fill-color: #FFFFFF;\n",
              "      --disabled-bg-color: #3B4455;\n",
              "      --disabled-fill-color: #666;\n",
              "  }\n",
              "\n",
              "  .colab-df-quickchart {\n",
              "    background-color: var(--bg-color);\n",
              "    border: none;\n",
              "    border-radius: 50%;\n",
              "    cursor: pointer;\n",
              "    display: none;\n",
              "    fill: var(--fill-color);\n",
              "    height: 32px;\n",
              "    padding: 0;\n",
              "    width: 32px;\n",
              "  }\n",
              "\n",
              "  .colab-df-quickchart:hover {\n",
              "    background-color: var(--hover-bg-color);\n",
              "    box-shadow: 0 1px 2px rgba(60, 64, 67, 0.3), 0 1px 3px 1px rgba(60, 64, 67, 0.15);\n",
              "    fill: var(--button-hover-fill-color);\n",
              "  }\n",
              "\n",
              "  .colab-df-quickchart-complete:disabled,\n",
              "  .colab-df-quickchart-complete:disabled:hover {\n",
              "    background-color: var(--disabled-bg-color);\n",
              "    fill: var(--disabled-fill-color);\n",
              "    box-shadow: none;\n",
              "  }\n",
              "\n",
              "  .colab-df-spinner {\n",
              "    border: 2px solid var(--fill-color);\n",
              "    border-color: transparent;\n",
              "    border-bottom-color: var(--fill-color);\n",
              "    animation:\n",
              "      spin 1s steps(1) infinite;\n",
              "  }\n",
              "\n",
              "  @keyframes spin {\n",
              "    0% {\n",
              "      border-color: transparent;\n",
              "      border-bottom-color: var(--fill-color);\n",
              "      border-left-color: var(--fill-color);\n",
              "    }\n",
              "    20% {\n",
              "      border-color: transparent;\n",
              "      border-left-color: var(--fill-color);\n",
              "      border-top-color: var(--fill-color);\n",
              "    }\n",
              "    30% {\n",
              "      border-color: transparent;\n",
              "      border-left-color: var(--fill-color);\n",
              "      border-top-color: var(--fill-color);\n",
              "      border-right-color: var(--fill-color);\n",
              "    }\n",
              "    40% {\n",
              "      border-color: transparent;\n",
              "      border-right-color: var(--fill-color);\n",
              "      border-top-color: var(--fill-color);\n",
              "    }\n",
              "    60% {\n",
              "      border-color: transparent;\n",
              "      border-right-color: var(--fill-color);\n",
              "    }\n",
              "    80% {\n",
              "      border-color: transparent;\n",
              "      border-right-color: var(--fill-color);\n",
              "      border-bottom-color: var(--fill-color);\n",
              "    }\n",
              "    90% {\n",
              "      border-color: transparent;\n",
              "      border-bottom-color: var(--fill-color);\n",
              "    }\n",
              "  }\n",
              "</style>\n",
              "\n",
              "  <script>\n",
              "    async function quickchart(key) {\n",
              "      const quickchartButtonEl =\n",
              "        document.querySelector('#' + key + ' button');\n",
              "      quickchartButtonEl.disabled = true;  // To prevent multiple clicks.\n",
              "      quickchartButtonEl.classList.add('colab-df-spinner');\n",
              "      try {\n",
              "        const charts = await google.colab.kernel.invokeFunction(\n",
              "            'suggestCharts', [key], {});\n",
              "      } catch (error) {\n",
              "        console.error('Error during call to suggestCharts:', error);\n",
              "      }\n",
              "      quickchartButtonEl.classList.remove('colab-df-spinner');\n",
              "      quickchartButtonEl.classList.add('colab-df-quickchart-complete');\n",
              "    }\n",
              "    (() => {\n",
              "      let quickchartButtonEl =\n",
              "        document.querySelector('#df-645d3c4c-0e6a-4c6e-806e-0bf191ed30cc button');\n",
              "      quickchartButtonEl.style.display =\n",
              "        google.colab.kernel.accessAllowed ? 'block' : 'none';\n",
              "    })();\n",
              "  </script>\n",
              "</div>\n",
              "    </div>\n",
              "  </div>\n"
            ]
          },
          "metadata": {},
          "execution_count": 26
        }
      ],
      "source": [
        "#displaying the encoded dataset\n",
        "df1.head()"
      ]
    },
    {
      "cell_type": "markdown",
      "metadata": {
        "id": "AJB3lx1WLWXt"
      },
      "source": [
        "**Feature Selections**"
      ]
    },
    {
      "cell_type": "code",
      "source": [
        "columns_to_drop = ['Customer Id','NumberOfWindows','Geo_Code']\n",
        "df = df1.drop(columns=columns_to_drop, axis=1)"
      ],
      "metadata": {
        "id": "TFFRvwD2oHyY"
      },
      "execution_count": 27,
      "outputs": []
    },
    {
      "cell_type": "code",
      "source": [
        "df.columns"
      ],
      "metadata": {
        "colab": {
          "base_uri": "https://localhost:8080/"
        },
        "id": "kcWXjJkh0EZ7",
        "outputId": "2d33cb01-66ac-4101-df40-adbced7ae611"
      },
      "execution_count": 28,
      "outputs": [
        {
          "output_type": "execute_result",
          "data": {
            "text/plain": [
              "Index(['YearOfObservation', 'Insured_Period', 'Residential',\n",
              "       'Building_Painted', 'Building_Fenced', 'Garden', 'Settlement',\n",
              "       'Building Dimension', 'Building_Type', 'Date_of_Occupancy', 'Claim'],\n",
              "      dtype='object')"
            ]
          },
          "metadata": {},
          "execution_count": 28
        }
      ]
    },
    {
      "cell_type": "code",
      "source": [
        "#Specification of independent and dependent variables of dataset 1\n",
        "X = df.drop(columns=['Claim'])  # Features\n",
        "y = df['Claim']  # Target variable"
      ],
      "metadata": {
        "id": "sO4vSZTnk-Gs"
      },
      "execution_count": 29,
      "outputs": []
    },
    {
      "cell_type": "code",
      "source": [
        "# Calculate chi-squared statistics for each feature\n",
        "from sklearn.feature_selection import chi2\n",
        "chi2_scores = chi2(X, y)\n",
        "chi2_scores"
      ],
      "metadata": {
        "id": "4nwdE-FXk-Z-",
        "colab": {
          "base_uri": "https://localhost:8080/"
        },
        "outputId": "a2271ecf-ef90-4760-da95-44f67d5f7c80"
      },
      "execution_count": 30,
      "outputs": [
        {
          "output_type": "execute_result",
          "data": {
            "text/plain": [
              "(array([1.82353700e-03, 3.56003125e+00, 2.00580781e+01, 1.58496437e+00,\n",
              "        9.62777976e+00, 9.82298289e+00, 9.76861699e+00, 1.71136628e+06,\n",
              "        3.64560796e+01, 1.38953369e+00]),\n",
              " array([9.65938374e-01, 5.91866246e-02, 7.51255220e-06, 2.08047062e-01,\n",
              "        1.91656154e-03, 1.72344606e-03, 1.77515936e-03, 0.00000000e+00,\n",
              "        1.56145333e-09, 2.38483864e-01]))"
            ]
          },
          "metadata": {},
          "execution_count": 30
        }
      ]
    },
    {
      "cell_type": "code",
      "source": [
        "# plotting Chi_2 Scores on the bar graph\n",
        "chi_values = pd.Series(chi2_scores[0],index = X.columns)\n",
        "chi_values.sort_values(ascending=False, inplace= True)\n",
        "chi_values.plot.bar()\n",
        "plt.xlabel('Features')\n",
        "plt.ylabel('Feature Importance')"
      ],
      "metadata": {
        "id": "ARGyQ3Urk-ko",
        "colab": {
          "base_uri": "https://localhost:8080/",
          "height": 605
        },
        "outputId": "a7e000d7-e3d5-4100-c44a-5df1a6caa712"
      },
      "execution_count": 31,
      "outputs": [
        {
          "output_type": "execute_result",
          "data": {
            "text/plain": [
              "Text(0, 0.5, 'Feature Importance')"
            ]
          },
          "metadata": {},
          "execution_count": 31
        },
        {
          "output_type": "display_data",
          "data": {
            "text/plain": [
              "<Figure size 640x480 with 1 Axes>"
            ],
            "image/png": "[encoded data removed]"
          },
          "metadata": {}
        }
      ]
    },
    {
      "cell_type": "code",
      "source": [
        "#Plotting using the p-values\n",
        "p_values = pd.Series(chi2_scores[1],index = X.columns)\n",
        "p_values.sort_values(ascending=False, inplace= True)\n",
        "p_values.plot.bar()\n",
        "plt.xlabel('Feature Importance')\n",
        "plt.ylabel('p_scores')"
      ],
      "metadata": {
        "id": "1R5B9Uprlbi6",
        "colab": {
          "base_uri": "https://localhost:8080/",
          "height": 591
        },
        "outputId": "518c9de7-a495-4161-efa3-9ec1ff079756"
      },
      "execution_count": 32,
      "outputs": [
        {
          "output_type": "execute_result",
          "data": {
            "text/plain": [
              "Text(0, 0.5, 'p_scores')"
            ]
          },
          "metadata": {},
          "execution_count": 32
        },
        {
          "output_type": "display_data",
          "data": {
            "text/plain": [
              "<Figure size 640x480 with 1 Axes>"
            ],
            "image/png": "[encoded data removed]"
          },
          "metadata": {}
        }
      ]
    },
    {
      "cell_type": "markdown",
      "source": [
        " From the graph,Building dimension is the most important variable because they have a higher chi2 score and a lower p-values from the graphs above"
      ],
      "metadata": {
        "id": "M3iAunfblo1w"
      }
    },
    {
      "cell_type": "code",
      "source": [
        "chi_values"
      ],
      "metadata": {
        "id": "RA1maf54lblU",
        "colab": {
          "base_uri": "https://localhost:8080/"
        },
        "outputId": "a1a9b681-a3f7-4e43-c40f-51b770e90a6a"
      },
      "execution_count": 33,
      "outputs": [
        {
          "output_type": "execute_result",
          "data": {
            "text/plain": [
              "Building Dimension    1.711366e+06\n",
              "Building_Type         3.645608e+01\n",
              "Residential           2.005808e+01\n",
              "Garden                9.822983e+00\n",
              "Settlement            9.768617e+00\n",
              "Building_Fenced       9.627780e+00\n",
              "Insured_Period        3.560031e+00\n",
              "Building_Painted      1.584964e+00\n",
              "Date_of_Occupancy     1.389534e+00\n",
              "YearOfObservation     1.823537e-03\n",
              "dtype: float64"
            ]
          },
          "metadata": {},
          "execution_count": 33
        }
      ]
    },
    {
      "cell_type": "markdown",
      "source": [
        "**Splitting the dataset into training and testing**"
      ],
      "metadata": {
        "id": "vQYU7Yx2m2zX"
      }
    },
    {
      "cell_type": "code",
      "source": [
        "#splitting the dataset\n",
        "from sklearn.model_selection import train_test_split\n",
        "\n",
        "# Assuming df1 is your DataFrame\n",
        "features = ['YearOfObservation', 'Insured_Period', 'Residential', 'Building_Painted', 'Building_Fenced', 'Garden', 'Settlement', 'Building Dimension', 'Building_Type', 'Date_of_Occupancy']\n",
        "target = \"Claim\"\n",
        "\n",
        "X = df[features]\n",
        "y = df[target]\n",
        "\n",
        "# Split the dataset into training and testing sets\n",
        "X_train, X_eval, y_train, y_eval = train_test_split(X, y, test_size=0.2, random_state=42)"
      ],
      "metadata": {
        "id": "I4uGAOg8muq-"
      },
      "execution_count": 34,
      "outputs": []
    },
    {
      "cell_type": "markdown",
      "source": [
        "**Scaling the dataset**"
      ],
      "metadata": {
        "id": "yPravuSVyplD"
      }
    },
    {
      "cell_type": "code",
      "source": [
        "from sklearn.preprocessing import StandardScaler\n",
        "sc = StandardScaler()\n",
        "X_train = sc.fit_transform(X_train)\n",
        "X_eval = sc.transform(X_eval)"
      ],
      "metadata": {
        "id": "X1jsKmJ1ooS8"
      },
      "execution_count": 35,
      "outputs": []
    },
    {
      "cell_type": "code",
      "source": [
        "X_train"
      ],
      "metadata": {
        "id": "1sbNJqARpXNb",
        "colab": {
          "base_uri": "https://localhost:8080/"
        },
        "outputId": "a14a0e37-a89b-469f-a06a-907ad0222f42"
      },
      "execution_count": 36,
      "outputs": [
        {
          "output_type": "execute_result",
          "data": {
            "text/plain": [
              "array([[ 1.68333   ,  0.36173668,  1.52019165, ..., -0.44901891,\n",
              "         1.945864  , -0.13677604],\n",
              "       [ 0.96004486,  0.37325912, -0.6578118 , ...,  0.11897657,\n",
              "        -0.19059546, -0.13677604],\n",
              "       [-0.48652543,  0.37325912, -0.6578118 , ...,  0.36871777,\n",
              "         0.87763427,  0.14963661],\n",
              "       ...,\n",
              "       [ 0.23675971,  0.37325912,  1.52019165, ...,  0.14770786,\n",
              "         1.945864  , -1.74068689],\n",
              "       [-1.20981057,  0.37325912,  1.52019165, ..., -0.54449519,\n",
              "        -0.19059546, -0.13677604],\n",
              "       [-1.20981057,  0.37325912,  1.52019165, ..., -0.71423081,\n",
              "        -1.25882518, -0.42318869]])"
            ]
          },
          "metadata": {},
          "execution_count": 36
        }
      ]
    },
    {
      "cell_type": "code",
      "source": [
        "X_eval"
      ],
      "metadata": {
        "id": "4AheCK-jpb3O",
        "colab": {
          "base_uri": "https://localhost:8080/"
        },
        "outputId": "fc98eda2-d8f1-4b90-f19b-04a427cb5566"
      },
      "execution_count": 37,
      "outputs": [
        {
          "output_type": "execute_result",
          "data": {
            "text/plain": [
              "array([[-1.20981057,  0.37325912, -0.6578118 , ..., -0.39244037,\n",
              "        -0.19059546, -0.13677604],\n",
              "       [-0.48652543,  0.37325912, -0.6578118 , ..., -0.59665353,\n",
              "         0.87763427,  0.43604926],\n",
              "       [-1.20981057, -1.5048997 ,  1.52019165, ...,  0.37446403,\n",
              "         1.945864  ,  0.43604926],\n",
              "       ...,\n",
              "       [ 0.23675971,  0.37325912, -0.6578118 , ..., -0.51090169,\n",
              "        -0.19059546,  1.09479836],\n",
              "       [ 0.23675971,  0.37325912, -0.6578118 , ...,  0.24053202,\n",
              "        -1.25882518,  0.66517938],\n",
              "       [-1.20981057,  0.37325912, -0.6578118 , ..., -0.50161927,\n",
              "        -0.19059546,  1.29528722]])"
            ]
          },
          "metadata": {},
          "execution_count": 37
        }
      ]
    },
    {
      "cell_type": "markdown",
      "source": [
        "**Model Building**\n",
        "\n",
        "KNN Model"
      ],
      "metadata": {
        "id": "9PS4Xdm5pmpi"
      }
    },
    {
      "cell_type": "code",
      "execution_count": 38,
      "metadata": {
        "id": "v3IDx-fQyY7x",
        "colab": {
          "base_uri": "https://localhost:8080/",
          "height": 74
        },
        "outputId": "7e26af42-d2df-4a15-e5be-6df56858b7b5"
      },
      "outputs": [
        {
          "output_type": "execute_result",
          "data": {
            "text/plain": [
              "KNeighborsClassifier(n_neighbors=3)"
            ],
            "text/html": [
              "<style>#sk-container-id-1 {color: black;background-color: white;}#sk-container-id-1 pre{padding: 0;}#sk-container-id-1 div.sk-toggleable {background-color: white;}#sk-container-id-1 label.sk-toggleable__label {cursor: pointer;display: block;width: 100%;margin-bottom: 0;padding: 0.3em;box-sizing: border-box;text-align: center;}#sk-container-id-1 label.sk-toggleable__label-arrow:before {content: \"▸\";float: left;margin-right: 0.25em;color: #696969;}#sk-container-id-1 label.sk-toggleable__label-arrow:hover:before {color: black;}#sk-container-id-1 div.sk-estimator:hover label.sk-toggleable__label-arrow:before {color: black;}#sk-container-id-1 div.sk-toggleable__content {max-height: 0;max-width: 0;overflow: hidden;text-align: left;background-color: #f0f8ff;}#sk-container-id-1 div.sk-toggleable__content pre {margin: 0.2em;color: black;border-radius: 0.25em;background-color: #f0f8ff;}#sk-container-id-1 input.sk-toggleable__control:checked~div.sk-toggleable__content {max-height: 200px;max-width: 100%;overflow: auto;}#sk-container-id-1 input.sk-toggleable__control:checked~label.sk-toggleable__label-arrow:before {content: \"▾\";}#sk-container-id-1 div.sk-estimator input.sk-toggleable__control:checked~label.sk-toggleable__label {background-color: #d4ebff;}#sk-container-id-1 div.sk-label input.sk-toggleable__control:checked~label.sk-toggleable__label {background-color: #d4ebff;}#sk-container-id-1 input.sk-hidden--visually {border: 0;clip: rect(1px 1px 1px 1px);clip: rect(1px, 1px, 1px, 1px);height: 1px;margin: -1px;overflow: hidden;padding: 0;position: absolute;width: 1px;}#sk-container-id-1 div.sk-estimator {font-family: monospace;background-color: #f0f8ff;border: 1px dotted black;border-radius: 0.25em;box-sizing: border-box;margin-bottom: 0.5em;}#sk-container-id-1 div.sk-estimator:hover {background-color: #d4ebff;}#sk-container-id-1 div.sk-parallel-item::after {content: \"\";width: 100%;border-bottom: 1px solid gray;flex-grow: 1;}#sk-container-id-1 div.sk-label:hover label.sk-toggleable__label {background-color: #d4ebff;}#sk-container-id-1 div.sk-serial::before {content: \"\";position: absolute;border-left: 1px solid gray;box-sizing: border-box;top: 0;bottom: 0;left: 50%;z-index: 0;}#sk-container-id-1 div.sk-serial {display: flex;flex-direction: column;align-items: center;background-color: white;padding-right: 0.2em;padding-left: 0.2em;position: relative;}#sk-container-id-1 div.sk-item {position: relative;z-index: 1;}#sk-container-id-1 div.sk-parallel {display: flex;align-items: stretch;justify-content: center;background-color: white;position: relative;}#sk-container-id-1 div.sk-item::before, #sk-container-id-1 div.sk-parallel-item::before {content: \"\";position: absolute;border-left: 1px solid gray;box-sizing: border-box;top: 0;bottom: 0;left: 50%;z-index: -1;}#sk-container-id-1 div.sk-parallel-item {display: flex;flex-direction: column;z-index: 1;position: relative;background-color: white;}#sk-container-id-1 div.sk-parallel-item:first-child::after {align-self: flex-end;width: 50%;}#sk-container-id-1 div.sk-parallel-item:last-child::after {align-self: flex-start;width: 50%;}#sk-container-id-1 div.sk-parallel-item:only-child::after {width: 0;}#sk-container-id-1 div.sk-dashed-wrapped {border: 1px dashed gray;margin: 0 0.4em 0.5em 0.4em;box-sizing: border-box;padding-bottom: 0.4em;background-color: white;}#sk-container-id-1 div.sk-label label {font-family: monospace;font-weight: bold;display: inline-block;line-height: 1.2em;}#sk-container-id-1 div.sk-label-container {text-align: center;}#sk-container-id-1 div.sk-container {/* jupyter's `normalize.less` sets `[hidden] { display: none; }` but bootstrap.min.css set `[hidden] { display: none !important; }` so we also need the `!important` here to be able to override the default hidden behavior on the sphinx rendered scikit-learn.org. See: https://github.com/scikit-learn/scikit-learn/issues/21755 */display: inline-block !important;position: relative;}#sk-container-id-1 div.sk-text-repr-fallback {display: none;}</style><div id=\"sk-container-id-1\" class=\"sk-top-container\"><div class=\"sk-text-repr-fallback\"><pre>KNeighborsClassifier(n_neighbors=3)</pre><b>In a Jupyter environment, please rerun this cell to show the HTML representation or trust the notebook. <br />On GitHub, the HTML representation is unable to render, please try loading this page with nbviewer.org.</b></div><div class=\"sk-container\" hidden><div class=\"sk-item\"><div class=\"sk-estimator sk-toggleable\"><input class=\"sk-toggleable__control sk-hidden--visually\" id=\"sk-estimator-id-1\" type=\"checkbox\" checked><label for=\"sk-estimator-id-1\" class=\"sk-toggleable__label sk-toggleable__label-arrow\">KNeighborsClassifier</label><div class=\"sk-toggleable__content\"><pre>KNeighborsClassifier(n_neighbors=3)</pre></div></div></div></div></div>"
            ]
          },
          "metadata": {},
          "execution_count": 38
        }
      ],
      "source": [
        "from sklearn.neighbors import KNeighborsClassifier\n",
        "# Create the K-nearest Neighbours Classifier and use the train dataset to train the model\n",
        "#accuracy = np.zeros(20)\n",
        "from sklearn.model_selection import train_test_split\n",
        "\n",
        "# Assuming X and y are your features and target variable\n",
        "X_train, X_eval, y_train, y_eval = train_test_split(X, y, test_size=0.2, random_state=42)\n",
        "knn = KNeighborsClassifier(n_neighbors=3)\n",
        "knn\n"
      ]
    },
    {
      "cell_type": "code",
      "source": [
        "from sklearn import metrics\n",
        "import numpy as np\n",
        "mean_acc = np.zeros(20)\n",
        "for i in range(1,21):\n",
        "    #Train Model and Predict\n",
        "    knn = KNeighborsClassifier(n_neighbors = i).fit(X_train, y_train)\n",
        "    y_pred= knn.predict(X_eval)\n",
        "    mean_acc[i-1] = metrics.accuracy_score(y_eval, y_pred)\n",
        "\n",
        "mean_acc"
      ],
      "metadata": {
        "colab": {
          "base_uri": "https://localhost:8080/"
        },
        "id": "20f0UO8wSDRO",
        "outputId": "c65b391f-0d0e-4282-85dd-a72ec6b422ce"
      },
      "execution_count": 40,
      "outputs": [
        {
          "output_type": "execute_result",
          "data": {
            "text/plain": [
              "array([0.69064246, 0.75977654, 0.7297486 , 0.76396648, 0.74511173,\n",
              "       0.76117318, 0.75418994, 0.75349162, 0.76326816, 0.76536313,\n",
              "       0.76815642, 0.76117318, 0.75768156, 0.75837989, 0.76047486,\n",
              "       0.76536313, 0.76326816, 0.77234637, 0.7702514 , 0.77444134])"
            ]
          },
          "metadata": {},
          "execution_count": 40
        }
      ]
    },
    {
      "cell_type": "code",
      "source": [
        "print(classification_report(y_eval,y_pred))"
      ],
      "metadata": {
        "id": "4R3jt7sstWOz",
        "colab": {
          "base_uri": "https://localhost:8080/"
        },
        "outputId": "f7b3244e-21dd-4aee-c3e9-1fb46aab02ff"
      },
      "execution_count": 41,
      "outputs": [
        {
          "output_type": "stream",
          "name": "stdout",
          "text": [
            "              precision    recall  f1-score   support\n",
            "\n",
            "           0       0.79      0.96      0.87      1098\n",
            "           1       0.56      0.15      0.24       334\n",
            "\n",
            "    accuracy                           0.77      1432\n",
            "   macro avg       0.68      0.56      0.55      1432\n",
            "weighted avg       0.74      0.77      0.72      1432\n",
            "\n"
          ]
        }
      ]
    },
    {
      "cell_type": "markdown",
      "source": [
        "Accuracy is the overall correct predictions divided by the total number of predictions.\n",
        "The overall accuracy is 0.77, meaning that the model correctly predicted the class for 77% of the instances."
      ],
      "metadata": {
        "id": "TfPzhsG9x3f1"
      }
    },
    {
      "cell_type": "markdown",
      "source": [
        "**Tune hyperparameters for KNN Model**"
      ],
      "metadata": {
        "id": "JgwJ5o4uL_Aq"
      }
    },
    {
      "cell_type": "code",
      "source": [
        "grid_params = { 'n_neighbors' : [2,6,10,12,20],\n",
        "               'weights' : ['uniform','distance'],\n",
        "               'metric' : ['minkowski','euclidean','manhattan']}"
      ],
      "metadata": {
        "id": "PHkVn9wLMH4E"
      },
      "execution_count": 42,
      "outputs": []
    },
    {
      "cell_type": "code",
      "source": [
        "gs = GridSearchCV(KNeighborsClassifier(), grid_params, verbose = 1, cv=3, n_jobs = -1)"
      ],
      "metadata": {
        "id": "y_dJz7F0MOnN"
      },
      "execution_count": 43,
      "outputs": []
    },
    {
      "cell_type": "code",
      "source": [
        "# fit the model on our train set\n",
        "g_res = gs.fit(X_train, y_train)"
      ],
      "metadata": {
        "id": "siQ7qb9PMOyM",
        "colab": {
          "base_uri": "https://localhost:8080/"
        },
        "outputId": "339640e5-fbf4-4ea6-be03-b828adae192b"
      },
      "execution_count": 44,
      "outputs": [
        {
          "output_type": "stream",
          "name": "stdout",
          "text": [
            "Fitting 3 folds for each of 30 candidates, totalling 90 fits\n"
          ]
        }
      ]
    },
    {
      "cell_type": "code",
      "source": [
        "# find the best score\n",
        "g_res.best_score_"
      ],
      "metadata": {
        "id": "RZX0rEg1MaDy",
        "colab": {
          "base_uri": "https://localhost:8080/"
        },
        "outputId": "bce5b139-f33b-46be-9e51-30cbb19ee089"
      },
      "execution_count": 45,
      "outputs": [
        {
          "output_type": "execute_result",
          "data": {
            "text/plain": [
              "0.777932947359664"
            ]
          },
          "metadata": {},
          "execution_count": 45
        }
      ]
    },
    {
      "cell_type": "code",
      "source": [
        "# get the hyperparameters with the best score\n",
        "g_res.best_params_"
      ],
      "metadata": {
        "id": "Jj61ekrNMaRa",
        "colab": {
          "base_uri": "https://localhost:8080/"
        },
        "outputId": "f83b1a1b-9913-405e-c312-43e1fbfa1e83"
      },
      "execution_count": 46,
      "outputs": [
        {
          "output_type": "execute_result",
          "data": {
            "text/plain": [
              "{'metric': 'manhattan', 'n_neighbors': 20, 'weights': 'uniform'}"
            ]
          },
          "metadata": {},
          "execution_count": 46
        }
      ]
    },
    {
      "cell_type": "code",
      "source": [
        "# use the best hyperparameters\n",
        "g_res.best_params_\n",
        "knn = KNeighborsClassifier(n_neighbors = 20, weights = 'uniform',algorithm = 'brute',metric = 'minkowski')\n",
        "knn.fit(X_train, y_train)"
      ],
      "metadata": {
        "id": "eGpcEKXGMxOx",
        "colab": {
          "base_uri": "https://localhost:8080/",
          "height": 74
        },
        "outputId": "fd5cf706-db26-48e3-b345-7b4b7192e869"
      },
      "execution_count": 47,
      "outputs": [
        {
          "output_type": "execute_result",
          "data": {
            "text/plain": [
              "KNeighborsClassifier(algorithm='brute', n_neighbors=20)"
            ],
            "text/html": [
              "<style>#sk-container-id-2 {color: black;background-color: white;}#sk-container-id-2 pre{padding: 0;}#sk-container-id-2 div.sk-toggleable {background-color: white;}#sk-container-id-2 label.sk-toggleable__label {cursor: pointer;display: block;width: 100%;margin-bottom: 0;padding: 0.3em;box-sizing: border-box;text-align: center;}#sk-container-id-2 label.sk-toggleable__label-arrow:before {content: \"▸\";float: left;margin-right: 0.25em;color: #696969;}#sk-container-id-2 label.sk-toggleable__label-arrow:hover:before {color: black;}#sk-container-id-2 div.sk-estimator:hover label.sk-toggleable__label-arrow:before {color: black;}#sk-container-id-2 div.sk-toggleable__content {max-height: 0;max-width: 0;overflow: hidden;text-align: left;background-color: #f0f8ff;}#sk-container-id-2 div.sk-toggleable__content pre {margin: 0.2em;color: black;border-radius: 0.25em;background-color: #f0f8ff;}#sk-container-id-2 input.sk-toggleable__control:checked~div.sk-toggleable__content {max-height: 200px;max-width: 100%;overflow: auto;}#sk-container-id-2 input.sk-toggleable__control:checked~label.sk-toggleable__label-arrow:before {content: \"▾\";}#sk-container-id-2 div.sk-estimator input.sk-toggleable__control:checked~label.sk-toggleable__label {background-color: #d4ebff;}#sk-container-id-2 div.sk-label input.sk-toggleable__control:checked~label.sk-toggleable__label {background-color: #d4ebff;}#sk-container-id-2 input.sk-hidden--visually {border: 0;clip: rect(1px 1px 1px 1px);clip: rect(1px, 1px, 1px, 1px);height: 1px;margin: -1px;overflow: hidden;padding: 0;position: absolute;width: 1px;}#sk-container-id-2 div.sk-estimator {font-family: monospace;background-color: #f0f8ff;border: 1px dotted black;border-radius: 0.25em;box-sizing: border-box;margin-bottom: 0.5em;}#sk-container-id-2 div.sk-estimator:hover {background-color: #d4ebff;}#sk-container-id-2 div.sk-parallel-item::after {content: \"\";width: 100%;border-bottom: 1px solid gray;flex-grow: 1;}#sk-container-id-2 div.sk-label:hover label.sk-toggleable__label {background-color: #d4ebff;}#sk-container-id-2 div.sk-serial::before {content: \"\";position: absolute;border-left: 1px solid gray;box-sizing: border-box;top: 0;bottom: 0;left: 50%;z-index: 0;}#sk-container-id-2 div.sk-serial {display: flex;flex-direction: column;align-items: center;background-color: white;padding-right: 0.2em;padding-left: 0.2em;position: relative;}#sk-container-id-2 div.sk-item {position: relative;z-index: 1;}#sk-container-id-2 div.sk-parallel {display: flex;align-items: stretch;justify-content: center;background-color: white;position: relative;}#sk-container-id-2 div.sk-item::before, #sk-container-id-2 div.sk-parallel-item::before {content: \"\";position: absolute;border-left: 1px solid gray;box-sizing: border-box;top: 0;bottom: 0;left: 50%;z-index: -1;}#sk-container-id-2 div.sk-parallel-item {display: flex;flex-direction: column;z-index: 1;position: relative;background-color: white;}#sk-container-id-2 div.sk-parallel-item:first-child::after {align-self: flex-end;width: 50%;}#sk-container-id-2 div.sk-parallel-item:last-child::after {align-self: flex-start;width: 50%;}#sk-container-id-2 div.sk-parallel-item:only-child::after {width: 0;}#sk-container-id-2 div.sk-dashed-wrapped {border: 1px dashed gray;margin: 0 0.4em 0.5em 0.4em;box-sizing: border-box;padding-bottom: 0.4em;background-color: white;}#sk-container-id-2 div.sk-label label {font-family: monospace;font-weight: bold;display: inline-block;line-height: 1.2em;}#sk-container-id-2 div.sk-label-container {text-align: center;}#sk-container-id-2 div.sk-container {/* jupyter's `normalize.less` sets `[hidden] { display: none; }` but bootstrap.min.css set `[hidden] { display: none !important; }` so we also need the `!important` here to be able to override the default hidden behavior on the sphinx rendered scikit-learn.org. See: https://github.com/scikit-learn/scikit-learn/issues/21755 */display: inline-block !important;position: relative;}#sk-container-id-2 div.sk-text-repr-fallback {display: none;}</style><div id=\"sk-container-id-2\" class=\"sk-top-container\"><div class=\"sk-text-repr-fallback\"><pre>KNeighborsClassifier(algorithm=&#x27;brute&#x27;, n_neighbors=20)</pre><b>In a Jupyter environment, please rerun this cell to show the HTML representation or trust the notebook. <br />On GitHub, the HTML representation is unable to render, please try loading this page with nbviewer.org.</b></div><div class=\"sk-container\" hidden><div class=\"sk-item\"><div class=\"sk-estimator sk-toggleable\"><input class=\"sk-toggleable__control sk-hidden--visually\" id=\"sk-estimator-id-2\" type=\"checkbox\" checked><label for=\"sk-estimator-id-2\" class=\"sk-toggleable__label sk-toggleable__label-arrow\">KNeighborsClassifier</label><div class=\"sk-toggleable__content\"><pre>KNeighborsClassifier(algorithm=&#x27;brute&#x27;, n_neighbors=20)</pre></div></div></div></div></div>"
            ]
          },
          "metadata": {},
          "execution_count": 47
        }
      ]
    },
    {
      "cell_type": "code",
      "source": [
        "# get a prediction\n",
        "y_hat = knn.predict(X_train)\n",
        "y_knn = knn.predict(X_eval)"
      ],
      "metadata": {
        "id": "TFF6wUqeM3cR"
      },
      "execution_count": 48,
      "outputs": []
    },
    {
      "cell_type": "code",
      "source": [
        "# Model Evaluation\n",
        "print('Training set accuracy: ', metrics.accuracy_score(y_train, y_hat))\n",
        "print('Test set accuracy: ',metrics.accuracy_score(y_eval, y_knn))\n",
        "sc = metrics.accuracy_score(y_eval, y_knn)"
      ],
      "metadata": {
        "id": "Sa3IvaLhSbQf",
        "colab": {
          "base_uri": "https://localhost:8080/"
        },
        "outputId": "abae9b3c-6802-4278-a3e9-9f95b5fe5aa0"
      },
      "execution_count": 49,
      "outputs": [
        {
          "output_type": "stream",
          "name": "stdout",
          "text": [
            "Training set accuracy:  0.7912011173184358\n",
            "Test set accuracy:  0.7744413407821229\n"
          ]
        }
      ]
    },
    {
      "cell_type": "code",
      "source": [
        "# calculating the knn AUC\n",
        "y_pred_= knn.predict_proba(X_eval)[:,1]\n",
        "fpr_knn, tpr_knn, thresholds_knn = roc_curve(y_eval, y_pred_)\n",
        "auc_knn = roc_auc_score(y_eval, y_pred_)\n",
        "print('AUC:', auc_knn)\n"
      ],
      "metadata": {
        "id": "4IVxyzyiomQU",
        "colab": {
          "base_uri": "https://localhost:8080/"
        },
        "outputId": "09f0b321-c409-404e-c0e1-b5e7d59c09a6"
      },
      "execution_count": 50,
      "outputs": [
        {
          "output_type": "stream",
          "name": "stdout",
          "text": [
            "AUC: 0.6550560082021749\n"
          ]
        }
      ]
    },
    {
      "cell_type": "markdown",
      "source": [
        "**Naive Bayes**"
      ],
      "metadata": {
        "id": "GY6fRSiosRaN"
      }
    },
    {
      "cell_type": "code",
      "execution_count": 51,
      "metadata": {
        "id": "5K3Uc3-M0CAi",
        "colab": {
          "base_uri": "https://localhost:8080/"
        },
        "outputId": "e96a02f8-4579-4e17-b455-1b4f19a81958"
      },
      "outputs": [
        {
          "output_type": "stream",
          "name": "stdout",
          "text": [
            "              precision    recall  f1-score   support\n",
            "\n",
            "           0       0.80      0.94      0.87      1098\n",
            "           1       0.56      0.24      0.33       334\n",
            "\n",
            "    accuracy                           0.78      1432\n",
            "   macro avg       0.68      0.59      0.60      1432\n",
            "weighted avg       0.75      0.78      0.74      1432\n",
            "\n"
          ]
        }
      ],
      "source": [
        "# create the Naive Bayes' Classifier and use the train dataset to train the model\n",
        "classifier=GaussianNB()\n",
        "classifier.fit(X_train, y_train)\n",
        "\n",
        "# predict the results of the model\n",
        "y_predictnb=classifier.predict(X_eval)\n",
        "y_predict_proba = classifier.predict_proba(X_eval)[:,1]\n",
        "\n",
        "# Evaluating the model using classification report\n",
        "print(classification_report(y_eval,y_predictnb))"
      ]
    },
    {
      "cell_type": "markdown",
      "source": [
        "Overall accuracy is 0.78, meaning that the model correctly predicts the class for about 78% of the instances."
      ],
      "metadata": {
        "id": "egRNjnVRxhTb"
      }
    },
    {
      "cell_type": "markdown",
      "source": [
        "**Tune hyparameters for Naive Bayes**"
      ],
      "metadata": {
        "id": "5iCVIzGPQJHz"
      }
    },
    {
      "cell_type": "code",
      "source": [
        "np.logspace(0,-9, num=10)"
      ],
      "metadata": {
        "id": "vFvZFYV0QTBk",
        "colab": {
          "base_uri": "https://localhost:8080/"
        },
        "outputId": "c7402a7c-450b-4e19-bb2b-b989aa22883d"
      },
      "execution_count": 52,
      "outputs": [
        {
          "output_type": "execute_result",
          "data": {
            "text/plain": [
              "array([1.e+00, 1.e-01, 1.e-02, 1.e-03, 1.e-04, 1.e-05, 1.e-06, 1.e-07,\n",
              "       1.e-08, 1.e-09])"
            ]
          },
          "metadata": {},
          "execution_count": 52
        }
      ]
    },
    {
      "cell_type": "code",
      "source": [
        "from sklearn.model_selection import RepeatedStratifiedKFold\n",
        "\n",
        "cv_method = RepeatedStratifiedKFold(n_splits=5,\n",
        "                                    n_repeats=3,\n",
        "                                    random_state=999)"
      ],
      "metadata": {
        "id": "V4U39ACbQly-"
      },
      "execution_count": 53,
      "outputs": []
    },
    {
      "cell_type": "code",
      "source": [
        "from sklearn.naive_bayes import GaussianNB\n",
        "from sklearn.model_selection import GridSearchCV\n",
        "from sklearn.preprocessing import PowerTransformer\n",
        "\n",
        "# Assuming X_train and y_train are your training data\n",
        "Data_transformed = PowerTransformer().fit_transform(X_train)\n",
        "\n",
        "# Create the Naive Bayes model\n",
        "model_NB = GaussianNB()\n",
        "\n",
        "# Define the parameter grid\n",
        "params_NB = {'var_smoothing': np.logspace(0, -9, num=100)}\n",
        "\n",
        "# Create the GridSearchCV object\n",
        "gs_NB = GridSearchCV(estimator=model_NB,\n",
        "                     param_grid=params_NB,\n",
        "                     cv=cv_method,\n",
        "                     verbose=1,\n",
        "                     scoring='accuracy')\n",
        "\n",
        "# Fit the grid search to the data\n",
        "gs_NB.fit(Data_transformed, y_train)"
      ],
      "metadata": {
        "id": "k30hVHZ5Ql4y",
        "colab": {
          "base_uri": "https://localhost:8080/",
          "height": 133
        },
        "outputId": "d423e602-581e-4b1e-e6b2-dd8f696c42d3"
      },
      "execution_count": 54,
      "outputs": [
        {
          "output_type": "stream",
          "name": "stdout",
          "text": [
            "Fitting 15 folds for each of 100 candidates, totalling 1500 fits\n"
          ]
        },
        {
          "output_type": "execute_result",
          "data": {
            "text/plain": [
              "GridSearchCV(cv=RepeatedStratifiedKFold(n_repeats=3, n_splits=5, random_state=999),\n",
              "             estimator=GaussianNB(),\n",
              "             param_grid={'var_smoothing': array([1.00000000e+00, 8.11130831e-01, 6.57933225e-01, 5.33669923e-01,\n",
              "       4.32876128e-01, 3.51119173e-01, 2.84803587e-01, 2.31012970e-01,\n",
              "       1.87381742e-01, 1.51991108e-01, 1.23284674e-01, 1.00000000e-01,\n",
              "       8.11130831e-02, 6.57933225e-02, 5...\n",
              "       1.23284674e-07, 1.00000000e-07, 8.11130831e-08, 6.57933225e-08,\n",
              "       5.33669923e-08, 4.32876128e-08, 3.51119173e-08, 2.84803587e-08,\n",
              "       2.31012970e-08, 1.87381742e-08, 1.51991108e-08, 1.23284674e-08,\n",
              "       1.00000000e-08, 8.11130831e-09, 6.57933225e-09, 5.33669923e-09,\n",
              "       4.32876128e-09, 3.51119173e-09, 2.84803587e-09, 2.31012970e-09,\n",
              "       1.87381742e-09, 1.51991108e-09, 1.23284674e-09, 1.00000000e-09])},\n",
              "             scoring='accuracy', verbose=1)"
            ],
            "text/html": [
              "<style>#sk-container-id-3 {color: black;background-color: white;}#sk-container-id-3 pre{padding: 0;}#sk-container-id-3 div.sk-toggleable {background-color: white;}#sk-container-id-3 label.sk-toggleable__label {cursor: pointer;display: block;width: 100%;margin-bottom: 0;padding: 0.3em;box-sizing: border-box;text-align: center;}#sk-container-id-3 label.sk-toggleable__label-arrow:before {content: \"▸\";float: left;margin-right: 0.25em;color: #696969;}#sk-container-id-3 label.sk-toggleable__label-arrow:hover:before {color: black;}#sk-container-id-3 div.sk-estimator:hover label.sk-toggleable__label-arrow:before {color: black;}#sk-container-id-3 div.sk-toggleable__content {max-height: 0;max-width: 0;overflow: hidden;text-align: left;background-color: #f0f8ff;}#sk-container-id-3 div.sk-toggleable__content pre {margin: 0.2em;color: black;border-radius: 0.25em;background-color: #f0f8ff;}#sk-container-id-3 input.sk-toggleable__control:checked~div.sk-toggleable__content {max-height: 200px;max-width: 100%;overflow: auto;}#sk-container-id-3 input.sk-toggleable__control:checked~label.sk-toggleable__label-arrow:before {content: \"▾\";}#sk-container-id-3 div.sk-estimator input.sk-toggleable__control:checked~label.sk-toggleable__label {background-color: #d4ebff;}#sk-container-id-3 div.sk-label input.sk-toggleable__control:checked~label.sk-toggleable__label {background-color: #d4ebff;}#sk-container-id-3 input.sk-hidden--visually {border: 0;clip: rect(1px 1px 1px 1px);clip: rect(1px, 1px, 1px, 1px);height: 1px;margin: -1px;overflow: hidden;padding: 0;position: absolute;width: 1px;}#sk-container-id-3 div.sk-estimator {font-family: monospace;background-color: #f0f8ff;border: 1px dotted black;border-radius: 0.25em;box-sizing: border-box;margin-bottom: 0.5em;}#sk-container-id-3 div.sk-estimator:hover {background-color: #d4ebff;}#sk-container-id-3 div.sk-parallel-item::after {content: \"\";width: 100%;border-bottom: 1px solid gray;flex-grow: 1;}#sk-container-id-3 div.sk-label:hover label.sk-toggleable__label {background-color: #d4ebff;}#sk-container-id-3 div.sk-serial::before {content: \"\";position: absolute;border-left: 1px solid gray;box-sizing: border-box;top: 0;bottom: 0;left: 50%;z-index: 0;}#sk-container-id-3 div.sk-serial {display: flex;flex-direction: column;align-items: center;background-color: white;padding-right: 0.2em;padding-left: 0.2em;position: relative;}#sk-container-id-3 div.sk-item {position: relative;z-index: 1;}#sk-container-id-3 div.sk-parallel {display: flex;align-items: stretch;justify-content: center;background-color: white;position: relative;}#sk-container-id-3 div.sk-item::before, #sk-container-id-3 div.sk-parallel-item::before {content: \"\";position: absolute;border-left: 1px solid gray;box-sizing: border-box;top: 0;bottom: 0;left: 50%;z-index: -1;}#sk-container-id-3 div.sk-parallel-item {display: flex;flex-direction: column;z-index: 1;position: relative;background-color: white;}#sk-container-id-3 div.sk-parallel-item:first-child::after {align-self: flex-end;width: 50%;}#sk-container-id-3 div.sk-parallel-item:last-child::after {align-self: flex-start;width: 50%;}#sk-container-id-3 div.sk-parallel-item:only-child::after {width: 0;}#sk-container-id-3 div.sk-dashed-wrapped {border: 1px dashed gray;margin: 0 0.4em 0.5em 0.4em;box-sizing: border-box;padding-bottom: 0.4em;background-color: white;}#sk-container-id-3 div.sk-label label {font-family: monospace;font-weight: bold;display: inline-block;line-height: 1.2em;}#sk-container-id-3 div.sk-label-container {text-align: center;}#sk-container-id-3 div.sk-container {/* jupyter's `normalize.less` sets `[hidden] { display: none; }` but bootstrap.min.css set `[hidden] { display: none !important; }` so we also need the `!important` here to be able to override the default hidden behavior on the sphinx rendered scikit-learn.org. See: https://github.com/scikit-learn/scikit-learn/issues/21755 */display: inline-block !important;position: relative;}#sk-container-id-3 div.sk-text-repr-fallback {display: none;}</style><div id=\"sk-container-id-3\" class=\"sk-top-container\"><div class=\"sk-text-repr-fallback\"><pre>GridSearchCV(cv=RepeatedStratifiedKFold(n_repeats=3, n_splits=5, random_state=999),\n",
              "             estimator=GaussianNB(),\n",
              "             param_grid={&#x27;var_smoothing&#x27;: array([1.00000000e+00, 8.11130831e-01, 6.57933225e-01, 5.33669923e-01,\n",
              "       4.32876128e-01, 3.51119173e-01, 2.84803587e-01, 2.31012970e-01,\n",
              "       1.87381742e-01, 1.51991108e-01, 1.23284674e-01, 1.00000000e-01,\n",
              "       8.11130831e-02, 6.57933225e-02, 5...\n",
              "       1.23284674e-07, 1.00000000e-07, 8.11130831e-08, 6.57933225e-08,\n",
              "       5.33669923e-08, 4.32876128e-08, 3.51119173e-08, 2.84803587e-08,\n",
              "       2.31012970e-08, 1.87381742e-08, 1.51991108e-08, 1.23284674e-08,\n",
              "       1.00000000e-08, 8.11130831e-09, 6.57933225e-09, 5.33669923e-09,\n",
              "       4.32876128e-09, 3.51119173e-09, 2.84803587e-09, 2.31012970e-09,\n",
              "       1.87381742e-09, 1.51991108e-09, 1.23284674e-09, 1.00000000e-09])},\n",
              "             scoring=&#x27;accuracy&#x27;, verbose=1)</pre><b>In a Jupyter environment, please rerun this cell to show the HTML representation or trust the notebook. <br />On GitHub, the HTML representation is unable to render, please try loading this page with nbviewer.org.</b></div><div class=\"sk-container\" hidden><div class=\"sk-item sk-dashed-wrapped\"><div class=\"sk-label-container\"><div class=\"sk-label sk-toggleable\"><input class=\"sk-toggleable__control sk-hidden--visually\" id=\"sk-estimator-id-3\" type=\"checkbox\" ><label for=\"sk-estimator-id-3\" class=\"sk-toggleable__label sk-toggleable__label-arrow\">GridSearchCV</label><div class=\"sk-toggleable__content\"><pre>GridSearchCV(cv=RepeatedStratifiedKFold(n_repeats=3, n_splits=5, random_state=999),\n",
              "             estimator=GaussianNB(),\n",
              "             param_grid={&#x27;var_smoothing&#x27;: array([1.00000000e+00, 8.11130831e-01, 6.57933225e-01, 5.33669923e-01,\n",
              "       4.32876128e-01, 3.51119173e-01, 2.84803587e-01, 2.31012970e-01,\n",
              "       1.87381742e-01, 1.51991108e-01, 1.23284674e-01, 1.00000000e-01,\n",
              "       8.11130831e-02, 6.57933225e-02, 5...\n",
              "       1.23284674e-07, 1.00000000e-07, 8.11130831e-08, 6.57933225e-08,\n",
              "       5.33669923e-08, 4.32876128e-08, 3.51119173e-08, 2.84803587e-08,\n",
              "       2.31012970e-08, 1.87381742e-08, 1.51991108e-08, 1.23284674e-08,\n",
              "       1.00000000e-08, 8.11130831e-09, 6.57933225e-09, 5.33669923e-09,\n",
              "       4.32876128e-09, 3.51119173e-09, 2.84803587e-09, 2.31012970e-09,\n",
              "       1.87381742e-09, 1.51991108e-09, 1.23284674e-09, 1.00000000e-09])},\n",
              "             scoring=&#x27;accuracy&#x27;, verbose=1)</pre></div></div></div><div class=\"sk-parallel\"><div class=\"sk-parallel-item\"><div class=\"sk-item\"><div class=\"sk-label-container\"><div class=\"sk-label sk-toggleable\"><input class=\"sk-toggleable__control sk-hidden--visually\" id=\"sk-estimator-id-4\" type=\"checkbox\" ><label for=\"sk-estimator-id-4\" class=\"sk-toggleable__label sk-toggleable__label-arrow\">estimator: GaussianNB</label><div class=\"sk-toggleable__content\"><pre>GaussianNB()</pre></div></div></div><div class=\"sk-serial\"><div class=\"sk-item\"><div class=\"sk-estimator sk-toggleable\"><input class=\"sk-toggleable__control sk-hidden--visually\" id=\"sk-estimator-id-5\" type=\"checkbox\" ><label for=\"sk-estimator-id-5\" class=\"sk-toggleable__label sk-toggleable__label-arrow\">GaussianNB</label><div class=\"sk-toggleable__content\"><pre>GaussianNB()</pre></div></div></div></div></div></div></div></div></div></div>"
            ]
          },
          "metadata": {},
          "execution_count": 54
        }
      ]
    },
    {
      "cell_type": "code",
      "source": [
        "gs_NB.best_params_"
      ],
      "metadata": {
        "id": "ue86rzJqQl6s",
        "colab": {
          "base_uri": "https://localhost:8080/"
        },
        "outputId": "e6bd06d7-8a9b-4c32-b2c6-ec3a96e7ed44"
      },
      "execution_count": 55,
      "outputs": [
        {
          "output_type": "execute_result",
          "data": {
            "text/plain": [
              "{'var_smoothing': 0.3511191734215131}"
            ]
          },
          "metadata": {},
          "execution_count": 55
        }
      ]
    },
    {
      "cell_type": "code",
      "source": [
        "gs_NB.best_score_"
      ],
      "metadata": {
        "id": "0vZSPeGLQl8y",
        "colab": {
          "base_uri": "https://localhost:8080/"
        },
        "outputId": "7cd5e1df-ffca-4b16-9f92-233e8fdc933e"
      },
      "execution_count": 56,
      "outputs": [
        {
          "output_type": "execute_result",
          "data": {
            "text/plain": [
              "0.7826473195800341"
            ]
          },
          "metadata": {},
          "execution_count": 56
        }
      ]
    },
    {
      "cell_type": "code",
      "source": [
        "results_NB = pd.DataFrame(gs_NB.cv_results_['params'])\n",
        "results_NB['test_score'] = gs_NB.cv_results_['mean_test_score']"
      ],
      "metadata": {
        "id": "xH2pUBIAQl_d"
      },
      "execution_count": 57,
      "outputs": []
    },
    {
      "cell_type": "code",
      "source": [
        "plt.plot(results_NB['var_smoothing'], results_NB['test_score'], marker = '.')\n",
        "plt.xlabel('Var. Smoothing')\n",
        "plt.ylabel(\"Mean CV Score\")\n",
        "plt.title(\"NB Performance Comparison\")\n",
        "plt.show()"
      ],
      "metadata": {
        "id": "nch0q5Y-THZU",
        "colab": {
          "base_uri": "https://localhost:8080/",
          "height": 472
        },
        "outputId": "dda57ae1-21ad-4f36-f4d4-ec2519eaf7fe"
      },
      "execution_count": 58,
      "outputs": [
        {
          "output_type": "display_data",
          "data": {
            "text/plain": [
              "<Figure size 640x480 with 1 Axes>"
            ],
            "image/png": "[encoded data removed]"
          },
          "metadata": {}
        }
      ]
    },
    {
      "cell_type": "code",
      "source": [
        "# predict the target on the test dataset\n",
        "predict_test = gs_NB.predict(Data_transformed)"
      ],
      "metadata": {
        "id": "KPgIw5y5TeBj"
      },
      "execution_count": 59,
      "outputs": []
    },
    {
      "cell_type": "code",
      "source": [
        "# Accuracy Score on test dataset\n",
        "accuracy_test = accuracy_score(y_train,predict_test)\n",
        "print('accuracy_score on test dataset : ', accuracy_test)"
      ],
      "metadata": {
        "id": "upGCQEW-Tldn",
        "colab": {
          "base_uri": "https://localhost:8080/"
        },
        "outputId": "3c3362f8-bc87-4526-e96e-5e6044b1c0eb"
      },
      "execution_count": 60,
      "outputs": [
        {
          "output_type": "stream",
          "name": "stdout",
          "text": [
            "accuracy_score on test dataset :  0.7831703910614525\n"
          ]
        }
      ]
    },
    {
      "cell_type": "code",
      "source": [
        "# calculating the Naive Bayes AUC\n",
        "y_predictnb_proba = classifier.predict_proba(X_eval)[:,1]\n",
        "fpr_nb, tpr_nb, thresholds_nb = roc_curve(y_eval, y_predictnb_proba)\n",
        "auc_nb = roc_auc_score(y_eval, y_predictnb_proba)\n",
        "print('AUC:',auc_nb )"
      ],
      "metadata": {
        "id": "CtFOielvh-IQ",
        "colab": {
          "base_uri": "https://localhost:8080/"
        },
        "outputId": "6e41aa19-e6e6-45f4-86e7-c7ffdeaff1f4"
      },
      "execution_count": 61,
      "outputs": [
        {
          "output_type": "stream",
          "name": "stdout",
          "text": [
            "AUC: 0.676202240328087\n"
          ]
        }
      ]
    },
    {
      "cell_type": "markdown",
      "source": [
        "**Linear Regression model**"
      ],
      "metadata": {
        "id": "xyYhmQvenTN9"
      }
    },
    {
      "cell_type": "code",
      "source": [
        "#creating a model\n",
        "from sklearn.linear_model import LinearRegression\n",
        "# creating a object\n",
        "model = LinearRegression()\n",
        "#training the model\n",
        "model.fit(X, y)\n",
        "#using the training dataset for the prediction\n",
        "pred = model.predict(X)\n",
        "#model performance\n",
        "from sklearn.metrics import r2_score, mean_squared_error\n",
        "mse = mean_squared_error(y, pred)\n",
        "r2 = r2_score(y, pred)#Best fit lineplt.scatter(x, y)\n",
        "#plt.plot(X, pred, color = 'Black', marker = 'o')\n",
        "#Results\n",
        "print(f'Mean Squared Error (MSE): {mse}')\n",
        "#print(f'Root Mean Squared Error (RMSE): {rmse}')\n",
        "print(f'R-squared (R2): {r2}')\n",
        "print(\"Y-intercept :\"  , model.intercept_)\n",
        "print(\"Slope :\" , model.coef_)"
      ],
      "metadata": {
        "id": "jCti5EG1tbdz",
        "colab": {
          "base_uri": "https://localhost:8080/"
        },
        "outputId": "44d19d6d-2a40-4ad2-c921-d5d7083dcba2"
      },
      "execution_count": 62,
      "outputs": [
        {
          "output_type": "stream",
          "name": "stdout",
          "text": [
            "Mean Squared Error (MSE): 0.1569254338157841\n",
            "R-squared (R2): 0.10904360428276305\n",
            "Y-intercept : 14.26283728045838\n",
            "Slope : [-6.85011445e-03  1.56611719e-01  1.35574951e-02  1.41972633e-02\n",
            "  7.88744722e-01 -8.84797652e-01  1.01499929e-01  5.52320519e-05\n",
            "  4.62146311e-02 -3.08044525e-04]\n"
          ]
        }
      ]
    },
    {
      "cell_type": "markdown",
      "source": [
        "The model's performance, as indicated by the R-squared value, is relatively low, suggesting that the linear regression model might not fully capture the underlying patterns in the data"
      ],
      "metadata": {
        "id": "hQEpS6zEwH28"
      }
    },
    {
      "cell_type": "markdown",
      "source": [
        "**Tuning hyperparameters**"
      ],
      "metadata": {
        "id": "JWGLj8RYIZiq"
      }
    },
    {
      "cell_type": "code",
      "source": [
        "# Define the parameter grid\n",
        "param_grid = {\n",
        "    'fit_intercept': [True, False],\n",
        "    'positive': [True, False]\n",
        "}"
      ],
      "metadata": {
        "id": "7KZM6saYIaFt"
      },
      "execution_count": 63,
      "outputs": []
    },
    {
      "cell_type": "code",
      "source": [
        "from sklearn.model_selection import GridSearchCV\n",
        "# Create the GridSearchCV object\n",
        "grid_search = GridSearchCV(model, param_grid, cv=5, scoring='neg_mean_squared_error', n_jobs=-1)"
      ],
      "metadata": {
        "id": "b0m1RQv5It5Y"
      },
      "execution_count": 64,
      "outputs": []
    },
    {
      "cell_type": "code",
      "source": [
        "# Fit the grid search to the data\n",
        "grid_search.fit(X_train, y_train)\n"
      ],
      "metadata": {
        "id": "4rt6ipLmJ00w",
        "colab": {
          "base_uri": "https://localhost:8080/",
          "height": 116
        },
        "outputId": "d567abc4-d240-4da8-e0c2-2e93792df800"
      },
      "execution_count": 65,
      "outputs": [
        {
          "output_type": "execute_result",
          "data": {
            "text/plain": [
              "GridSearchCV(cv=5, estimator=LinearRegression(), n_jobs=-1,\n",
              "             param_grid={'fit_intercept': [True, False],\n",
              "                         'positive': [True, False]},\n",
              "             scoring='neg_mean_squared_error')"
            ],
            "text/html": [
              "<style>#sk-container-id-4 {color: black;background-color: white;}#sk-container-id-4 pre{padding: 0;}#sk-container-id-4 div.sk-toggleable {background-color: white;}#sk-container-id-4 label.sk-toggleable__label {cursor: pointer;display: block;width: 100%;margin-bottom: 0;padding: 0.3em;box-sizing: border-box;text-align: center;}#sk-container-id-4 label.sk-toggleable__label-arrow:before {content: \"▸\";float: left;margin-right: 0.25em;color: #696969;}#sk-container-id-4 label.sk-toggleable__label-arrow:hover:before {color: black;}#sk-container-id-4 div.sk-estimator:hover label.sk-toggleable__label-arrow:before {color: black;}#sk-container-id-4 div.sk-toggleable__content {max-height: 0;max-width: 0;overflow: hidden;text-align: left;background-color: #f0f8ff;}#sk-container-id-4 div.sk-toggleable__content pre {margin: 0.2em;color: black;border-radius: 0.25em;background-color: #f0f8ff;}#sk-container-id-4 input.sk-toggleable__control:checked~div.sk-toggleable__content {max-height: 200px;max-width: 100%;overflow: auto;}#sk-container-id-4 input.sk-toggleable__control:checked~label.sk-toggleable__label-arrow:before {content: \"▾\";}#sk-container-id-4 div.sk-estimator input.sk-toggleable__control:checked~label.sk-toggleable__label {background-color: #d4ebff;}#sk-container-id-4 div.sk-label input.sk-toggleable__control:checked~label.sk-toggleable__label {background-color: #d4ebff;}#sk-container-id-4 input.sk-hidden--visually {border: 0;clip: rect(1px 1px 1px 1px);clip: rect(1px, 1px, 1px, 1px);height: 1px;margin: -1px;overflow: hidden;padding: 0;position: absolute;width: 1px;}#sk-container-id-4 div.sk-estimator {font-family: monospace;background-color: #f0f8ff;border: 1px dotted black;border-radius: 0.25em;box-sizing: border-box;margin-bottom: 0.5em;}#sk-container-id-4 div.sk-estimator:hover {background-color: #d4ebff;}#sk-container-id-4 div.sk-parallel-item::after {content: \"\";width: 100%;border-bottom: 1px solid gray;flex-grow: 1;}#sk-container-id-4 div.sk-label:hover label.sk-toggleable__label {background-color: #d4ebff;}#sk-container-id-4 div.sk-serial::before {content: \"\";position: absolute;border-left: 1px solid gray;box-sizing: border-box;top: 0;bottom: 0;left: 50%;z-index: 0;}#sk-container-id-4 div.sk-serial {display: flex;flex-direction: column;align-items: center;background-color: white;padding-right: 0.2em;padding-left: 0.2em;position: relative;}#sk-container-id-4 div.sk-item {position: relative;z-index: 1;}#sk-container-id-4 div.sk-parallel {display: flex;align-items: stretch;justify-content: center;background-color: white;position: relative;}#sk-container-id-4 div.sk-item::before, #sk-container-id-4 div.sk-parallel-item::before {content: \"\";position: absolute;border-left: 1px solid gray;box-sizing: border-box;top: 0;bottom: 0;left: 50%;z-index: -1;}#sk-container-id-4 div.sk-parallel-item {display: flex;flex-direction: column;z-index: 1;position: relative;background-color: white;}#sk-container-id-4 div.sk-parallel-item:first-child::after {align-self: flex-end;width: 50%;}#sk-container-id-4 div.sk-parallel-item:last-child::after {align-self: flex-start;width: 50%;}#sk-container-id-4 div.sk-parallel-item:only-child::after {width: 0;}#sk-container-id-4 div.sk-dashed-wrapped {border: 1px dashed gray;margin: 0 0.4em 0.5em 0.4em;box-sizing: border-box;padding-bottom: 0.4em;background-color: white;}#sk-container-id-4 div.sk-label label {font-family: monospace;font-weight: bold;display: inline-block;line-height: 1.2em;}#sk-container-id-4 div.sk-label-container {text-align: center;}#sk-container-id-4 div.sk-container {/* jupyter's `normalize.less` sets `[hidden] { display: none; }` but bootstrap.min.css set `[hidden] { display: none !important; }` so we also need the `!important` here to be able to override the default hidden behavior on the sphinx rendered scikit-learn.org. See: https://github.com/scikit-learn/scikit-learn/issues/21755 */display: inline-block !important;position: relative;}#sk-container-id-4 div.sk-text-repr-fallback {display: none;}</style><div id=\"sk-container-id-4\" class=\"sk-top-container\"><div class=\"sk-text-repr-fallback\"><pre>GridSearchCV(cv=5, estimator=LinearRegression(), n_jobs=-1,\n",
              "             param_grid={&#x27;fit_intercept&#x27;: [True, False],\n",
              "                         &#x27;positive&#x27;: [True, False]},\n",
              "             scoring=&#x27;neg_mean_squared_error&#x27;)</pre><b>In a Jupyter environment, please rerun this cell to show the HTML representation or trust the notebook. <br />On GitHub, the HTML representation is unable to render, please try loading this page with nbviewer.org.</b></div><div class=\"sk-container\" hidden><div class=\"sk-item sk-dashed-wrapped\"><div class=\"sk-label-container\"><div class=\"sk-label sk-toggleable\"><input class=\"sk-toggleable__control sk-hidden--visually\" id=\"sk-estimator-id-6\" type=\"checkbox\" ><label for=\"sk-estimator-id-6\" class=\"sk-toggleable__label sk-toggleable__label-arrow\">GridSearchCV</label><div class=\"sk-toggleable__content\"><pre>GridSearchCV(cv=5, estimator=LinearRegression(), n_jobs=-1,\n",
              "             param_grid={&#x27;fit_intercept&#x27;: [True, False],\n",
              "                         &#x27;positive&#x27;: [True, False]},\n",
              "             scoring=&#x27;neg_mean_squared_error&#x27;)</pre></div></div></div><div class=\"sk-parallel\"><div class=\"sk-parallel-item\"><div class=\"sk-item\"><div class=\"sk-label-container\"><div class=\"sk-label sk-toggleable\"><input class=\"sk-toggleable__control sk-hidden--visually\" id=\"sk-estimator-id-7\" type=\"checkbox\" ><label for=\"sk-estimator-id-7\" class=\"sk-toggleable__label sk-toggleable__label-arrow\">estimator: LinearRegression</label><div class=\"sk-toggleable__content\"><pre>LinearRegression()</pre></div></div></div><div class=\"sk-serial\"><div class=\"sk-item\"><div class=\"sk-estimator sk-toggleable\"><input class=\"sk-toggleable__control sk-hidden--visually\" id=\"sk-estimator-id-8\" type=\"checkbox\" ><label for=\"sk-estimator-id-8\" class=\"sk-toggleable__label sk-toggleable__label-arrow\">LinearRegression</label><div class=\"sk-toggleable__content\"><pre>LinearRegression()</pre></div></div></div></div></div></div></div></div></div></div>"
            ]
          },
          "metadata": {},
          "execution_count": 65
        }
      ]
    },
    {
      "cell_type": "code",
      "source": [
        "# Get the best parameters and best model\n",
        "best_params = grid_search.best_params_\n",
        "best_model = grid_search.best_estimator_"
      ],
      "metadata": {
        "id": "51EfeZUzIuGy"
      },
      "execution_count": 66,
      "outputs": []
    },
    {
      "cell_type": "code",
      "source": [
        "# Make predictions on the test set\n",
        "y_pred = best_model.predict(X_eval)"
      ],
      "metadata": {
        "id": "VmFnKuI6KH-B"
      },
      "execution_count": 67,
      "outputs": []
    },
    {
      "cell_type": "code",
      "source": [
        "# Evaluate the model\n",
        "import numpy as np\n",
        "from sklearn.metrics import mean_squared_error, r2_score\n",
        "\n",
        "\n",
        "mse = mean_squared_error(y_eval, y_pred)\n",
        "rmse = np.sqrt(mse)\n",
        "r2 = r2_score(y_eval, y_pred)\n",
        "\n",
        "print(f'Mean Squared Error (MSE): {mse}')\n",
        "print(f'Root Mean Squared Error (RMSE): {rmse}')\n",
        "print(f'R-squared (R2): {r2}')"
      ],
      "metadata": {
        "id": "FAn8xyQNK-Qp",
        "colab": {
          "base_uri": "https://localhost:8080/"
        },
        "outputId": "710b6818-7f45-4ae4-bb9e-c5c465e13a0f"
      },
      "execution_count": 68,
      "outputs": [
        {
          "output_type": "stream",
          "name": "stdout",
          "text": [
            "Mean Squared Error (MSE): 0.15935084705865588\n",
            "Root Mean Squared Error (RMSE): 0.3991877341034615\n",
            "R-squared (R2): 0.10897147944872798\n"
          ]
        }
      ]
    },
    {
      "cell_type": "code",
      "source": [
        "# calculating the Naive Bayes AUC\n",
        "pred = model.predict(X)\n",
        "fpr_lr, tpr_lr, thresholds_lr = roc_curve(y,pred )\n",
        "auc_lr = roc_auc_score(y, pred)\n",
        "print('AUC:',auc_lr )"
      ],
      "metadata": {
        "colab": {
          "base_uri": "https://localhost:8080/"
        },
        "id": "iO0s_h_FIjKk",
        "outputId": "a6eef286-ace1-471e-daf0-2bacdd02353b"
      },
      "execution_count": 69,
      "outputs": [
        {
          "output_type": "stream",
          "name": "stdout",
          "text": [
            "AUC: 0.714223924645085\n"
          ]
        }
      ]
    },
    {
      "cell_type": "markdown",
      "metadata": {
        "id": "L5cz20hhDfZH"
      },
      "source": [
        "**SVM Model building**"
      ]
    },
    {
      "cell_type": "code",
      "source": [
        "#Import svm model\n",
        "from sklearn import svm\n",
        "\n",
        "#Import scikit-learn metrics module for accuracy calculation\n",
        "from sklearn import metrics\n",
        "#Fitting the model on SVC with default parameters\n",
        "model_svc = SVC()\n"
      ],
      "metadata": {
        "id": "enb0k7p0zPTS"
      },
      "execution_count": 70,
      "outputs": []
    },
    {
      "cell_type": "code",
      "source": [
        "model_svc.fit(X_train, y_train)"
      ],
      "metadata": {
        "id": "YUqIenlrzbc1",
        "colab": {
          "base_uri": "https://localhost:8080/",
          "height": 74
        },
        "outputId": "abe241ac-f554-4713-fee6-bdbf1bdfcebc"
      },
      "execution_count": 71,
      "outputs": [
        {
          "output_type": "execute_result",
          "data": {
            "text/plain": [
              "SVC()"
            ],
            "text/html": [
              "<style>#sk-container-id-5 {color: black;background-color: white;}#sk-container-id-5 pre{padding: 0;}#sk-container-id-5 div.sk-toggleable {background-color: white;}#sk-container-id-5 label.sk-toggleable__label {cursor: pointer;display: block;width: 100%;margin-bottom: 0;padding: 0.3em;box-sizing: border-box;text-align: center;}#sk-container-id-5 label.sk-toggleable__label-arrow:before {content: \"▸\";float: left;margin-right: 0.25em;color: #696969;}#sk-container-id-5 label.sk-toggleable__label-arrow:hover:before {color: black;}#sk-container-id-5 div.sk-estimator:hover label.sk-toggleable__label-arrow:before {color: black;}#sk-container-id-5 div.sk-toggleable__content {max-height: 0;max-width: 0;overflow: hidden;text-align: left;background-color: #f0f8ff;}#sk-container-id-5 div.sk-toggleable__content pre {margin: 0.2em;color: black;border-radius: 0.25em;background-color: #f0f8ff;}#sk-container-id-5 input.sk-toggleable__control:checked~div.sk-toggleable__content {max-height: 200px;max-width: 100%;overflow: auto;}#sk-container-id-5 input.sk-toggleable__control:checked~label.sk-toggleable__label-arrow:before {content: \"▾\";}#sk-container-id-5 div.sk-estimator input.sk-toggleable__control:checked~label.sk-toggleable__label {background-color: #d4ebff;}#sk-container-id-5 div.sk-label input.sk-toggleable__control:checked~label.sk-toggleable__label {background-color: #d4ebff;}#sk-container-id-5 input.sk-hidden--visually {border: 0;clip: rect(1px 1px 1px 1px);clip: rect(1px, 1px, 1px, 1px);height: 1px;margin: -1px;overflow: hidden;padding: 0;position: absolute;width: 1px;}#sk-container-id-5 div.sk-estimator {font-family: monospace;background-color: #f0f8ff;border: 1px dotted black;border-radius: 0.25em;box-sizing: border-box;margin-bottom: 0.5em;}#sk-container-id-5 div.sk-estimator:hover {background-color: #d4ebff;}#sk-container-id-5 div.sk-parallel-item::after {content: \"\";width: 100%;border-bottom: 1px solid gray;flex-grow: 1;}#sk-container-id-5 div.sk-label:hover label.sk-toggleable__label {background-color: #d4ebff;}#sk-container-id-5 div.sk-serial::before {content: \"\";position: absolute;border-left: 1px solid gray;box-sizing: border-box;top: 0;bottom: 0;left: 50%;z-index: 0;}#sk-container-id-5 div.sk-serial {display: flex;flex-direction: column;align-items: center;background-color: white;padding-right: 0.2em;padding-left: 0.2em;position: relative;}#sk-container-id-5 div.sk-item {position: relative;z-index: 1;}#sk-container-id-5 div.sk-parallel {display: flex;align-items: stretch;justify-content: center;background-color: white;position: relative;}#sk-container-id-5 div.sk-item::before, #sk-container-id-5 div.sk-parallel-item::before {content: \"\";position: absolute;border-left: 1px solid gray;box-sizing: border-box;top: 0;bottom: 0;left: 50%;z-index: -1;}#sk-container-id-5 div.sk-parallel-item {display: flex;flex-direction: column;z-index: 1;position: relative;background-color: white;}#sk-container-id-5 div.sk-parallel-item:first-child::after {align-self: flex-end;width: 50%;}#sk-container-id-5 div.sk-parallel-item:last-child::after {align-self: flex-start;width: 50%;}#sk-container-id-5 div.sk-parallel-item:only-child::after {width: 0;}#sk-container-id-5 div.sk-dashed-wrapped {border: 1px dashed gray;margin: 0 0.4em 0.5em 0.4em;box-sizing: border-box;padding-bottom: 0.4em;background-color: white;}#sk-container-id-5 div.sk-label label {font-family: monospace;font-weight: bold;display: inline-block;line-height: 1.2em;}#sk-container-id-5 div.sk-label-container {text-align: center;}#sk-container-id-5 div.sk-container {/* jupyter's `normalize.less` sets `[hidden] { display: none; }` but bootstrap.min.css set `[hidden] { display: none !important; }` so we also need the `!important` here to be able to override the default hidden behavior on the sphinx rendered scikit-learn.org. See: https://github.com/scikit-learn/scikit-learn/issues/21755 */display: inline-block !important;position: relative;}#sk-container-id-5 div.sk-text-repr-fallback {display: none;}</style><div id=\"sk-container-id-5\" class=\"sk-top-container\"><div class=\"sk-text-repr-fallback\"><pre>SVC()</pre><b>In a Jupyter environment, please rerun this cell to show the HTML representation or trust the notebook. <br />On GitHub, the HTML representation is unable to render, please try loading this page with nbviewer.org.</b></div><div class=\"sk-container\" hidden><div class=\"sk-item\"><div class=\"sk-estimator sk-toggleable\"><input class=\"sk-toggleable__control sk-hidden--visually\" id=\"sk-estimator-id-9\" type=\"checkbox\" checked><label for=\"sk-estimator-id-9\" class=\"sk-toggleable__label sk-toggleable__label-arrow\">SVC</label><div class=\"sk-toggleable__content\"><pre>SVC()</pre></div></div></div></div></div>"
            ]
          },
          "metadata": {},
          "execution_count": 71
        }
      ]
    },
    {
      "cell_type": "code",
      "source": [
        "#Calculating predictions, and accuracy score\n",
        "pred_svc = model_svc.predict(X_eval)\n",
        "svm = accuracy_score(y_eval,pred_svc)\n",
        "svm"
      ],
      "metadata": {
        "id": "5RcBNTfEznPc",
        "colab": {
          "base_uri": "https://localhost:8080/"
        },
        "outputId": "c0606a00-d45d-4c2e-89d9-aaa43aa61224"
      },
      "execution_count": 72,
      "outputs": [
        {
          "output_type": "execute_result",
          "data": {
            "text/plain": [
              "0.7730446927374302"
            ]
          },
          "metadata": {},
          "execution_count": 72
        }
      ]
    },
    {
      "cell_type": "code",
      "source": [
        "#Building classification report\n",
        "print(classification_report(y_eval,pred_svc))"
      ],
      "metadata": {
        "id": "ykVPy4GQz3lK",
        "colab": {
          "base_uri": "https://localhost:8080/"
        },
        "outputId": "e66bdcde-e53a-4e71-c9ea-86451b4d6e56"
      },
      "execution_count": 73,
      "outputs": [
        {
          "output_type": "stream",
          "name": "stdout",
          "text": [
            "              precision    recall  f1-score   support\n",
            "\n",
            "           0       0.78      0.98      0.87      1098\n",
            "           1       0.58      0.10      0.16       334\n",
            "\n",
            "    accuracy                           0.77      1432\n",
            "   macro avg       0.68      0.54      0.52      1432\n",
            "weighted avg       0.73      0.77      0.70      1432\n",
            "\n"
          ]
        }
      ]
    },
    {
      "cell_type": "code",
      "source": [
        "from sklearn.metrics import confusion_matrix\n",
        "# Evaluating the model's performance using a confusion matrix\n",
        "\n",
        "cm = confusion_matrix(y_eval, pred_svc)\n",
        "cm"
      ],
      "metadata": {
        "id": "JSirFTjc0hhG",
        "colab": {
          "base_uri": "https://localhost:8080/"
        },
        "outputId": "be7a1fac-e23c-43a3-a0b5-fd1aa8957a50"
      },
      "execution_count": 74,
      "outputs": [
        {
          "output_type": "execute_result",
          "data": {
            "text/plain": [
              "array([[1075,   23],\n",
              "       [ 302,   32]])"
            ]
          },
          "metadata": {},
          "execution_count": 74
        }
      ]
    },
    {
      "cell_type": "code",
      "source": [
        "# calculating the Naive Bayes AUC\n",
        "pred = model.predict(X)\n",
        "fpr_lr, tpr_lr, thresholds_lr = roc_curve(y,pred )\n",
        "auc_lr = roc_auc_score(y, pred)\n",
        "print('AUC:',auc_lr )"
      ],
      "metadata": {
        "colab": {
          "base_uri": "https://localhost:8080/"
        },
        "id": "nocHEEC2OQfI",
        "outputId": "eed10f17-683f-4365-8b8e-8e80a427ee6b"
      },
      "execution_count": 75,
      "outputs": [
        {
          "output_type": "stream",
          "name": "stdout",
          "text": [
            "AUC: 0.714223924645085\n"
          ]
        }
      ]
    },
    {
      "cell_type": "code",
      "source": [
        "# calculating the SVM AUC\n",
        "pred_svc = model_svc.predict(X_eval)\n",
        "fpr_svm, tpr_svm, thresholds_svm = roc_curve(y_eval,pred_svc )\n",
        "auc_svm = roc_auc_score(y_eval, pred_svc)\n",
        "print('AUC:',auc_svm)"
      ],
      "metadata": {
        "id": "zCQ50Wud1RU8",
        "colab": {
          "base_uri": "https://localhost:8080/"
        },
        "outputId": "70516341-852d-4244-86b9-a3f987c2e9c7"
      },
      "execution_count": 76,
      "outputs": [
        {
          "output_type": "stream",
          "name": "stdout",
          "text": [
            "AUC: 0.5374306032743257\n"
          ]
        }
      ]
    },
    {
      "cell_type": "markdown",
      "source": [
        "**Visualizing the ROC/AUC for the models**"
      ],
      "metadata": {
        "id": "QI6LjNLR4NPS"
      }
    },
    {
      "cell_type": "code",
      "source": [
        "from sklearn.metrics import roc_curve, roc_auc_score\n",
        "import matplotlib.pyplot as plt\n",
        "# Calculate ROC curves and AUCs for the models\n",
        "\n",
        "fpr_knn, tpr_knn, thresholds_knn = roc_curve(y_eval, y_pred_)\n",
        "auc_knn = roc_auc_score(y_eval, y_pred_)\n",
        "\n",
        "fpr_nb, tpr_nb, thresholds_nb = roc_curve(y_eval, y_predictnb_proba)\n",
        "auc_nb = roc_auc_score(y_eval, y_predictnb_proba)\n",
        "\n",
        "fpr_svm, tpr_svm, thresholds_svm = roc_curve(y_eval,pred_svc )\n",
        "auc_svm = roc_auc_score(y_eval, pred_svc)\n",
        "\n",
        "# Plot ROC curves\n",
        "plt.figure(figsize=(6, 6))\n",
        "\n",
        "# Plot k-NN ROC curve\n",
        "plt.plot(fpr_knn, tpr_knn, color='darkorange', lw=2, label='k-NN ROC curve (AUC = {:.2f})'.format(auc_knn))\n",
        "\n",
        "# Plot Naive Bayes ROC curve\n",
        "plt.plot(fpr_nb, tpr_nb, color='blue', lw=2, label='Naive Bayes ROC curve (AUC = {:.2f})'.format(auc_nb))\n",
        "\n",
        "#Plot SVM ROC curve\n",
        "plt.plot(fpr_svm, tpr_svm, color='darkgreen', lw=2, label= 'svm ROC curve (AUC = {:.2f})'.format(auc_svm))\n",
        "\n",
        "#Plot Linear Regression ROC curve\n",
        "plt.plot(fpr_lr, tpr_lr, color='red', lw=2, label= 'Linear Rgression ROC curve (AUC = {:.2f})'.format(auc_lr))\n",
        "\n",
        "plt.plot([0, 1], [0, 1], color='navy', lw=2, linestyle='--')  # Plot the random classifier line\n",
        "plt.xlabel('False Positive Rate')\n",
        "plt.ylabel('True Positive Rate')\n",
        "plt.title('Receiver Operating Characteristic (ROC) Curve for the different models')\n",
        "plt.legend(loc='lower right')\n",
        "plt.show()"
      ],
      "metadata": {
        "id": "bAGfT-hxjQAL",
        "colab": {
          "base_uri": "https://localhost:8080/",
          "height": 564
        },
        "outputId": "6c460c67-eb61-42bb-f994-1d8c140080e7"
      },
      "execution_count": 77,
      "outputs": [
        {
          "output_type": "display_data",
          "data": {
            "text/plain": [
              "<Figure size 600x600 with 1 Axes>"
            ],
            "image/png": "[encoded data removed]"
          },
          "metadata": {}
        }
      ]
    },
    {
      "cell_type": "markdown",
      "source": [
        "From the above graph, The linear regression model appears to have a better ability to distinguish between cases compared to the SVM model, but it may still benefit from improvement."
      ],
      "metadata": {
        "id": "KQvHrKP2U22n"
      }
    },
    {
      "cell_type": "markdown",
      "source": [
        "**Handling the Test dataset**"
      ],
      "metadata": {
        "id": "Ef3kD9aQ6XE9"
      }
    },
    {
      "cell_type": "code",
      "execution_count": 78,
      "metadata": {
        "id": "tONkFHBAwhHd"
      },
      "outputs": [],
      "source": [
        "#loading the test dataset\n",
        "df2 = pd.read_csv('/content/drive/MyDrive/dataset/test_data.csv')"
      ]
    },
    {
      "cell_type": "code",
      "execution_count": 80,
      "metadata": {
        "id": "-rtGke7wwhKK",
        "colab": {
          "base_uri": "https://localhost:8080/"
        },
        "outputId": "17095b92-ba6d-4bf0-d917-a65125ca4cd2"
      },
      "outputs": [
        {
          "output_type": "execute_result",
          "data": {
            "text/plain": [
              "Index(['Customer Id', 'YearOfObservation', 'Insured_Period', 'Residential',\n",
              "       'Building_Painted', 'Building_Fenced', 'Garden', 'Settlement',\n",
              "       'Building Dimension', 'Building_Type', 'Date_of_Occupancy',\n",
              "       'NumberOfWindows', 'Geo_Code'],\n",
              "      dtype='object')"
            ]
          },
          "metadata": {},
          "execution_count": 80
        }
      ],
      "source": [
        "#displaying the columns in the dataset\n",
        "df2.columns"
      ]
    },
    {
      "cell_type": "code",
      "execution_count": 81,
      "metadata": {
        "id": "REvo4qVmwhNu",
        "colab": {
          "base_uri": "https://localhost:8080/",
          "height": 243
        },
        "outputId": "619d7a3d-c4d5-46f2-db28-0ca3c4225c66"
      },
      "outputs": [
        {
          "output_type": "execute_result",
          "data": {
            "text/plain": [
              "  Customer Id  YearOfObservation  Insured_Period  Residential  \\\n",
              "0      H11920               2013        1.000000            0   \n",
              "1      H11921               2016        0.997268            0   \n",
              "2       H9805               2013        0.369863            0   \n",
              "3       H7493               2014        1.000000            0   \n",
              "4       H7494               2016        1.000000            0   \n",
              "\n",
              "  Building_Painted Building_Fenced Garden Settlement  Building Dimension  \\\n",
              "0                V               N      O          R               300.0   \n",
              "1                V               N      O          R               300.0   \n",
              "2                V               V      V          U               790.0   \n",
              "3                V               N      O          R              1405.0   \n",
              "4                V               N      O          R              1405.0   \n",
              "\n",
              "   Building_Type  Date_of_Occupancy NumberOfWindows Geo_Code  \n",
              "0              1             1960.0               3     3310  \n",
              "1              1             1960.0               3     3310  \n",
              "2              1             1960.0               .     3310  \n",
              "3              1             2004.0               3     3321  \n",
              "4              1             2004.0               3     3321  "
            ],
            "text/html": [
              "\n",
              "  <div id=\"df-c4881a69-bbc1-4ea5-953e-244d53e8546a\" class=\"colab-df-container\">\n",
              "    <div>\n",
              "<style scoped>\n",
              "    .dataframe tbody tr th:only-of-type {\n",
              "        vertical-align: middle;\n",
              "    }\n",
              "\n",
              "    .dataframe tbody tr th {\n",
              "        vertical-align: top;\n",
              "    }\n",
              "\n",
              "    .dataframe thead th {\n",
              "        text-align: right;\n",
              "    }\n",
              "</style>\n",
              "<table border=\"1\" class=\"dataframe\">\n",
              "  <thead>\n",
              "    <tr style=\"text-align: right;\">\n",
              "      <th></th>\n",
              "      <th>Customer Id</th>\n",
              "      <th>YearOfObservation</th>\n",
              "      <th>Insured_Period</th>\n",
              "      <th>Residential</th>\n",
              "      <th>Building_Painted</th>\n",
              "      <th>Building_Fenced</th>\n",
              "      <th>Garden</th>\n",
              "      <th>Settlement</th>\n",
              "      <th>Building Dimension</th>\n",
              "      <th>Building_Type</th>\n",
              "      <th>Date_of_Occupancy</th>\n",
              "      <th>NumberOfWindows</th>\n",
              "      <th>Geo_Code</th>\n",
              "    </tr>\n",
              "  </thead>\n",
              "  <tbody>\n",
              "    <tr>\n",
              "      <th>0</th>\n",
              "      <td>H11920</td>\n",
              "      <td>2013</td>\n",
              "      <td>1.000000</td>\n",
              "      <td>0</td>\n",
              "      <td>V</td>\n",
              "      <td>N</td>\n",
              "      <td>O</td>\n",
              "      <td>R</td>\n",
              "      <td>300.0</td>\n",
              "      <td>1</td>\n",
              "      <td>1960.0</td>\n",
              "      <td>3</td>\n",
              "      <td>3310</td>\n",
              "    </tr>\n",
              "    <tr>\n",
              "      <th>1</th>\n",
              "      <td>H11921</td>\n",
              "      <td>2016</td>\n",
              "      <td>0.997268</td>\n",
              "      <td>0</td>\n",
              "      <td>V</td>\n",
              "      <td>N</td>\n",
              "      <td>O</td>\n",
              "      <td>R</td>\n",
              "      <td>300.0</td>\n",
              "      <td>1</td>\n",
              "      <td>1960.0</td>\n",
              "      <td>3</td>\n",
              "      <td>3310</td>\n",
              "    </tr>\n",
              "    <tr>\n",
              "      <th>2</th>\n",
              "      <td>H9805</td>\n",
              "      <td>2013</td>\n",
              "      <td>0.369863</td>\n",
              "      <td>0</td>\n",
              "      <td>V</td>\n",
              "      <td>V</td>\n",
              "      <td>V</td>\n",
              "      <td>U</td>\n",
              "      <td>790.0</td>\n",
              "      <td>1</td>\n",
              "      <td>1960.0</td>\n",
              "      <td>.</td>\n",
              "      <td>3310</td>\n",
              "    </tr>\n",
              "    <tr>\n",
              "      <th>3</th>\n",
              "      <td>H7493</td>\n",
              "      <td>2014</td>\n",
              "      <td>1.000000</td>\n",
              "      <td>0</td>\n",
              "      <td>V</td>\n",
              "      <td>N</td>\n",
              "      <td>O</td>\n",
              "      <td>R</td>\n",
              "      <td>1405.0</td>\n",
              "      <td>1</td>\n",
              "      <td>2004.0</td>\n",
              "      <td>3</td>\n",
              "      <td>3321</td>\n",
              "    </tr>\n",
              "    <tr>\n",
              "      <th>4</th>\n",
              "      <td>H7494</td>\n",
              "      <td>2016</td>\n",
              "      <td>1.000000</td>\n",
              "      <td>0</td>\n",
              "      <td>V</td>\n",
              "      <td>N</td>\n",
              "      <td>O</td>\n",
              "      <td>R</td>\n",
              "      <td>1405.0</td>\n",
              "      <td>1</td>\n",
              "      <td>2004.0</td>\n",
              "      <td>3</td>\n",
              "      <td>3321</td>\n",
              "    </tr>\n",
              "  </tbody>\n",
              "</table>\n",
              "</div>\n",
              "    <div class=\"colab-df-buttons\">\n",
              "\n",
              "  <div class=\"colab-df-container\">\n",
              "    <button class=\"colab-df-convert\" onclick=\"convertToInteractive('df-c4881a69-bbc1-4ea5-953e-244d53e8546a')\"\n",
              "            title=\"Convert this dataframe to an interactive table.\"\n",
              "            style=\"display:none;\">\n",
              "\n",
              "  <svg xmlns=\"http://www.w3.org/2000/svg\" height=\"24px\" viewBox=\"0 -960 960 960\">\n",
              "    <path d=\"M120-120v-720h720v720H120Zm60-500h600v-160H180v160Zm220 220h160v-160H400v160Zm0 220h160v-160H400v160ZM180-400h160v-160H180v160Zm440 0h160v-160H620v160ZM180-180h160v-160H180v160Zm440 0h160v-160H620v160Z\"/>\n",
              "  </svg>\n",
              "    </button>\n",
              "\n",
              "  <style>\n",
              "    .colab-df-container {\n",
              "      display:flex;\n",
              "      gap: 12px;\n",
              "    }\n",
              "\n",
              "    .colab-df-convert {\n",
              "      background-color: #E8F0FE;\n",
              "      border: none;\n",
              "      border-radius: 50%;\n",
              "      cursor: pointer;\n",
              "      display: none;\n",
              "      fill: #1967D2;\n",
              "      height: 32px;\n",
              "      padding: 0 0 0 0;\n",
              "      width: 32px;\n",
              "    }\n",
              "\n",
              "    .colab-df-convert:hover {\n",
              "      background-color: #E2EBFA;\n",
              "      box-shadow: 0px 1px 2px rgba(60, 64, 67, 0.3), 0px 1px 3px 1px rgba(60, 64, 67, 0.15);\n",
              "      fill: #174EA6;\n",
              "    }\n",
              "\n",
              "    .colab-df-buttons div {\n",
              "      margin-bottom: 4px;\n",
              "    }\n",
              "\n",
              "    [theme=dark] .colab-df-convert {\n",
              "      background-color: #3B4455;\n",
              "      fill: #D2E3FC;\n",
              "    }\n",
              "\n",
              "    [theme=dark] .colab-df-convert:hover {\n",
              "      background-color: #434B5C;\n",
              "      box-shadow: 0px 1px 3px 1px rgba(0, 0, 0, 0.15);\n",
              "      filter: drop-shadow(0px 1px 2px rgba(0, 0, 0, 0.3));\n",
              "      fill: #FFFFFF;\n",
              "    }\n",
              "  </style>\n",
              "\n",
              "    <script>\n",
              "      const buttonEl =\n",
              "        document.querySelector('#df-c4881a69-bbc1-4ea5-953e-244d53e8546a button.colab-df-convert');\n",
              "      buttonEl.style.display =\n",
              "        google.colab.kernel.accessAllowed ? 'block' : 'none';\n",
              "\n",
              "      async function convertToInteractive(key) {\n",
              "        const element = document.querySelector('#df-c4881a69-bbc1-4ea5-953e-244d53e8546a');\n",
              "        const dataTable =\n",
              "          await google.colab.kernel.invokeFunction('convertToInteractive',\n",
              "                                                    [key], {});\n",
              "        if (!dataTable) return;\n",
              "\n",
              "        const docLinkHtml = 'Like what you see? Visit the ' +\n",
              "          '<a target=\"_blank\" href=https://colab.research.google.com/notebooks/data_table.ipynb>data table notebook</a>'\n",
              "          + ' to learn more about interactive tables.';\n",
              "        element.innerHTML = '';\n",
              "        dataTable['output_type'] = 'display_data';\n",
              "        await google.colab.output.renderOutput(dataTable, element);\n",
              "        const docLink = document.createElement('div');\n",
              "        docLink.innerHTML = docLinkHtml;\n",
              "        element.appendChild(docLink);\n",
              "      }\n",
              "    </script>\n",
              "  </div>\n",
              "\n",
              "\n",
              "<div id=\"df-5394b584-3c5c-4686-9674-909a5e207414\">\n",
              "  <button class=\"colab-df-quickchart\" onclick=\"quickchart('df-5394b584-3c5c-4686-9674-909a5e207414')\"\n",
              "            title=\"Suggest charts\"\n",
              "            style=\"display:none;\">\n",
              "\n",
              "<svg xmlns=\"http://www.w3.org/2000/svg\" height=\"24px\"viewBox=\"0 0 24 24\"\n",
              "     width=\"24px\">\n",
              "    <g>\n",
              "        <path d=\"M19 3H5c-1.1 0-2 .9-2 2v14c0 1.1.9 2 2 2h14c1.1 0 2-.9 2-2V5c0-1.1-.9-2-2-2zM9 17H7v-7h2v7zm4 0h-2V7h2v10zm4 0h-2v-4h2v4z\"/>\n",
              "    </g>\n",
              "</svg>\n",
              "  </button>\n",
              "\n",
              "<style>\n",
              "  .colab-df-quickchart {\n",
              "      --bg-color: #E8F0FE;\n",
              "      --fill-color: #1967D2;\n",
              "      --hover-bg-color: #E2EBFA;\n",
              "      --hover-fill-color: #174EA6;\n",
              "      --disabled-fill-color: #AAA;\n",
              "      --disabled-bg-color: #DDD;\n",
              "  }\n",
              "\n",
              "  [theme=dark] .colab-df-quickchart {\n",
              "      --bg-color: #3B4455;\n",
              "      --fill-color: #D2E3FC;\n",
              "      --hover-bg-color: #434B5C;\n",
              "      --hover-fill-color: #FFFFFF;\n",
              "      --disabled-bg-color: #3B4455;\n",
              "      --disabled-fill-color: #666;\n",
              "  }\n",
              "\n",
              "  .colab-df-quickchart {\n",
              "    background-color: var(--bg-color);\n",
              "    border: none;\n",
              "    border-radius: 50%;\n",
              "    cursor: pointer;\n",
              "    display: none;\n",
              "    fill: var(--fill-color);\n",
              "    height: 32px;\n",
              "    padding: 0;\n",
              "    width: 32px;\n",
              "  }\n",
              "\n",
              "  .colab-df-quickchart:hover {\n",
              "    background-color: var(--hover-bg-color);\n",
              "    box-shadow: 0 1px 2px rgba(60, 64, 67, 0.3), 0 1px 3px 1px rgba(60, 64, 67, 0.15);\n",
              "    fill: var(--button-hover-fill-color);\n",
              "  }\n",
              "\n",
              "  .colab-df-quickchart-complete:disabled,\n",
              "  .colab-df-quickchart-complete:disabled:hover {\n",
              "    background-color: var(--disabled-bg-color);\n",
              "    fill: var(--disabled-fill-color);\n",
              "    box-shadow: none;\n",
              "  }\n",
              "\n",
              "  .colab-df-spinner {\n",
              "    border: 2px solid var(--fill-color);\n",
              "    border-color: transparent;\n",
              "    border-bottom-color: var(--fill-color);\n",
              "    animation:\n",
              "      spin 1s steps(1) infinite;\n",
              "  }\n",
              "\n",
              "  @keyframes spin {\n",
              "    0% {\n",
              "      border-color: transparent;\n",
              "      border-bottom-color: var(--fill-color);\n",
              "      border-left-color: var(--fill-color);\n",
              "    }\n",
              "    20% {\n",
              "      border-color: transparent;\n",
              "      border-left-color: var(--fill-color);\n",
              "      border-top-color: var(--fill-color);\n",
              "    }\n",
              "    30% {\n",
              "      border-color: transparent;\n",
              "      border-left-color: var(--fill-color);\n",
              "      border-top-color: var(--fill-color);\n",
              "      border-right-color: var(--fill-color);\n",
              "    }\n",
              "    40% {\n",
              "      border-color: transparent;\n",
              "      border-right-color: var(--fill-color);\n",
              "      border-top-color: var(--fill-color);\n",
              "    }\n",
              "    60% {\n",
              "      border-color: transparent;\n",
              "      border-right-color: var(--fill-color);\n",
              "    }\n",
              "    80% {\n",
              "      border-color: transparent;\n",
              "      border-right-color: var(--fill-color);\n",
              "      border-bottom-color: var(--fill-color);\n",
              "    }\n",
              "    90% {\n",
              "      border-color: transparent;\n",
              "      border-bottom-color: var(--fill-color);\n",
              "    }\n",
              "  }\n",
              "</style>\n",
              "\n",
              "  <script>\n",
              "    async function quickchart(key) {\n",
              "      const quickchartButtonEl =\n",
              "        document.querySelector('#' + key + ' button');\n",
              "      quickchartButtonEl.disabled = true;  // To prevent multiple clicks.\n",
              "      quickchartButtonEl.classList.add('colab-df-spinner');\n",
              "      try {\n",
              "        const charts = await google.colab.kernel.invokeFunction(\n",
              "            'suggestCharts', [key], {});\n",
              "      } catch (error) {\n",
              "        console.error('Error during call to suggestCharts:', error);\n",
              "      }\n",
              "      quickchartButtonEl.classList.remove('colab-df-spinner');\n",
              "      quickchartButtonEl.classList.add('colab-df-quickchart-complete');\n",
              "    }\n",
              "    (() => {\n",
              "      let quickchartButtonEl =\n",
              "        document.querySelector('#df-5394b584-3c5c-4686-9674-909a5e207414 button');\n",
              "      quickchartButtonEl.style.display =\n",
              "        google.colab.kernel.accessAllowed ? 'block' : 'none';\n",
              "    })();\n",
              "  </script>\n",
              "</div>\n",
              "    </div>\n",
              "  </div>\n"
            ]
          },
          "metadata": {},
          "execution_count": 81
        }
      ],
      "source": [
        "#displaying the first five rows\n",
        "df2.head()"
      ]
    },
    {
      "cell_type": "code",
      "execution_count": 82,
      "metadata": {
        "id": "8udg5kgACqeS",
        "colab": {
          "base_uri": "https://localhost:8080/"
        },
        "outputId": "5278b959-5a44-44d8-f471-e2c7ef15254e"
      },
      "outputs": [
        {
          "output_type": "execute_result",
          "data": {
            "text/plain": [
              "(3069, 13)"
            ]
          },
          "metadata": {},
          "execution_count": 82
        }
      ],
      "source": [
        "#determining the dimension of the dataset\n",
        "df2.shape"
      ]
    },
    {
      "cell_type": "markdown",
      "metadata": {
        "id": "42SPLgx5Drfn"
      },
      "source": [
        "This shows that the test dataset has 3069 rows and 13 columns"
      ]
    },
    {
      "cell_type": "code",
      "execution_count": 83,
      "metadata": {
        "id": "2TsHrYUiCqgk",
        "colab": {
          "base_uri": "https://localhost:8080/"
        },
        "outputId": "bd618d0b-9068-4d13-f280-91ed6fbf199c"
      },
      "outputs": [
        {
          "output_type": "stream",
          "name": "stdout",
          "text": [
            "<class 'pandas.core.frame.DataFrame'>\n",
            "RangeIndex: 3069 entries, 0 to 3068\n",
            "Data columns (total 13 columns):\n",
            " #   Column              Non-Null Count  Dtype  \n",
            "---  ------              --------------  -----  \n",
            " 0   Customer Id         3069 non-null   object \n",
            " 1   YearOfObservation   3069 non-null   int64  \n",
            " 2   Insured_Period      3069 non-null   float64\n",
            " 3   Residential         3069 non-null   int64  \n",
            " 4   Building_Painted    3069 non-null   object \n",
            " 5   Building_Fenced     3069 non-null   object \n",
            " 6   Garden              3065 non-null   object \n",
            " 7   Settlement          3069 non-null   object \n",
            " 8   Building Dimension  3056 non-null   float64\n",
            " 9   Building_Type       3069 non-null   int64  \n",
            " 10  Date_of_Occupancy   2341 non-null   float64\n",
            " 11  NumberOfWindows     3069 non-null   object \n",
            " 12  Geo_Code            3056 non-null   object \n",
            "dtypes: float64(3), int64(3), object(7)\n",
            "memory usage: 311.8+ KB\n"
          ]
        }
      ],
      "source": [
        "df2.info()"
      ]
    },
    {
      "cell_type": "markdown",
      "metadata": {
        "id": "hyWGwOgzEVJz"
      },
      "source": [
        "This shows that out of the 13 columns, 3 columns have float datatype, 3 hae integer datatype and 7 columns have a string datatype."
      ]
    },
    {
      "cell_type": "code",
      "execution_count": 84,
      "metadata": {
        "id": "vqvrzIn8Cqjb",
        "colab": {
          "base_uri": "https://localhost:8080/",
          "height": 317
        },
        "outputId": "0f112a5e-61fe-42ab-f5a4-c96f9a07e8b0"
      },
      "outputs": [
        {
          "output_type": "execute_result",
          "data": {
            "text/plain": [
              "       YearOfObservation  Insured_Period  Residential  Building Dimension  \\\n",
              "count        3069.000000     3069.000000  3069.000000         3056.000000   \n",
              "mean         2013.593679        0.922806     0.224177         1666.790576   \n",
              "std             1.372138        0.219066     0.417107         2251.180599   \n",
              "min          2012.000000        0.000000     0.000000            1.000000   \n",
              "25%          2012.000000        1.000000     0.000000          470.000000   \n",
              "50%          2013.000000        1.000000     0.000000          900.000000   \n",
              "75%          2015.000000        1.000000     0.000000         1957.000000   \n",
              "max          2016.000000        1.000000     1.000000        30745.000000   \n",
              "\n",
              "       Building_Type  Date_of_Occupancy  \n",
              "count    3069.000000        2341.000000  \n",
              "mean        2.359400        1966.781717  \n",
              "std         0.998464          25.238702  \n",
              "min         1.000000        1750.000000  \n",
              "25%         2.000000        1960.000000  \n",
              "50%         2.000000        1968.000000  \n",
              "75%         3.000000        1980.000000  \n",
              "max         4.000000        2012.000000  "
            ],
            "text/html": [
              "\n",
              "  <div id=\"df-c7851cea-d251-4bdc-988d-3bf816e75598\" class=\"colab-df-container\">\n",
              "    <div>\n",
              "<style scoped>\n",
              "    .dataframe tbody tr th:only-of-type {\n",
              "        vertical-align: middle;\n",
              "    }\n",
              "\n",
              "    .dataframe tbody tr th {\n",
              "        vertical-align: top;\n",
              "    }\n",
              "\n",
              "    .dataframe thead th {\n",
              "        text-align: right;\n",
              "    }\n",
              "</style>\n",
              "<table border=\"1\" class=\"dataframe\">\n",
              "  <thead>\n",
              "    <tr style=\"text-align: right;\">\n",
              "      <th></th>\n",
              "      <th>YearOfObservation</th>\n",
              "      <th>Insured_Period</th>\n",
              "      <th>Residential</th>\n",
              "      <th>Building Dimension</th>\n",
              "      <th>Building_Type</th>\n",
              "      <th>Date_of_Occupancy</th>\n",
              "    </tr>\n",
              "  </thead>\n",
              "  <tbody>\n",
              "    <tr>\n",
              "      <th>count</th>\n",
              "      <td>3069.000000</td>\n",
              "      <td>3069.000000</td>\n",
              "      <td>3069.000000</td>\n",
              "      <td>3056.000000</td>\n",
              "      <td>3069.000000</td>\n",
              "      <td>2341.000000</td>\n",
              "    </tr>\n",
              "    <tr>\n",
              "      <th>mean</th>\n",
              "      <td>2013.593679</td>\n",
              "      <td>0.922806</td>\n",
              "      <td>0.224177</td>\n",
              "      <td>1666.790576</td>\n",
              "      <td>2.359400</td>\n",
              "      <td>1966.781717</td>\n",
              "    </tr>\n",
              "    <tr>\n",
              "      <th>std</th>\n",
              "      <td>1.372138</td>\n",
              "      <td>0.219066</td>\n",
              "      <td>0.417107</td>\n",
              "      <td>2251.180599</td>\n",
              "      <td>0.998464</td>\n",
              "      <td>25.238702</td>\n",
              "    </tr>\n",
              "    <tr>\n",
              "      <th>min</th>\n",
              "      <td>2012.000000</td>\n",
              "      <td>0.000000</td>\n",
              "      <td>0.000000</td>\n",
              "      <td>1.000000</td>\n",
              "      <td>1.000000</td>\n",
              "      <td>1750.000000</td>\n",
              "    </tr>\n",
              "    <tr>\n",
              "      <th>25%</th>\n",
              "      <td>2012.000000</td>\n",
              "      <td>1.000000</td>\n",
              "      <td>0.000000</td>\n",
              "      <td>470.000000</td>\n",
              "      <td>2.000000</td>\n",
              "      <td>1960.000000</td>\n",
              "    </tr>\n",
              "    <tr>\n",
              "      <th>50%</th>\n",
              "      <td>2013.000000</td>\n",
              "      <td>1.000000</td>\n",
              "      <td>0.000000</td>\n",
              "      <td>900.000000</td>\n",
              "      <td>2.000000</td>\n",
              "      <td>1968.000000</td>\n",
              "    </tr>\n",
              "    <tr>\n",
              "      <th>75%</th>\n",
              "      <td>2015.000000</td>\n",
              "      <td>1.000000</td>\n",
              "      <td>0.000000</td>\n",
              "      <td>1957.000000</td>\n",
              "      <td>3.000000</td>\n",
              "      <td>1980.000000</td>\n",
              "    </tr>\n",
              "    <tr>\n",
              "      <th>max</th>\n",
              "      <td>2016.000000</td>\n",
              "      <td>1.000000</td>\n",
              "      <td>1.000000</td>\n",
              "      <td>30745.000000</td>\n",
              "      <td>4.000000</td>\n",
              "      <td>2012.000000</td>\n",
              "    </tr>\n",
              "  </tbody>\n",
              "</table>\n",
              "</div>\n",
              "    <div class=\"colab-df-buttons\">\n",
              "\n",
              "  <div class=\"colab-df-container\">\n",
              "    <button class=\"colab-df-convert\" onclick=\"convertToInteractive('df-c7851cea-d251-4bdc-988d-3bf816e75598')\"\n",
              "            title=\"Convert this dataframe to an interactive table.\"\n",
              "            style=\"display:none;\">\n",
              "\n",
              "  <svg xmlns=\"http://www.w3.org/2000/svg\" height=\"24px\" viewBox=\"0 -960 960 960\">\n",
              "    <path d=\"M120-120v-720h720v720H120Zm60-500h600v-160H180v160Zm220 220h160v-160H400v160Zm0 220h160v-160H400v160ZM180-400h160v-160H180v160Zm440 0h160v-160H620v160ZM180-180h160v-160H180v160Zm440 0h160v-160H620v160Z\"/>\n",
              "  </svg>\n",
              "    </button>\n",
              "\n",
              "  <style>\n",
              "    .colab-df-container {\n",
              "      display:flex;\n",
              "      gap: 12px;\n",
              "    }\n",
              "\n",
              "    .colab-df-convert {\n",
              "      background-color: #E8F0FE;\n",
              "      border: none;\n",
              "      border-radius: 50%;\n",
              "      cursor: pointer;\n",
              "      display: none;\n",
              "      fill: #1967D2;\n",
              "      height: 32px;\n",
              "      padding: 0 0 0 0;\n",
              "      width: 32px;\n",
              "    }\n",
              "\n",
              "    .colab-df-convert:hover {\n",
              "      background-color: #E2EBFA;\n",
              "      box-shadow: 0px 1px 2px rgba(60, 64, 67, 0.3), 0px 1px 3px 1px rgba(60, 64, 67, 0.15);\n",
              "      fill: #174EA6;\n",
              "    }\n",
              "\n",
              "    .colab-df-buttons div {\n",
              "      margin-bottom: 4px;\n",
              "    }\n",
              "\n",
              "    [theme=dark] .colab-df-convert {\n",
              "      background-color: #3B4455;\n",
              "      fill: #D2E3FC;\n",
              "    }\n",
              "\n",
              "    [theme=dark] .colab-df-convert:hover {\n",
              "      background-color: #434B5C;\n",
              "      box-shadow: 0px 1px 3px 1px rgba(0, 0, 0, 0.15);\n",
              "      filter: drop-shadow(0px 1px 2px rgba(0, 0, 0, 0.3));\n",
              "      fill: #FFFFFF;\n",
              "    }\n",
              "  </style>\n",
              "\n",
              "    <script>\n",
              "      const buttonEl =\n",
              "        document.querySelector('#df-c7851cea-d251-4bdc-988d-3bf816e75598 button.colab-df-convert');\n",
              "      buttonEl.style.display =\n",
              "        google.colab.kernel.accessAllowed ? 'block' : 'none';\n",
              "\n",
              "      async function convertToInteractive(key) {\n",
              "        const element = document.querySelector('#df-c7851cea-d251-4bdc-988d-3bf816e75598');\n",
              "        const dataTable =\n",
              "          await google.colab.kernel.invokeFunction('convertToInteractive',\n",
              "                                                    [key], {});\n",
              "        if (!dataTable) return;\n",
              "\n",
              "        const docLinkHtml = 'Like what you see? Visit the ' +\n",
              "          '<a target=\"_blank\" href=https://colab.research.google.com/notebooks/data_table.ipynb>data table notebook</a>'\n",
              "          + ' to learn more about interactive tables.';\n",
              "        element.innerHTML = '';\n",
              "        dataTable['output_type'] = 'display_data';\n",
              "        await google.colab.output.renderOutput(dataTable, element);\n",
              "        const docLink = document.createElement('div');\n",
              "        docLink.innerHTML = docLinkHtml;\n",
              "        element.appendChild(docLink);\n",
              "      }\n",
              "    </script>\n",
              "  </div>\n",
              "\n",
              "\n",
              "<div id=\"df-b5878bd3-8eb1-47b9-a42e-e207e8a796c3\">\n",
              "  <button class=\"colab-df-quickchart\" onclick=\"quickchart('df-b5878bd3-8eb1-47b9-a42e-e207e8a796c3')\"\n",
              "            title=\"Suggest charts\"\n",
              "            style=\"display:none;\">\n",
              "\n",
              "<svg xmlns=\"http://www.w3.org/2000/svg\" height=\"24px\"viewBox=\"0 0 24 24\"\n",
              "     width=\"24px\">\n",
              "    <g>\n",
              "        <path d=\"M19 3H5c-1.1 0-2 .9-2 2v14c0 1.1.9 2 2 2h14c1.1 0 2-.9 2-2V5c0-1.1-.9-2-2-2zM9 17H7v-7h2v7zm4 0h-2V7h2v10zm4 0h-2v-4h2v4z\"/>\n",
              "    </g>\n",
              "</svg>\n",
              "  </button>\n",
              "\n",
              "<style>\n",
              "  .colab-df-quickchart {\n",
              "      --bg-color: #E8F0FE;\n",
              "      --fill-color: #1967D2;\n",
              "      --hover-bg-color: #E2EBFA;\n",
              "      --hover-fill-color: #174EA6;\n",
              "      --disabled-fill-color: #AAA;\n",
              "      --disabled-bg-color: #DDD;\n",
              "  }\n",
              "\n",
              "  [theme=dark] .colab-df-quickchart {\n",
              "      --bg-color: #3B4455;\n",
              "      --fill-color: #D2E3FC;\n",
              "      --hover-bg-color: #434B5C;\n",
              "      --hover-fill-color: #FFFFFF;\n",
              "      --disabled-bg-color: #3B4455;\n",
              "      --disabled-fill-color: #666;\n",
              "  }\n",
              "\n",
              "  .colab-df-quickchart {\n",
              "    background-color: var(--bg-color);\n",
              "    border: none;\n",
              "    border-radius: 50%;\n",
              "    cursor: pointer;\n",
              "    display: none;\n",
              "    fill: var(--fill-color);\n",
              "    height: 32px;\n",
              "    padding: 0;\n",
              "    width: 32px;\n",
              "  }\n",
              "\n",
              "  .colab-df-quickchart:hover {\n",
              "    background-color: var(--hover-bg-color);\n",
              "    box-shadow: 0 1px 2px rgba(60, 64, 67, 0.3), 0 1px 3px 1px rgba(60, 64, 67, 0.15);\n",
              "    fill: var(--button-hover-fill-color);\n",
              "  }\n",
              "\n",
              "  .colab-df-quickchart-complete:disabled,\n",
              "  .colab-df-quickchart-complete:disabled:hover {\n",
              "    background-color: var(--disabled-bg-color);\n",
              "    fill: var(--disabled-fill-color);\n",
              "    box-shadow: none;\n",
              "  }\n",
              "\n",
              "  .colab-df-spinner {\n",
              "    border: 2px solid var(--fill-color);\n",
              "    border-color: transparent;\n",
              "    border-bottom-color: var(--fill-color);\n",
              "    animation:\n",
              "      spin 1s steps(1) infinite;\n",
              "  }\n",
              "\n",
              "  @keyframes spin {\n",
              "    0% {\n",
              "      border-color: transparent;\n",
              "      border-bottom-color: var(--fill-color);\n",
              "      border-left-color: var(--fill-color);\n",
              "    }\n",
              "    20% {\n",
              "      border-color: transparent;\n",
              "      border-left-color: var(--fill-color);\n",
              "      border-top-color: var(--fill-color);\n",
              "    }\n",
              "    30% {\n",
              "      border-color: transparent;\n",
              "      border-left-color: var(--fill-color);\n",
              "      border-top-color: var(--fill-color);\n",
              "      border-right-color: var(--fill-color);\n",
              "    }\n",
              "    40% {\n",
              "      border-color: transparent;\n",
              "      border-right-color: var(--fill-color);\n",
              "      border-top-color: var(--fill-color);\n",
              "    }\n",
              "    60% {\n",
              "      border-color: transparent;\n",
              "      border-right-color: var(--fill-color);\n",
              "    }\n",
              "    80% {\n",
              "      border-color: transparent;\n",
              "      border-right-color: var(--fill-color);\n",
              "      border-bottom-color: var(--fill-color);\n",
              "    }\n",
              "    90% {\n",
              "      border-color: transparent;\n",
              "      border-bottom-color: var(--fill-color);\n",
              "    }\n",
              "  }\n",
              "</style>\n",
              "\n",
              "  <script>\n",
              "    async function quickchart(key) {\n",
              "      const quickchartButtonEl =\n",
              "        document.querySelector('#' + key + ' button');\n",
              "      quickchartButtonEl.disabled = true;  // To prevent multiple clicks.\n",
              "      quickchartButtonEl.classList.add('colab-df-spinner');\n",
              "      try {\n",
              "        const charts = await google.colab.kernel.invokeFunction(\n",
              "            'suggestCharts', [key], {});\n",
              "      } catch (error) {\n",
              "        console.error('Error during call to suggestCharts:', error);\n",
              "      }\n",
              "      quickchartButtonEl.classList.remove('colab-df-spinner');\n",
              "      quickchartButtonEl.classList.add('colab-df-quickchart-complete');\n",
              "    }\n",
              "    (() => {\n",
              "      let quickchartButtonEl =\n",
              "        document.querySelector('#df-b5878bd3-8eb1-47b9-a42e-e207e8a796c3 button');\n",
              "      quickchartButtonEl.style.display =\n",
              "        google.colab.kernel.accessAllowed ? 'block' : 'none';\n",
              "    })();\n",
              "  </script>\n",
              "</div>\n",
              "    </div>\n",
              "  </div>\n"
            ]
          },
          "metadata": {},
          "execution_count": 84
        }
      ],
      "source": [
        "df2.describe()"
      ]
    },
    {
      "cell_type": "code",
      "execution_count": 85,
      "metadata": {
        "id": "5sXRZkp5CqnK",
        "colab": {
          "base_uri": "https://localhost:8080/",
          "height": 174
        },
        "outputId": "4c1a13ad-f8ab-45ad-aff1-12e91e74953b"
      },
      "outputs": [
        {
          "output_type": "execute_result",
          "data": {
            "text/plain": [
              "       Customer Id Building_Painted Building_Fenced Garden Settlement  \\\n",
              "count         3069             3069            3069   3065       3069   \n",
              "unique        3069                2               2      2          2   \n",
              "top         H11920                V               V      V          U   \n",
              "freq             1             1684            2240   2240       2240   \n",
              "\n",
              "       NumberOfWindows Geo_Code  \n",
              "count             3069     3056  \n",
              "unique              11      697  \n",
              "top                  .     6083  \n",
              "freq              2240      113  "
            ],
            "text/html": [
              "\n",
              "  <div id=\"df-f6af66dd-b46b-4bd9-b2e4-e08d77dd40c3\" class=\"colab-df-container\">\n",
              "    <div>\n",
              "<style scoped>\n",
              "    .dataframe tbody tr th:only-of-type {\n",
              "        vertical-align: middle;\n",
              "    }\n",
              "\n",
              "    .dataframe tbody tr th {\n",
              "        vertical-align: top;\n",
              "    }\n",
              "\n",
              "    .dataframe thead th {\n",
              "        text-align: right;\n",
              "    }\n",
              "</style>\n",
              "<table border=\"1\" class=\"dataframe\">\n",
              "  <thead>\n",
              "    <tr style=\"text-align: right;\">\n",
              "      <th></th>\n",
              "      <th>Customer Id</th>\n",
              "      <th>Building_Painted</th>\n",
              "      <th>Building_Fenced</th>\n",
              "      <th>Garden</th>\n",
              "      <th>Settlement</th>\n",
              "      <th>NumberOfWindows</th>\n",
              "      <th>Geo_Code</th>\n",
              "    </tr>\n",
              "  </thead>\n",
              "  <tbody>\n",
              "    <tr>\n",
              "      <th>count</th>\n",
              "      <td>3069</td>\n",
              "      <td>3069</td>\n",
              "      <td>3069</td>\n",
              "      <td>3065</td>\n",
              "      <td>3069</td>\n",
              "      <td>3069</td>\n",
              "      <td>3056</td>\n",
              "    </tr>\n",
              "    <tr>\n",
              "      <th>unique</th>\n",
              "      <td>3069</td>\n",
              "      <td>2</td>\n",
              "      <td>2</td>\n",
              "      <td>2</td>\n",
              "      <td>2</td>\n",
              "      <td>11</td>\n",
              "      <td>697</td>\n",
              "    </tr>\n",
              "    <tr>\n",
              "      <th>top</th>\n",
              "      <td>H11920</td>\n",
              "      <td>V</td>\n",
              "      <td>V</td>\n",
              "      <td>V</td>\n",
              "      <td>U</td>\n",
              "      <td>.</td>\n",
              "      <td>6083</td>\n",
              "    </tr>\n",
              "    <tr>\n",
              "      <th>freq</th>\n",
              "      <td>1</td>\n",
              "      <td>1684</td>\n",
              "      <td>2240</td>\n",
              "      <td>2240</td>\n",
              "      <td>2240</td>\n",
              "      <td>2240</td>\n",
              "      <td>113</td>\n",
              "    </tr>\n",
              "  </tbody>\n",
              "</table>\n",
              "</div>\n",
              "    <div class=\"colab-df-buttons\">\n",
              "\n",
              "  <div class=\"colab-df-container\">\n",
              "    <button class=\"colab-df-convert\" onclick=\"convertToInteractive('df-f6af66dd-b46b-4bd9-b2e4-e08d77dd40c3')\"\n",
              "            title=\"Convert this dataframe to an interactive table.\"\n",
              "            style=\"display:none;\">\n",
              "\n",
              "  <svg xmlns=\"http://www.w3.org/2000/svg\" height=\"24px\" viewBox=\"0 -960 960 960\">\n",
              "    <path d=\"M120-120v-720h720v720H120Zm60-500h600v-160H180v160Zm220 220h160v-160H400v160Zm0 220h160v-160H400v160ZM180-400h160v-160H180v160Zm440 0h160v-160H620v160ZM180-180h160v-160H180v160Zm440 0h160v-160H620v160Z\"/>\n",
              "  </svg>\n",
              "    </button>\n",
              "\n",
              "  <style>\n",
              "    .colab-df-container {\n",
              "      display:flex;\n",
              "      gap: 12px;\n",
              "    }\n",
              "\n",
              "    .colab-df-convert {\n",
              "      background-color: #E8F0FE;\n",
              "      border: none;\n",
              "      border-radius: 50%;\n",
              "      cursor: pointer;\n",
              "      display: none;\n",
              "      fill: #1967D2;\n",
              "      height: 32px;\n",
              "      padding: 0 0 0 0;\n",
              "      width: 32px;\n",
              "    }\n",
              "\n",
              "    .colab-df-convert:hover {\n",
              "      background-color: #E2EBFA;\n",
              "      box-shadow: 0px 1px 2px rgba(60, 64, 67, 0.3), 0px 1px 3px 1px rgba(60, 64, 67, 0.15);\n",
              "      fill: #174EA6;\n",
              "    }\n",
              "\n",
              "    .colab-df-buttons div {\n",
              "      margin-bottom: 4px;\n",
              "    }\n",
              "\n",
              "    [theme=dark] .colab-df-convert {\n",
              "      background-color: #3B4455;\n",
              "      fill: #D2E3FC;\n",
              "    }\n",
              "\n",
              "    [theme=dark] .colab-df-convert:hover {\n",
              "      background-color: #434B5C;\n",
              "      box-shadow: 0px 1px 3px 1px rgba(0, 0, 0, 0.15);\n",
              "      filter: drop-shadow(0px 1px 2px rgba(0, 0, 0, 0.3));\n",
              "      fill: #FFFFFF;\n",
              "    }\n",
              "  </style>\n",
              "\n",
              "    <script>\n",
              "      const buttonEl =\n",
              "        document.querySelector('#df-f6af66dd-b46b-4bd9-b2e4-e08d77dd40c3 button.colab-df-convert');\n",
              "      buttonEl.style.display =\n",
              "        google.colab.kernel.accessAllowed ? 'block' : 'none';\n",
              "\n",
              "      async function convertToInteractive(key) {\n",
              "        const element = document.querySelector('#df-f6af66dd-b46b-4bd9-b2e4-e08d77dd40c3');\n",
              "        const dataTable =\n",
              "          await google.colab.kernel.invokeFunction('convertToInteractive',\n",
              "                                                    [key], {});\n",
              "        if (!dataTable) return;\n",
              "\n",
              "        const docLinkHtml = 'Like what you see? Visit the ' +\n",
              "          '<a target=\"_blank\" href=https://colab.research.google.com/notebooks/data_table.ipynb>data table notebook</a>'\n",
              "          + ' to learn more about interactive tables.';\n",
              "        element.innerHTML = '';\n",
              "        dataTable['output_type'] = 'display_data';\n",
              "        await google.colab.output.renderOutput(dataTable, element);\n",
              "        const docLink = document.createElement('div');\n",
              "        docLink.innerHTML = docLinkHtml;\n",
              "        element.appendChild(docLink);\n",
              "      }\n",
              "    </script>\n",
              "  </div>\n",
              "\n",
              "\n",
              "<div id=\"df-3ae4db1f-1e59-4ebb-b579-1b3f2b9d9538\">\n",
              "  <button class=\"colab-df-quickchart\" onclick=\"quickchart('df-3ae4db1f-1e59-4ebb-b579-1b3f2b9d9538')\"\n",
              "            title=\"Suggest charts\"\n",
              "            style=\"display:none;\">\n",
              "\n",
              "<svg xmlns=\"http://www.w3.org/2000/svg\" height=\"24px\"viewBox=\"0 0 24 24\"\n",
              "     width=\"24px\">\n",
              "    <g>\n",
              "        <path d=\"M19 3H5c-1.1 0-2 .9-2 2v14c0 1.1.9 2 2 2h14c1.1 0 2-.9 2-2V5c0-1.1-.9-2-2-2zM9 17H7v-7h2v7zm4 0h-2V7h2v10zm4 0h-2v-4h2v4z\"/>\n",
              "    </g>\n",
              "</svg>\n",
              "  </button>\n",
              "\n",
              "<style>\n",
              "  .colab-df-quickchart {\n",
              "      --bg-color: #E8F0FE;\n",
              "      --fill-color: #1967D2;\n",
              "      --hover-bg-color: #E2EBFA;\n",
              "      --hover-fill-color: #174EA6;\n",
              "      --disabled-fill-color: #AAA;\n",
              "      --disabled-bg-color: #DDD;\n",
              "  }\n",
              "\n",
              "  [theme=dark] .colab-df-quickchart {\n",
              "      --bg-color: #3B4455;\n",
              "      --fill-color: #D2E3FC;\n",
              "      --hover-bg-color: #434B5C;\n",
              "      --hover-fill-color: #FFFFFF;\n",
              "      --disabled-bg-color: #3B4455;\n",
              "      --disabled-fill-color: #666;\n",
              "  }\n",
              "\n",
              "  .colab-df-quickchart {\n",
              "    background-color: var(--bg-color);\n",
              "    border: none;\n",
              "    border-radius: 50%;\n",
              "    cursor: pointer;\n",
              "    display: none;\n",
              "    fill: var(--fill-color);\n",
              "    height: 32px;\n",
              "    padding: 0;\n",
              "    width: 32px;\n",
              "  }\n",
              "\n",
              "  .colab-df-quickchart:hover {\n",
              "    background-color: var(--hover-bg-color);\n",
              "    box-shadow: 0 1px 2px rgba(60, 64, 67, 0.3), 0 1px 3px 1px rgba(60, 64, 67, 0.15);\n",
              "    fill: var(--button-hover-fill-color);\n",
              "  }\n",
              "\n",
              "  .colab-df-quickchart-complete:disabled,\n",
              "  .colab-df-quickchart-complete:disabled:hover {\n",
              "    background-color: var(--disabled-bg-color);\n",
              "    fill: var(--disabled-fill-color);\n",
              "    box-shadow: none;\n",
              "  }\n",
              "\n",
              "  .colab-df-spinner {\n",
              "    border: 2px solid var(--fill-color);\n",
              "    border-color: transparent;\n",
              "    border-bottom-color: var(--fill-color);\n",
              "    animation:\n",
              "      spin 1s steps(1) infinite;\n",
              "  }\n",
              "\n",
              "  @keyframes spin {\n",
              "    0% {\n",
              "      border-color: transparent;\n",
              "      border-bottom-color: var(--fill-color);\n",
              "      border-left-color: var(--fill-color);\n",
              "    }\n",
              "    20% {\n",
              "      border-color: transparent;\n",
              "      border-left-color: var(--fill-color);\n",
              "      border-top-color: var(--fill-color);\n",
              "    }\n",
              "    30% {\n",
              "      border-color: transparent;\n",
              "      border-left-color: var(--fill-color);\n",
              "      border-top-color: var(--fill-color);\n",
              "      border-right-color: var(--fill-color);\n",
              "    }\n",
              "    40% {\n",
              "      border-color: transparent;\n",
              "      border-right-color: var(--fill-color);\n",
              "      border-top-color: var(--fill-color);\n",
              "    }\n",
              "    60% {\n",
              "      border-color: transparent;\n",
              "      border-right-color: var(--fill-color);\n",
              "    }\n",
              "    80% {\n",
              "      border-color: transparent;\n",
              "      border-right-color: var(--fill-color);\n",
              "      border-bottom-color: var(--fill-color);\n",
              "    }\n",
              "    90% {\n",
              "      border-color: transparent;\n",
              "      border-bottom-color: var(--fill-color);\n",
              "    }\n",
              "  }\n",
              "</style>\n",
              "\n",
              "  <script>\n",
              "    async function quickchart(key) {\n",
              "      const quickchartButtonEl =\n",
              "        document.querySelector('#' + key + ' button');\n",
              "      quickchartButtonEl.disabled = true;  // To prevent multiple clicks.\n",
              "      quickchartButtonEl.classList.add('colab-df-spinner');\n",
              "      try {\n",
              "        const charts = await google.colab.kernel.invokeFunction(\n",
              "            'suggestCharts', [key], {});\n",
              "      } catch (error) {\n",
              "        console.error('Error during call to suggestCharts:', error);\n",
              "      }\n",
              "      quickchartButtonEl.classList.remove('colab-df-spinner');\n",
              "      quickchartButtonEl.classList.add('colab-df-quickchart-complete');\n",
              "    }\n",
              "    (() => {\n",
              "      let quickchartButtonEl =\n",
              "        document.querySelector('#df-3ae4db1f-1e59-4ebb-b579-1b3f2b9d9538 button');\n",
              "      quickchartButtonEl.style.display =\n",
              "        google.colab.kernel.accessAllowed ? 'block' : 'none';\n",
              "    })();\n",
              "  </script>\n",
              "</div>\n",
              "    </div>\n",
              "  </div>\n"
            ]
          },
          "metadata": {},
          "execution_count": 85
        }
      ],
      "source": [
        "df2.describe(include=object)"
      ]
    },
    {
      "cell_type": "code",
      "execution_count": 86,
      "metadata": {
        "id": "JQ95ZJTQCqqo",
        "colab": {
          "base_uri": "https://localhost:8080/"
        },
        "outputId": "8f59b5a9-64aa-4600-e09b-1a85c29b3e65"
      },
      "outputs": [
        {
          "output_type": "execute_result",
          "data": {
            "text/plain": [
              "Customer Id             0\n",
              "YearOfObservation       0\n",
              "Insured_Period          0\n",
              "Residential             0\n",
              "Building_Painted        0\n",
              "Building_Fenced         0\n",
              "Garden                  4\n",
              "Settlement              0\n",
              "Building Dimension     13\n",
              "Building_Type           0\n",
              "Date_of_Occupancy     728\n",
              "NumberOfWindows         0\n",
              "Geo_Code               13\n",
              "dtype: int64"
            ]
          },
          "metadata": {},
          "execution_count": 86
        }
      ],
      "source": [
        "#checking for missing values in the dataset\n",
        "df2.isna().sum()"
      ]
    },
    {
      "cell_type": "code",
      "execution_count": 87,
      "metadata": {
        "id": "c0SsvCzSF1TF",
        "colab": {
          "base_uri": "https://localhost:8080/"
        },
        "outputId": "3480065c-9333-462a-8cd7-fdd5b4e22ee6"
      },
      "outputs": [
        {
          "output_type": "stream",
          "name": "stdout",
          "text": [
            "<class 'pandas.core.frame.DataFrame'>\n",
            "RangeIndex: 3069 entries, 0 to 3068\n",
            "Data columns (total 13 columns):\n",
            " #   Column              Non-Null Count  Dtype  \n",
            "---  ------              --------------  -----  \n",
            " 0   Customer Id         3069 non-null   object \n",
            " 1   YearOfObservation   3069 non-null   int64  \n",
            " 2   Insured_Period      3069 non-null   float64\n",
            " 3   Residential         3069 non-null   int64  \n",
            " 4   Building_Painted    3069 non-null   object \n",
            " 5   Building_Fenced     3069 non-null   object \n",
            " 6   Garden              3069 non-null   object \n",
            " 7   Settlement          3069 non-null   object \n",
            " 8   Building Dimension  3069 non-null   float64\n",
            " 9   Building_Type       3069 non-null   int64  \n",
            " 10  Date_of_Occupancy   3069 non-null   float64\n",
            " 11  NumberOfWindows     3069 non-null   object \n",
            " 12  Geo_Code            3069 non-null   object \n",
            "dtypes: float64(3), int64(3), object(7)\n",
            "memory usage: 311.8+ KB\n"
          ]
        }
      ],
      "source": [
        "#Handling the missing values using imputation since the dataset is small\n",
        "df2 = df2\n",
        "df2['Building Dimension']=df2['Building Dimension'].fillna(df2['Building Dimension'].median())\n",
        "df2['Date_of_Occupancy']=df2['Date_of_Occupancy'].fillna(df2['Date_of_Occupancy'].median())\n",
        "df2['Garden']=df2['Garden'].fillna(df2['Garden'].mode().iloc[0])\n",
        "df2['Geo_Code']=df2['Geo_Code'].fillna(df2['Geo_Code'].mode().iloc[0])\n",
        "df2.info()"
      ]
    },
    {
      "cell_type": "code",
      "execution_count": 88,
      "metadata": {
        "id": "Av1VdaGtGP4K"
      },
      "outputs": [],
      "source": [
        "columns_to_drop = ['NumberOfWindows','Geo_Code']\n",
        "df2 = df2.drop(columns=columns_to_drop, axis=1)"
      ]
    },
    {
      "cell_type": "code",
      "execution_count": 89,
      "metadata": {
        "id": "c-B_MYegGP9U",
        "colab": {
          "base_uri": "https://localhost:8080/"
        },
        "outputId": "5cd76888-3c14-4bf0-f5c7-1106bdf54561"
      },
      "outputs": [
        {
          "output_type": "execute_result",
          "data": {
            "text/plain": [
              "Index(['Customer Id', 'YearOfObservation', 'Insured_Period', 'Residential',\n",
              "       'Building_Painted', 'Building_Fenced', 'Garden', 'Settlement',\n",
              "       'Building Dimension', 'Building_Type', 'Date_of_Occupancy'],\n",
              "      dtype='object')"
            ]
          },
          "metadata": {},
          "execution_count": 89
        }
      ],
      "source": [
        "df2.columns"
      ]
    },
    {
      "cell_type": "markdown",
      "metadata": {
        "id": "HdJPEPVzG6Q3"
      },
      "source": [
        "**Label Encoding**"
      ]
    },
    {
      "cell_type": "code",
      "source": [
        "# Create a LabelEncoder\n",
        "label_encoder = LabelEncoder()\n",
        "\n",
        "# Encode categorical columns\n",
        "categorical_columns = [\"Building_Painted\", \"Building_Fenced\", \"Garden\", \"Settlement\"]\n",
        "for column in categorical_columns:\n",
        "  df2[column] = label_encoder.fit_transform(df2[column])"
      ],
      "metadata": {
        "id": "ct4HJko17LKv"
      },
      "execution_count": 90,
      "outputs": []
    },
    {
      "cell_type": "code",
      "execution_count": 91,
      "metadata": {
        "id": "yQr1Zn5IGQDU",
        "colab": {
          "base_uri": "https://localhost:8080/",
          "height": 243
        },
        "outputId": "761b3803-8424-4eb5-dbd2-7db40e162488"
      },
      "outputs": [
        {
          "output_type": "execute_result",
          "data": {
            "text/plain": [
              "  Customer Id  YearOfObservation  Insured_Period  Residential  \\\n",
              "0      H11920               2013        1.000000            0   \n",
              "1      H11921               2016        0.997268            0   \n",
              "2       H9805               2013        0.369863            0   \n",
              "3       H7493               2014        1.000000            0   \n",
              "4       H7494               2016        1.000000            0   \n",
              "\n",
              "   Building_Painted  Building_Fenced  Garden  Settlement  Building Dimension  \\\n",
              "0                 1                0       0           0               300.0   \n",
              "1                 1                0       0           0               300.0   \n",
              "2                 1                1       1           1               790.0   \n",
              "3                 1                0       0           0              1405.0   \n",
              "4                 1                0       0           0              1405.0   \n",
              "\n",
              "   Building_Type  Date_of_Occupancy  \n",
              "0              1             1960.0  \n",
              "1              1             1960.0  \n",
              "2              1             1960.0  \n",
              "3              1             2004.0  \n",
              "4              1             2004.0  "
            ],
            "text/html": [
              "\n",
              "  <div id=\"df-a0546f66-2874-4ff5-a952-724830c8b5d1\" class=\"colab-df-container\">\n",
              "    <div>\n",
              "<style scoped>\n",
              "    .dataframe tbody tr th:only-of-type {\n",
              "        vertical-align: middle;\n",
              "    }\n",
              "\n",
              "    .dataframe tbody tr th {\n",
              "        vertical-align: top;\n",
              "    }\n",
              "\n",
              "    .dataframe thead th {\n",
              "        text-align: right;\n",
              "    }\n",
              "</style>\n",
              "<table border=\"1\" class=\"dataframe\">\n",
              "  <thead>\n",
              "    <tr style=\"text-align: right;\">\n",
              "      <th></th>\n",
              "      <th>Customer Id</th>\n",
              "      <th>YearOfObservation</th>\n",
              "      <th>Insured_Period</th>\n",
              "      <th>Residential</th>\n",
              "      <th>Building_Painted</th>\n",
              "      <th>Building_Fenced</th>\n",
              "      <th>Garden</th>\n",
              "      <th>Settlement</th>\n",
              "      <th>Building Dimension</th>\n",
              "      <th>Building_Type</th>\n",
              "      <th>Date_of_Occupancy</th>\n",
              "    </tr>\n",
              "  </thead>\n",
              "  <tbody>\n",
              "    <tr>\n",
              "      <th>0</th>\n",
              "      <td>H11920</td>\n",
              "      <td>2013</td>\n",
              "      <td>1.000000</td>\n",
              "      <td>0</td>\n",
              "      <td>1</td>\n",
              "      <td>0</td>\n",
              "      <td>0</td>\n",
              "      <td>0</td>\n",
              "      <td>300.0</td>\n",
              "      <td>1</td>\n",
              "      <td>1960.0</td>\n",
              "    </tr>\n",
              "    <tr>\n",
              "      <th>1</th>\n",
              "      <td>H11921</td>\n",
              "      <td>2016</td>\n",
              "      <td>0.997268</td>\n",
              "      <td>0</td>\n",
              "      <td>1</td>\n",
              "      <td>0</td>\n",
              "      <td>0</td>\n",
              "      <td>0</td>\n",
              "      <td>300.0</td>\n",
              "      <td>1</td>\n",
              "      <td>1960.0</td>\n",
              "    </tr>\n",
              "    <tr>\n",
              "      <th>2</th>\n",
              "      <td>H9805</td>\n",
              "      <td>2013</td>\n",
              "      <td>0.369863</td>\n",
              "      <td>0</td>\n",
              "      <td>1</td>\n",
              "      <td>1</td>\n",
              "      <td>1</td>\n",
              "      <td>1</td>\n",
              "      <td>790.0</td>\n",
              "      <td>1</td>\n",
              "      <td>1960.0</td>\n",
              "    </tr>\n",
              "    <tr>\n",
              "      <th>3</th>\n",
              "      <td>H7493</td>\n",
              "      <td>2014</td>\n",
              "      <td>1.000000</td>\n",
              "      <td>0</td>\n",
              "      <td>1</td>\n",
              "      <td>0</td>\n",
              "      <td>0</td>\n",
              "      <td>0</td>\n",
              "      <td>1405.0</td>\n",
              "      <td>1</td>\n",
              "      <td>2004.0</td>\n",
              "    </tr>\n",
              "    <tr>\n",
              "      <th>4</th>\n",
              "      <td>H7494</td>\n",
              "      <td>2016</td>\n",
              "      <td>1.000000</td>\n",
              "      <td>0</td>\n",
              "      <td>1</td>\n",
              "      <td>0</td>\n",
              "      <td>0</td>\n",
              "      <td>0</td>\n",
              "      <td>1405.0</td>\n",
              "      <td>1</td>\n",
              "      <td>2004.0</td>\n",
              "    </tr>\n",
              "  </tbody>\n",
              "</table>\n",
              "</div>\n",
              "    <div class=\"colab-df-buttons\">\n",
              "\n",
              "  <div class=\"colab-df-container\">\n",
              "    <button class=\"colab-df-convert\" onclick=\"convertToInteractive('df-a0546f66-2874-4ff5-a952-724830c8b5d1')\"\n",
              "            title=\"Convert this dataframe to an interactive table.\"\n",
              "            style=\"display:none;\">\n",
              "\n",
              "  <svg xmlns=\"http://www.w3.org/2000/svg\" height=\"24px\" viewBox=\"0 -960 960 960\">\n",
              "    <path d=\"M120-120v-720h720v720H120Zm60-500h600v-160H180v160Zm220 220h160v-160H400v160Zm0 220h160v-160H400v160ZM180-400h160v-160H180v160Zm440 0h160v-160H620v160ZM180-180h160v-160H180v160Zm440 0h160v-160H620v160Z\"/>\n",
              "  </svg>\n",
              "    </button>\n",
              "\n",
              "  <style>\n",
              "    .colab-df-container {\n",
              "      display:flex;\n",
              "      gap: 12px;\n",
              "    }\n",
              "\n",
              "    .colab-df-convert {\n",
              "      background-color: #E8F0FE;\n",
              "      border: none;\n",
              "      border-radius: 50%;\n",
              "      cursor: pointer;\n",
              "      display: none;\n",
              "      fill: #1967D2;\n",
              "      height: 32px;\n",
              "      padding: 0 0 0 0;\n",
              "      width: 32px;\n",
              "    }\n",
              "\n",
              "    .colab-df-convert:hover {\n",
              "      background-color: #E2EBFA;\n",
              "      box-shadow: 0px 1px 2px rgba(60, 64, 67, 0.3), 0px 1px 3px 1px rgba(60, 64, 67, 0.15);\n",
              "      fill: #174EA6;\n",
              "    }\n",
              "\n",
              "    .colab-df-buttons div {\n",
              "      margin-bottom: 4px;\n",
              "    }\n",
              "\n",
              "    [theme=dark] .colab-df-convert {\n",
              "      background-color: #3B4455;\n",
              "      fill: #D2E3FC;\n",
              "    }\n",
              "\n",
              "    [theme=dark] .colab-df-convert:hover {\n",
              "      background-color: #434B5C;\n",
              "      box-shadow: 0px 1px 3px 1px rgba(0, 0, 0, 0.15);\n",
              "      filter: drop-shadow(0px 1px 2px rgba(0, 0, 0, 0.3));\n",
              "      fill: #FFFFFF;\n",
              "    }\n",
              "  </style>\n",
              "\n",
              "    <script>\n",
              "      const buttonEl =\n",
              "        document.querySelector('#df-a0546f66-2874-4ff5-a952-724830c8b5d1 button.colab-df-convert');\n",
              "      buttonEl.style.display =\n",
              "        google.colab.kernel.accessAllowed ? 'block' : 'none';\n",
              "\n",
              "      async function convertToInteractive(key) {\n",
              "        const element = document.querySelector('#df-a0546f66-2874-4ff5-a952-724830c8b5d1');\n",
              "        const dataTable =\n",
              "          await google.colab.kernel.invokeFunction('convertToInteractive',\n",
              "                                                    [key], {});\n",
              "        if (!dataTable) return;\n",
              "\n",
              "        const docLinkHtml = 'Like what you see? Visit the ' +\n",
              "          '<a target=\"_blank\" href=https://colab.research.google.com/notebooks/data_table.ipynb>data table notebook</a>'\n",
              "          + ' to learn more about interactive tables.';\n",
              "        element.innerHTML = '';\n",
              "        dataTable['output_type'] = 'display_data';\n",
              "        await google.colab.output.renderOutput(dataTable, element);\n",
              "        const docLink = document.createElement('div');\n",
              "        docLink.innerHTML = docLinkHtml;\n",
              "        element.appendChild(docLink);\n",
              "      }\n",
              "    </script>\n",
              "  </div>\n",
              "\n",
              "\n",
              "<div id=\"df-66799d5e-282b-4ee8-920c-e013dc1b5216\">\n",
              "  <button class=\"colab-df-quickchart\" onclick=\"quickchart('df-66799d5e-282b-4ee8-920c-e013dc1b5216')\"\n",
              "            title=\"Suggest charts\"\n",
              "            style=\"display:none;\">\n",
              "\n",
              "<svg xmlns=\"http://www.w3.org/2000/svg\" height=\"24px\"viewBox=\"0 0 24 24\"\n",
              "     width=\"24px\">\n",
              "    <g>\n",
              "        <path d=\"M19 3H5c-1.1 0-2 .9-2 2v14c0 1.1.9 2 2 2h14c1.1 0 2-.9 2-2V5c0-1.1-.9-2-2-2zM9 17H7v-7h2v7zm4 0h-2V7h2v10zm4 0h-2v-4h2v4z\"/>\n",
              "    </g>\n",
              "</svg>\n",
              "  </button>\n",
              "\n",
              "<style>\n",
              "  .colab-df-quickchart {\n",
              "      --bg-color: #E8F0FE;\n",
              "      --fill-color: #1967D2;\n",
              "      --hover-bg-color: #E2EBFA;\n",
              "      --hover-fill-color: #174EA6;\n",
              "      --disabled-fill-color: #AAA;\n",
              "      --disabled-bg-color: #DDD;\n",
              "  }\n",
              "\n",
              "  [theme=dark] .colab-df-quickchart {\n",
              "      --bg-color: #3B4455;\n",
              "      --fill-color: #D2E3FC;\n",
              "      --hover-bg-color: #434B5C;\n",
              "      --hover-fill-color: #FFFFFF;\n",
              "      --disabled-bg-color: #3B4455;\n",
              "      --disabled-fill-color: #666;\n",
              "  }\n",
              "\n",
              "  .colab-df-quickchart {\n",
              "    background-color: var(--bg-color);\n",
              "    border: none;\n",
              "    border-radius: 50%;\n",
              "    cursor: pointer;\n",
              "    display: none;\n",
              "    fill: var(--fill-color);\n",
              "    height: 32px;\n",
              "    padding: 0;\n",
              "    width: 32px;\n",
              "  }\n",
              "\n",
              "  .colab-df-quickchart:hover {\n",
              "    background-color: var(--hover-bg-color);\n",
              "    box-shadow: 0 1px 2px rgba(60, 64, 67, 0.3), 0 1px 3px 1px rgba(60, 64, 67, 0.15);\n",
              "    fill: var(--button-hover-fill-color);\n",
              "  }\n",
              "\n",
              "  .colab-df-quickchart-complete:disabled,\n",
              "  .colab-df-quickchart-complete:disabled:hover {\n",
              "    background-color: var(--disabled-bg-color);\n",
              "    fill: var(--disabled-fill-color);\n",
              "    box-shadow: none;\n",
              "  }\n",
              "\n",
              "  .colab-df-spinner {\n",
              "    border: 2px solid var(--fill-color);\n",
              "    border-color: transparent;\n",
              "    border-bottom-color: var(--fill-color);\n",
              "    animation:\n",
              "      spin 1s steps(1) infinite;\n",
              "  }\n",
              "\n",
              "  @keyframes spin {\n",
              "    0% {\n",
              "      border-color: transparent;\n",
              "      border-bottom-color: var(--fill-color);\n",
              "      border-left-color: var(--fill-color);\n",
              "    }\n",
              "    20% {\n",
              "      border-color: transparent;\n",
              "      border-left-color: var(--fill-color);\n",
              "      border-top-color: var(--fill-color);\n",
              "    }\n",
              "    30% {\n",
              "      border-color: transparent;\n",
              "      border-left-color: var(--fill-color);\n",
              "      border-top-color: var(--fill-color);\n",
              "      border-right-color: var(--fill-color);\n",
              "    }\n",
              "    40% {\n",
              "      border-color: transparent;\n",
              "      border-right-color: var(--fill-color);\n",
              "      border-top-color: var(--fill-color);\n",
              "    }\n",
              "    60% {\n",
              "      border-color: transparent;\n",
              "      border-right-color: var(--fill-color);\n",
              "    }\n",
              "    80% {\n",
              "      border-color: transparent;\n",
              "      border-right-color: var(--fill-color);\n",
              "      border-bottom-color: var(--fill-color);\n",
              "    }\n",
              "    90% {\n",
              "      border-color: transparent;\n",
              "      border-bottom-color: var(--fill-color);\n",
              "    }\n",
              "  }\n",
              "</style>\n",
              "\n",
              "  <script>\n",
              "    async function quickchart(key) {\n",
              "      const quickchartButtonEl =\n",
              "        document.querySelector('#' + key + ' button');\n",
              "      quickchartButtonEl.disabled = true;  // To prevent multiple clicks.\n",
              "      quickchartButtonEl.classList.add('colab-df-spinner');\n",
              "      try {\n",
              "        const charts = await google.colab.kernel.invokeFunction(\n",
              "            'suggestCharts', [key], {});\n",
              "      } catch (error) {\n",
              "        console.error('Error during call to suggestCharts:', error);\n",
              "      }\n",
              "      quickchartButtonEl.classList.remove('colab-df-spinner');\n",
              "      quickchartButtonEl.classList.add('colab-df-quickchart-complete');\n",
              "    }\n",
              "    (() => {\n",
              "      let quickchartButtonEl =\n",
              "        document.querySelector('#df-66799d5e-282b-4ee8-920c-e013dc1b5216 button');\n",
              "      quickchartButtonEl.style.display =\n",
              "        google.colab.kernel.accessAllowed ? 'block' : 'none';\n",
              "    })();\n",
              "  </script>\n",
              "</div>\n",
              "    </div>\n",
              "  </div>\n"
            ]
          },
          "metadata": {},
          "execution_count": 91
        }
      ],
      "source": [
        "df2.head()"
      ]
    },
    {
      "cell_type": "markdown",
      "source": [
        " **Making Model predictions**"
      ],
      "metadata": {
        "id": "DszLUK_m_PgD"
      }
    },
    {
      "cell_type": "code",
      "source": [
        "df2.columns"
      ],
      "metadata": {
        "id": "2Q2A9qoThhHX",
        "colab": {
          "base_uri": "https://localhost:8080/"
        },
        "outputId": "84c063b6-e113-4ef8-d01a-0894393384f7"
      },
      "execution_count": 92,
      "outputs": [
        {
          "output_type": "execute_result",
          "data": {
            "text/plain": [
              "Index(['Customer Id', 'YearOfObservation', 'Insured_Period', 'Residential',\n",
              "       'Building_Painted', 'Building_Fenced', 'Garden', 'Settlement',\n",
              "       'Building Dimension', 'Building_Type', 'Date_of_Occupancy'],\n",
              "      dtype='object')"
            ]
          },
          "metadata": {},
          "execution_count": 92
        }
      ]
    },
    {
      "cell_type": "code",
      "source": [
        "features1 = [\"Building Dimension\",\"Insured_Period\",\"Residential\",\"Building_Fenced\",\"Garden\",\"Settlement\",\"Building_Type\",\"YearOfObservation\",\"Date_of_Occupancy\",\"Building_Painted\"]\n",
        "X_pred1 =df2[features1]"
      ],
      "metadata": {
        "id": "ACcNzXu78Kc3"
      },
      "execution_count": 93,
      "outputs": []
    },
    {
      "cell_type": "code",
      "source": [
        "X_pred1.head()"
      ],
      "metadata": {
        "id": "MlSzm83lWrIm",
        "colab": {
          "base_uri": "https://localhost:8080/",
          "height": 243
        },
        "outputId": "1b303745-b4df-4b6e-eb8d-4ee1faaadc60"
      },
      "execution_count": 94,
      "outputs": [
        {
          "output_type": "execute_result",
          "data": {
            "text/plain": [
              "   Building Dimension  Insured_Period  Residential  Building_Fenced  Garden  \\\n",
              "0               300.0        1.000000            0                0       0   \n",
              "1               300.0        0.997268            0                0       0   \n",
              "2               790.0        0.369863            0                1       1   \n",
              "3              1405.0        1.000000            0                0       0   \n",
              "4              1405.0        1.000000            0                0       0   \n",
              "\n",
              "   Settlement  Building_Type  YearOfObservation  Date_of_Occupancy  \\\n",
              "0           0              1               2013             1960.0   \n",
              "1           0              1               2016             1960.0   \n",
              "2           1              1               2013             1960.0   \n",
              "3           0              1               2014             2004.0   \n",
              "4           0              1               2016             2004.0   \n",
              "\n",
              "   Building_Painted  \n",
              "0                 1  \n",
              "1                 1  \n",
              "2                 1  \n",
              "3                 1  \n",
              "4                 1  "
            ],
            "text/html": [
              "\n",
              "  <div id=\"df-0bbe185f-5026-45af-9a10-f0e9460fb1d3\" class=\"colab-df-container\">\n",
              "    <div>\n",
              "<style scoped>\n",
              "    .dataframe tbody tr th:only-of-type {\n",
              "        vertical-align: middle;\n",
              "    }\n",
              "\n",
              "    .dataframe tbody tr th {\n",
              "        vertical-align: top;\n",
              "    }\n",
              "\n",
              "    .dataframe thead th {\n",
              "        text-align: right;\n",
              "    }\n",
              "</style>\n",
              "<table border=\"1\" class=\"dataframe\">\n",
              "  <thead>\n",
              "    <tr style=\"text-align: right;\">\n",
              "      <th></th>\n",
              "      <th>Building Dimension</th>\n",
              "      <th>Insured_Period</th>\n",
              "      <th>Residential</th>\n",
              "      <th>Building_Fenced</th>\n",
              "      <th>Garden</th>\n",
              "      <th>Settlement</th>\n",
              "      <th>Building_Type</th>\n",
              "      <th>YearOfObservation</th>\n",
              "      <th>Date_of_Occupancy</th>\n",
              "      <th>Building_Painted</th>\n",
              "    </tr>\n",
              "  </thead>\n",
              "  <tbody>\n",
              "    <tr>\n",
              "      <th>0</th>\n",
              "      <td>300.0</td>\n",
              "      <td>1.000000</td>\n",
              "      <td>0</td>\n",
              "      <td>0</td>\n",
              "      <td>0</td>\n",
              "      <td>0</td>\n",
              "      <td>1</td>\n",
              "      <td>2013</td>\n",
              "      <td>1960.0</td>\n",
              "      <td>1</td>\n",
              "    </tr>\n",
              "    <tr>\n",
              "      <th>1</th>\n",
              "      <td>300.0</td>\n",
              "      <td>0.997268</td>\n",
              "      <td>0</td>\n",
              "      <td>0</td>\n",
              "      <td>0</td>\n",
              "      <td>0</td>\n",
              "      <td>1</td>\n",
              "      <td>2016</td>\n",
              "      <td>1960.0</td>\n",
              "      <td>1</td>\n",
              "    </tr>\n",
              "    <tr>\n",
              "      <th>2</th>\n",
              "      <td>790.0</td>\n",
              "      <td>0.369863</td>\n",
              "      <td>0</td>\n",
              "      <td>1</td>\n",
              "      <td>1</td>\n",
              "      <td>1</td>\n",
              "      <td>1</td>\n",
              "      <td>2013</td>\n",
              "      <td>1960.0</td>\n",
              "      <td>1</td>\n",
              "    </tr>\n",
              "    <tr>\n",
              "      <th>3</th>\n",
              "      <td>1405.0</td>\n",
              "      <td>1.000000</td>\n",
              "      <td>0</td>\n",
              "      <td>0</td>\n",
              "      <td>0</td>\n",
              "      <td>0</td>\n",
              "      <td>1</td>\n",
              "      <td>2014</td>\n",
              "      <td>2004.0</td>\n",
              "      <td>1</td>\n",
              "    </tr>\n",
              "    <tr>\n",
              "      <th>4</th>\n",
              "      <td>1405.0</td>\n",
              "      <td>1.000000</td>\n",
              "      <td>0</td>\n",
              "      <td>0</td>\n",
              "      <td>0</td>\n",
              "      <td>0</td>\n",
              "      <td>1</td>\n",
              "      <td>2016</td>\n",
              "      <td>2004.0</td>\n",
              "      <td>1</td>\n",
              "    </tr>\n",
              "  </tbody>\n",
              "</table>\n",
              "</div>\n",
              "    <div class=\"colab-df-buttons\">\n",
              "\n",
              "  <div class=\"colab-df-container\">\n",
              "    <button class=\"colab-df-convert\" onclick=\"convertToInteractive('df-0bbe185f-5026-45af-9a10-f0e9460fb1d3')\"\n",
              "            title=\"Convert this dataframe to an interactive table.\"\n",
              "            style=\"display:none;\">\n",
              "\n",
              "  <svg xmlns=\"http://www.w3.org/2000/svg\" height=\"24px\" viewBox=\"0 -960 960 960\">\n",
              "    <path d=\"M120-120v-720h720v720H120Zm60-500h600v-160H180v160Zm220 220h160v-160H400v160Zm0 220h160v-160H400v160ZM180-400h160v-160H180v160Zm440 0h160v-160H620v160ZM180-180h160v-160H180v160Zm440 0h160v-160H620v160Z\"/>\n",
              "  </svg>\n",
              "    </button>\n",
              "\n",
              "  <style>\n",
              "    .colab-df-container {\n",
              "      display:flex;\n",
              "      gap: 12px;\n",
              "    }\n",
              "\n",
              "    .colab-df-convert {\n",
              "      background-color: #E8F0FE;\n",
              "      border: none;\n",
              "      border-radius: 50%;\n",
              "      cursor: pointer;\n",
              "      display: none;\n",
              "      fill: #1967D2;\n",
              "      height: 32px;\n",
              "      padding: 0 0 0 0;\n",
              "      width: 32px;\n",
              "    }\n",
              "\n",
              "    .colab-df-convert:hover {\n",
              "      background-color: #E2EBFA;\n",
              "      box-shadow: 0px 1px 2px rgba(60, 64, 67, 0.3), 0px 1px 3px 1px rgba(60, 64, 67, 0.15);\n",
              "      fill: #174EA6;\n",
              "    }\n",
              "\n",
              "    .colab-df-buttons div {\n",
              "      margin-bottom: 4px;\n",
              "    }\n",
              "\n",
              "    [theme=dark] .colab-df-convert {\n",
              "      background-color: #3B4455;\n",
              "      fill: #D2E3FC;\n",
              "    }\n",
              "\n",
              "    [theme=dark] .colab-df-convert:hover {\n",
              "      background-color: #434B5C;\n",
              "      box-shadow: 0px 1px 3px 1px rgba(0, 0, 0, 0.15);\n",
              "      filter: drop-shadow(0px 1px 2px rgba(0, 0, 0, 0.3));\n",
              "      fill: #FFFFFF;\n",
              "    }\n",
              "  </style>\n",
              "\n",
              "    <script>\n",
              "      const buttonEl =\n",
              "        document.querySelector('#df-0bbe185f-5026-45af-9a10-f0e9460fb1d3 button.colab-df-convert');\n",
              "      buttonEl.style.display =\n",
              "        google.colab.kernel.accessAllowed ? 'block' : 'none';\n",
              "\n",
              "      async function convertToInteractive(key) {\n",
              "        const element = document.querySelector('#df-0bbe185f-5026-45af-9a10-f0e9460fb1d3');\n",
              "        const dataTable =\n",
              "          await google.colab.kernel.invokeFunction('convertToInteractive',\n",
              "                                                    [key], {});\n",
              "        if (!dataTable) return;\n",
              "\n",
              "        const docLinkHtml = 'Like what you see? Visit the ' +\n",
              "          '<a target=\"_blank\" href=https://colab.research.google.com/notebooks/data_table.ipynb>data table notebook</a>'\n",
              "          + ' to learn more about interactive tables.';\n",
              "        element.innerHTML = '';\n",
              "        dataTable['output_type'] = 'display_data';\n",
              "        await google.colab.output.renderOutput(dataTable, element);\n",
              "        const docLink = document.createElement('div');\n",
              "        docLink.innerHTML = docLinkHtml;\n",
              "        element.appendChild(docLink);\n",
              "      }\n",
              "    </script>\n",
              "  </div>\n",
              "\n",
              "\n",
              "<div id=\"df-f6036f80-9404-44c6-9d65-54892c0a4b10\">\n",
              "  <button class=\"colab-df-quickchart\" onclick=\"quickchart('df-f6036f80-9404-44c6-9d65-54892c0a4b10')\"\n",
              "            title=\"Suggest charts\"\n",
              "            style=\"display:none;\">\n",
              "\n",
              "<svg xmlns=\"http://www.w3.org/2000/svg\" height=\"24px\"viewBox=\"0 0 24 24\"\n",
              "     width=\"24px\">\n",
              "    <g>\n",
              "        <path d=\"M19 3H5c-1.1 0-2 .9-2 2v14c0 1.1.9 2 2 2h14c1.1 0 2-.9 2-2V5c0-1.1-.9-2-2-2zM9 17H7v-7h2v7zm4 0h-2V7h2v10zm4 0h-2v-4h2v4z\"/>\n",
              "    </g>\n",
              "</svg>\n",
              "  </button>\n",
              "\n",
              "<style>\n",
              "  .colab-df-quickchart {\n",
              "      --bg-color: #E8F0FE;\n",
              "      --fill-color: #1967D2;\n",
              "      --hover-bg-color: #E2EBFA;\n",
              "      --hover-fill-color: #174EA6;\n",
              "      --disabled-fill-color: #AAA;\n",
              "      --disabled-bg-color: #DDD;\n",
              "  }\n",
              "\n",
              "  [theme=dark] .colab-df-quickchart {\n",
              "      --bg-color: #3B4455;\n",
              "      --fill-color: #D2E3FC;\n",
              "      --hover-bg-color: #434B5C;\n",
              "      --hover-fill-color: #FFFFFF;\n",
              "      --disabled-bg-color: #3B4455;\n",
              "      --disabled-fill-color: #666;\n",
              "  }\n",
              "\n",
              "  .colab-df-quickchart {\n",
              "    background-color: var(--bg-color);\n",
              "    border: none;\n",
              "    border-radius: 50%;\n",
              "    cursor: pointer;\n",
              "    display: none;\n",
              "    fill: var(--fill-color);\n",
              "    height: 32px;\n",
              "    padding: 0;\n",
              "    width: 32px;\n",
              "  }\n",
              "\n",
              "  .colab-df-quickchart:hover {\n",
              "    background-color: var(--hover-bg-color);\n",
              "    box-shadow: 0 1px 2px rgba(60, 64, 67, 0.3), 0 1px 3px 1px rgba(60, 64, 67, 0.15);\n",
              "    fill: var(--button-hover-fill-color);\n",
              "  }\n",
              "\n",
              "  .colab-df-quickchart-complete:disabled,\n",
              "  .colab-df-quickchart-complete:disabled:hover {\n",
              "    background-color: var(--disabled-bg-color);\n",
              "    fill: var(--disabled-fill-color);\n",
              "    box-shadow: none;\n",
              "  }\n",
              "\n",
              "  .colab-df-spinner {\n",
              "    border: 2px solid var(--fill-color);\n",
              "    border-color: transparent;\n",
              "    border-bottom-color: var(--fill-color);\n",
              "    animation:\n",
              "      spin 1s steps(1) infinite;\n",
              "  }\n",
              "\n",
              "  @keyframes spin {\n",
              "    0% {\n",
              "      border-color: transparent;\n",
              "      border-bottom-color: var(--fill-color);\n",
              "      border-left-color: var(--fill-color);\n",
              "    }\n",
              "    20% {\n",
              "      border-color: transparent;\n",
              "      border-left-color: var(--fill-color);\n",
              "      border-top-color: var(--fill-color);\n",
              "    }\n",
              "    30% {\n",
              "      border-color: transparent;\n",
              "      border-left-color: var(--fill-color);\n",
              "      border-top-color: var(--fill-color);\n",
              "      border-right-color: var(--fill-color);\n",
              "    }\n",
              "    40% {\n",
              "      border-color: transparent;\n",
              "      border-right-color: var(--fill-color);\n",
              "      border-top-color: var(--fill-color);\n",
              "    }\n",
              "    60% {\n",
              "      border-color: transparent;\n",
              "      border-right-color: var(--fill-color);\n",
              "    }\n",
              "    80% {\n",
              "      border-color: transparent;\n",
              "      border-right-color: var(--fill-color);\n",
              "      border-bottom-color: var(--fill-color);\n",
              "    }\n",
              "    90% {\n",
              "      border-color: transparent;\n",
              "      border-bottom-color: var(--fill-color);\n",
              "    }\n",
              "  }\n",
              "</style>\n",
              "\n",
              "  <script>\n",
              "    async function quickchart(key) {\n",
              "      const quickchartButtonEl =\n",
              "        document.querySelector('#' + key + ' button');\n",
              "      quickchartButtonEl.disabled = true;  // To prevent multiple clicks.\n",
              "      quickchartButtonEl.classList.add('colab-df-spinner');\n",
              "      try {\n",
              "        const charts = await google.colab.kernel.invokeFunction(\n",
              "            'suggestCharts', [key], {});\n",
              "      } catch (error) {\n",
              "        console.error('Error during call to suggestCharts:', error);\n",
              "      }\n",
              "      quickchartButtonEl.classList.remove('colab-df-spinner');\n",
              "      quickchartButtonEl.classList.add('colab-df-quickchart-complete');\n",
              "    }\n",
              "    (() => {\n",
              "      let quickchartButtonEl =\n",
              "        document.querySelector('#df-f6036f80-9404-44c6-9d65-54892c0a4b10 button');\n",
              "      quickchartButtonEl.style.display =\n",
              "        google.colab.kernel.accessAllowed ? 'block' : 'none';\n",
              "    })();\n",
              "  </script>\n",
              "</div>\n",
              "    </div>\n",
              "  </div>\n"
            ]
          },
          "metadata": {},
          "execution_count": 94
        }
      ]
    },
    {
      "cell_type": "code",
      "source": [
        "# Assuming you have a pipeline with a StandardScaler\n",
        "from sklearn.pipeline import Pipeline\n",
        "from sklearn.preprocessing import StandardScaler\n",
        "pipeline = Pipeline([\n",
        "    ('scaler', StandardScaler()),\n",
        "    # Add other steps as needed\n",
        "])\n",
        "pipeline.fit(X_pred1)\n",
        "\n",
        "scaled_X_pred1 = pipeline.transform(X_pred1)"
      ],
      "metadata": {
        "id": "4CdSpVZ7m9XQ"
      },
      "execution_count": 95,
      "outputs": []
    },
    {
      "cell_type": "markdown",
      "source": [
        "**Predictions for SVM model**"
      ],
      "metadata": {
        "id": "ZmMMeyxqIm-r"
      }
    },
    {
      "cell_type": "code",
      "source": [
        "# Make predictions using the trained SVM model\n",
        "predictions = model_svc.predict(scaled_X_pred1)\n",
        "\n",
        "# Create a new DataFrame with the predictions\n",
        "output_df = pd.DataFrame({'Predictions': predictions})\n",
        "\n",
        "# Assuming df2 has a column named 'Customer ID'\n",
        "customer_ids = df2[\"Customer Id\"]\n",
        "\n",
        "# Create a DataFrame with Customer ID and Predictions\n",
        "output_df = pd.DataFrame({'Customer ID': customer_ids, 'Predictions': predictions})\n",
        "\n",
        "# Print the predictions\n",
        "print(output_df)"
      ],
      "metadata": {
        "id": "T-Td1EeuirvX",
        "colab": {
          "base_uri": "https://localhost:8080/"
        },
        "outputId": "2486d0e5-c4fe-4226-bed6-75b0f464551a"
      },
      "execution_count": 96,
      "outputs": [
        {
          "output_type": "stream",
          "name": "stdout",
          "text": [
            "     Customer ID  Predictions\n",
            "0         H11920            0\n",
            "1         H11921            0\n",
            "2          H9805            0\n",
            "3          H7493            0\n",
            "4          H7494            0\n",
            "...          ...          ...\n",
            "3064      H11583            0\n",
            "3065      H11720            0\n",
            "3066      H11721            0\n",
            "3067      H12408            0\n",
            "3068       H9021            0\n",
            "\n",
            "[3069 rows x 2 columns]\n"
          ]
        }
      ]
    },
    {
      "cell_type": "code",
      "source": [
        "# Save the predictions to a CSV file\n",
        "output_df.to_csv('SVM_predictions_output.csv', index=False)"
      ],
      "metadata": {
        "id": "QOk40FXZEVbH"
      },
      "execution_count": 97,
      "outputs": []
    },
    {
      "cell_type": "markdown",
      "source": [
        "**Predictions for KNN model**"
      ],
      "metadata": {
        "id": "xXRGt7oGIblf"
      }
    },
    {
      "cell_type": "code",
      "source": [
        "# Make predictions using the trained SVM model\n",
        "predictions = knn.predict(scaled_X_pred1)\n",
        "# Create a new DataFrame with the predictions\n",
        "output_df = pd.DataFrame({'Predictions': predictions})\n",
        "# Assuming df2 has a column named 'Customer ID'\n",
        "customer_ids = df2[\"Customer Id\"]\n",
        "# Create a DataFrame with Customer ID and Predictions\n",
        "output_df = pd.DataFrame({'Customer ID': customer_ids, 'Predictions': predictions})\n",
        "# Print the predictions\n",
        "print(output_df)\n",
        "\n"
      ],
      "metadata": {
        "id": "vpJtQxqmkArx",
        "colab": {
          "base_uri": "https://localhost:8080/"
        },
        "outputId": "0f5cf689-f8f7-4885-ab3e-4bd30024556a"
      },
      "execution_count": 98,
      "outputs": [
        {
          "output_type": "stream",
          "name": "stdout",
          "text": [
            "     Customer ID  Predictions\n",
            "0         H11920            0\n",
            "1         H11921            0\n",
            "2          H9805            0\n",
            "3          H7493            0\n",
            "4          H7494            0\n",
            "...          ...          ...\n",
            "3064      H11583            0\n",
            "3065      H11720            0\n",
            "3066      H11721            0\n",
            "3067      H12408            0\n",
            "3068       H9021            0\n",
            "\n",
            "[3069 rows x 2 columns]\n"
          ]
        }
      ]
    },
    {
      "cell_type": "code",
      "source": [
        "# Save the predictions to a CSV file\n",
        "output_df.to_csv('KNN_predictions_output.csv', index=False)"
      ],
      "metadata": {
        "id": "ui-VvNLekIdb"
      },
      "execution_count": 99,
      "outputs": []
    },
    {
      "cell_type": "markdown",
      "source": [
        "**Predictions for Naive Bayes Model**"
      ],
      "metadata": {
        "id": "S_nmonvXIDgP"
      }
    },
    {
      "cell_type": "code",
      "source": [
        "# Make predictions using the trained SVM model\n",
        "predictions = classifier.predict(scaled_X_pred1)\n",
        "# Create a new DataFrame with the predictions\n",
        "output_df = pd.DataFrame({'Predictions': predictions})\n",
        "# Assuming df2 has a column named 'Customer ID'\n",
        "customer_ids = df2[\"Customer Id\"]\n",
        "# Create a DataFrame with Customer ID and Predictions\n",
        "output_df = pd.DataFrame({'Customer ID': customer_ids, 'Predictions': predictions})\n",
        "# Print the predictions\n",
        "print(output_df)\n"
      ],
      "metadata": {
        "id": "TbuEPeTYo8bC",
        "colab": {
          "base_uri": "https://localhost:8080/"
        },
        "outputId": "a834332e-de4b-4a14-daec-c8a2595624b1"
      },
      "execution_count": 100,
      "outputs": [
        {
          "output_type": "stream",
          "name": "stdout",
          "text": [
            "     Customer ID  Predictions\n",
            "0         H11920            0\n",
            "1         H11921            0\n",
            "2          H9805            0\n",
            "3          H7493            0\n",
            "4          H7494            0\n",
            "...          ...          ...\n",
            "3064      H11583            0\n",
            "3065      H11720            0\n",
            "3066      H11721            0\n",
            "3067      H12408            0\n",
            "3068       H9021            0\n",
            "\n",
            "[3069 rows x 2 columns]\n"
          ]
        }
      ]
    },
    {
      "cell_type": "code",
      "source": [
        "# Save the predictions to a CSV file\n",
        "output_df.to_csv('Naive Bayes_predictions_output.csv', index=False)"
      ],
      "metadata": {
        "id": "xMU1mYAn1ELN"
      },
      "execution_count": 101,
      "outputs": []
    },
    {
      "cell_type": "markdown",
      "source": [
        "**Predictions for Linear Regression model**"
      ],
      "metadata": {
        "id": "Wmjo6fyPH5Mv"
      }
    },
    {
      "cell_type": "code",
      "source": [
        "# Assuming you have a threshold value (e.g., 0.5)\n",
        "threshold = 0.5\n",
        "\n",
        "# Make predictions using the trained SVM model\n",
        "predictions = model.predict(scaled_X_pred1)\n",
        "\n",
        "# Convert the predictions to binary based on the threshold\n",
        "binary_predictions = (predictions > threshold).astype(int)\n",
        "\n",
        "# Assuming df2 has a column named 'Customer ID'\n",
        "customer_ids = df2[\"Customer Id\"]\n",
        "\n",
        "# Create a DataFrame with Customer ID and Binary Predictions\n",
        "output_df = pd.DataFrame({'Customer ID': customer_ids, 'Predictions': binary_predictions})\n",
        "\n",
        "# Print the binary predictions\n",
        "print(output_df)"
      ],
      "metadata": {
        "colab": {
          "base_uri": "https://localhost:8080/"
        },
        "id": "UurWRiSuUC7H",
        "outputId": "a63a0f2f-eec0-4be2-9a5b-eca2b9625714"
      },
      "execution_count": 102,
      "outputs": [
        {
          "output_type": "stream",
          "name": "stdout",
          "text": [
            "     Customer ID  Predictions\n",
            "0         H11920            1\n",
            "1         H11921            1\n",
            "2          H9805            1\n",
            "3          H7493            1\n",
            "4          H7494            1\n",
            "...          ...          ...\n",
            "3064      H11583            1\n",
            "3065      H11720            1\n",
            "3066      H11721            1\n",
            "3067      H12408            1\n",
            "3068       H9021            1\n",
            "\n",
            "[3069 rows x 2 columns]\n"
          ]
        }
      ]
    },
    {
      "cell_type": "code",
      "source": [
        "# Save the predictions to a CSV file\n",
        "output_df.to_csv('Linear Regression_predictions_output.csv', index=False)"
      ],
      "metadata": {
        "id": "-BihuEliG63c"
      },
      "execution_count": 103,
      "outputs": []
    },
    {
      "cell_type": "code",
      "source": [
        "#Scores of the different models\n",
        "models = pd.DataFrame({\n",
        "    'Model': ['Support Vector Machines','Linear Regression', 'KNN','Naive Bayes'],\n",
        "   'Score': [svm, r2 , sc,accuracy_test]})\n",
        "models.sort_values(by='Score', ascending=False)"
      ],
      "metadata": {
        "id": "pbyo-cLyq0E6",
        "colab": {
          "base_uri": "https://localhost:8080/",
          "height": 174
        },
        "outputId": "7a9f30d4-c79d-4e21-af4b-0beeae299b89"
      },
      "execution_count": 104,
      "outputs": [
        {
          "output_type": "execute_result",
          "data": {
            "text/plain": [
              "                     Model     Score\n",
              "3              Naive Bayes  0.783170\n",
              "2                      KNN  0.774441\n",
              "0  Support Vector Machines  0.773045\n",
              "1        Linear Regression  0.108971"
            ],
            "text/html": [
              "\n",
              "  <div id=\"df-5573b3f1-4f54-4bbc-a863-72ef550cd9e2\" class=\"colab-df-container\">\n",
              "    <div>\n",
              "<style scoped>\n",
              "    .dataframe tbody tr th:only-of-type {\n",
              "        vertical-align: middle;\n",
              "    }\n",
              "\n",
              "    .dataframe tbody tr th {\n",
              "        vertical-align: top;\n",
              "    }\n",
              "\n",
              "    .dataframe thead th {\n",
              "        text-align: right;\n",
              "    }\n",
              "</style>\n",
              "<table border=\"1\" class=\"dataframe\">\n",
              "  <thead>\n",
              "    <tr style=\"text-align: right;\">\n",
              "      <th></th>\n",
              "      <th>Model</th>\n",
              "      <th>Score</th>\n",
              "    </tr>\n",
              "  </thead>\n",
              "  <tbody>\n",
              "    <tr>\n",
              "      <th>3</th>\n",
              "      <td>Naive Bayes</td>\n",
              "      <td>0.783170</td>\n",
              "    </tr>\n",
              "    <tr>\n",
              "      <th>2</th>\n",
              "      <td>KNN</td>\n",
              "      <td>0.774441</td>\n",
              "    </tr>\n",
              "    <tr>\n",
              "      <th>0</th>\n",
              "      <td>Support Vector Machines</td>\n",
              "      <td>0.773045</td>\n",
              "    </tr>\n",
              "    <tr>\n",
              "      <th>1</th>\n",
              "      <td>Linear Regression</td>\n",
              "      <td>0.108971</td>\n",
              "    </tr>\n",
              "  </tbody>\n",
              "</table>\n",
              "</div>\n",
              "    <div class=\"colab-df-buttons\">\n",
              "\n",
              "  <div class=\"colab-df-container\">\n",
              "    <button class=\"colab-df-convert\" onclick=\"convertToInteractive('df-5573b3f1-4f54-4bbc-a863-72ef550cd9e2')\"\n",
              "            title=\"Convert this dataframe to an interactive table.\"\n",
              "            style=\"display:none;\">\n",
              "\n",
              "  <svg xmlns=\"http://www.w3.org/2000/svg\" height=\"24px\" viewBox=\"0 -960 960 960\">\n",
              "    <path d=\"M120-120v-720h720v720H120Zm60-500h600v-160H180v160Zm220 220h160v-160H400v160Zm0 220h160v-160H400v160ZM180-400h160v-160H180v160Zm440 0h160v-160H620v160ZM180-180h160v-160H180v160Zm440 0h160v-160H620v160Z\"/>\n",
              "  </svg>\n",
              "    </button>\n",
              "\n",
              "  <style>\n",
              "    .colab-df-container {\n",
              "      display:flex;\n",
              "      gap: 12px;\n",
              "    }\n",
              "\n",
              "    .colab-df-convert {\n",
              "      background-color: #E8F0FE;\n",
              "      border: none;\n",
              "      border-radius: 50%;\n",
              "      cursor: pointer;\n",
              "      display: none;\n",
              "      fill: #1967D2;\n",
              "      height: 32px;\n",
              "      padding: 0 0 0 0;\n",
              "      width: 32px;\n",
              "    }\n",
              "\n",
              "    .colab-df-convert:hover {\n",
              "      background-color: #E2EBFA;\n",
              "      box-shadow: 0px 1px 2px rgba(60, 64, 67, 0.3), 0px 1px 3px 1px rgba(60, 64, 67, 0.15);\n",
              "      fill: #174EA6;\n",
              "    }\n",
              "\n",
              "    .colab-df-buttons div {\n",
              "      margin-bottom: 4px;\n",
              "    }\n",
              "\n",
              "    [theme=dark] .colab-df-convert {\n",
              "      background-color: #3B4455;\n",
              "      fill: #D2E3FC;\n",
              "    }\n",
              "\n",
              "    [theme=dark] .colab-df-convert:hover {\n",
              "      background-color: #434B5C;\n",
              "      box-shadow: 0px 1px 3px 1px rgba(0, 0, 0, 0.15);\n",
              "      filter: drop-shadow(0px 1px 2px rgba(0, 0, 0, 0.3));\n",
              "      fill: #FFFFFF;\n",
              "    }\n",
              "  </style>\n",
              "\n",
              "    <script>\n",
              "      const buttonEl =\n",
              "        document.querySelector('#df-5573b3f1-4f54-4bbc-a863-72ef550cd9e2 button.colab-df-convert');\n",
              "      buttonEl.style.display =\n",
              "        google.colab.kernel.accessAllowed ? 'block' : 'none';\n",
              "\n",
              "      async function convertToInteractive(key) {\n",
              "        const element = document.querySelector('#df-5573b3f1-4f54-4bbc-a863-72ef550cd9e2');\n",
              "        const dataTable =\n",
              "          await google.colab.kernel.invokeFunction('convertToInteractive',\n",
              "                                                    [key], {});\n",
              "        if (!dataTable) return;\n",
              "\n",
              "        const docLinkHtml = 'Like what you see? Visit the ' +\n",
              "          '<a target=\"_blank\" href=https://colab.research.google.com/notebooks/data_table.ipynb>data table notebook</a>'\n",
              "          + ' to learn more about interactive tables.';\n",
              "        element.innerHTML = '';\n",
              "        dataTable['output_type'] = 'display_data';\n",
              "        await google.colab.output.renderOutput(dataTable, element);\n",
              "        const docLink = document.createElement('div');\n",
              "        docLink.innerHTML = docLinkHtml;\n",
              "        element.appendChild(docLink);\n",
              "      }\n",
              "    </script>\n",
              "  </div>\n",
              "\n",
              "\n",
              "<div id=\"df-3c88e434-a420-45df-8f72-7503872334e6\">\n",
              "  <button class=\"colab-df-quickchart\" onclick=\"quickchart('df-3c88e434-a420-45df-8f72-7503872334e6')\"\n",
              "            title=\"Suggest charts\"\n",
              "            style=\"display:none;\">\n",
              "\n",
              "<svg xmlns=\"http://www.w3.org/2000/svg\" height=\"24px\"viewBox=\"0 0 24 24\"\n",
              "     width=\"24px\">\n",
              "    <g>\n",
              "        <path d=\"M19 3H5c-1.1 0-2 .9-2 2v14c0 1.1.9 2 2 2h14c1.1 0 2-.9 2-2V5c0-1.1-.9-2-2-2zM9 17H7v-7h2v7zm4 0h-2V7h2v10zm4 0h-2v-4h2v4z\"/>\n",
              "    </g>\n",
              "</svg>\n",
              "  </button>\n",
              "\n",
              "<style>\n",
              "  .colab-df-quickchart {\n",
              "      --bg-color: #E8F0FE;\n",
              "      --fill-color: #1967D2;\n",
              "      --hover-bg-color: #E2EBFA;\n",
              "      --hover-fill-color: #174EA6;\n",
              "      --disabled-fill-color: #AAA;\n",
              "      --disabled-bg-color: #DDD;\n",
              "  }\n",
              "\n",
              "  [theme=dark] .colab-df-quickchart {\n",
              "      --bg-color: #3B4455;\n",
              "      --fill-color: #D2E3FC;\n",
              "      --hover-bg-color: #434B5C;\n",
              "      --hover-fill-color: #FFFFFF;\n",
              "      --disabled-bg-color: #3B4455;\n",
              "      --disabled-fill-color: #666;\n",
              "  }\n",
              "\n",
              "  .colab-df-quickchart {\n",
              "    background-color: var(--bg-color);\n",
              "    border: none;\n",
              "    border-radius: 50%;\n",
              "    cursor: pointer;\n",
              "    display: none;\n",
              "    fill: var(--fill-color);\n",
              "    height: 32px;\n",
              "    padding: 0;\n",
              "    width: 32px;\n",
              "  }\n",
              "\n",
              "  .colab-df-quickchart:hover {\n",
              "    background-color: var(--hover-bg-color);\n",
              "    box-shadow: 0 1px 2px rgba(60, 64, 67, 0.3), 0 1px 3px 1px rgba(60, 64, 67, 0.15);\n",
              "    fill: var(--button-hover-fill-color);\n",
              "  }\n",
              "\n",
              "  .colab-df-quickchart-complete:disabled,\n",
              "  .colab-df-quickchart-complete:disabled:hover {\n",
              "    background-color: var(--disabled-bg-color);\n",
              "    fill: var(--disabled-fill-color);\n",
              "    box-shadow: none;\n",
              "  }\n",
              "\n",
              "  .colab-df-spinner {\n",
              "    border: 2px solid var(--fill-color);\n",
              "    border-color: transparent;\n",
              "    border-bottom-color: var(--fill-color);\n",
              "    animation:\n",
              "      spin 1s steps(1) infinite;\n",
              "  }\n",
              "\n",
              "  @keyframes spin {\n",
              "    0% {\n",
              "      border-color: transparent;\n",
              "      border-bottom-color: var(--fill-color);\n",
              "      border-left-color: var(--fill-color);\n",
              "    }\n",
              "    20% {\n",
              "      border-color: transparent;\n",
              "      border-left-color: var(--fill-color);\n",
              "      border-top-color: var(--fill-color);\n",
              "    }\n",
              "    30% {\n",
              "      border-color: transparent;\n",
              "      border-left-color: var(--fill-color);\n",
              "      border-top-color: var(--fill-color);\n",
              "      border-right-color: var(--fill-color);\n",
              "    }\n",
              "    40% {\n",
              "      border-color: transparent;\n",
              "      border-right-color: var(--fill-color);\n",
              "      border-top-color: var(--fill-color);\n",
              "    }\n",
              "    60% {\n",
              "      border-color: transparent;\n",
              "      border-right-color: var(--fill-color);\n",
              "    }\n",
              "    80% {\n",
              "      border-color: transparent;\n",
              "      border-right-color: var(--fill-color);\n",
              "      border-bottom-color: var(--fill-color);\n",
              "    }\n",
              "    90% {\n",
              "      border-color: transparent;\n",
              "      border-bottom-color: var(--fill-color);\n",
              "    }\n",
              "  }\n",
              "</style>\n",
              "\n",
              "  <script>\n",
              "    async function quickchart(key) {\n",
              "      const quickchartButtonEl =\n",
              "        document.querySelector('#' + key + ' button');\n",
              "      quickchartButtonEl.disabled = true;  // To prevent multiple clicks.\n",
              "      quickchartButtonEl.classList.add('colab-df-spinner');\n",
              "      try {\n",
              "        const charts = await google.colab.kernel.invokeFunction(\n",
              "            'suggestCharts', [key], {});\n",
              "      } catch (error) {\n",
              "        console.error('Error during call to suggestCharts:', error);\n",
              "      }\n",
              "      quickchartButtonEl.classList.remove('colab-df-spinner');\n",
              "      quickchartButtonEl.classList.add('colab-df-quickchart-complete');\n",
              "    }\n",
              "    (() => {\n",
              "      let quickchartButtonEl =\n",
              "        document.querySelector('#df-3c88e434-a420-45df-8f72-7503872334e6 button');\n",
              "      quickchartButtonEl.style.display =\n",
              "        google.colab.kernel.accessAllowed ? 'block' : 'none';\n",
              "    })();\n",
              "  </script>\n",
              "</div>\n",
              "    </div>\n",
              "  </div>\n"
            ]
          },
          "metadata": {},
          "execution_count": 104
        }
      ]
    },
    {
      "cell_type": "code",
      "source": [],
      "metadata": {
        "id": "hWEpj-y7QXml"
      },
      "execution_count": 104,
      "outputs": []
    }
  ],
  "metadata": {
    "colab": {
      "provenance": []
    },
    "kernelspec": {
      "display_name": "Python 3",
      "name": "python3"
    },
    "language_info": {
      "name": "python"
    }
  },
  "nbformat": 4,
  "nbformat_minor": 0
}